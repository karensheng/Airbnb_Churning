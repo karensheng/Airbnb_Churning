{
 "cells": [
  {
   "cell_type": "code",
   "execution_count": 1,
   "metadata": {},
   "outputs": [],
   "source": [
    "# Enable outputting results interactively. \n",
    "# All the results from code in a given cell will be displayed instead of only the last one.\n",
    "\n",
    "from IPython.core.interactiveshell import InteractiveShell\n",
    "InteractiveShell.ast_node_interactivity = \"all\""
   ]
  },
  {
   "cell_type": "code",
   "execution_count": 2,
   "metadata": {},
   "outputs": [],
   "source": [
    "import pandas as pd\n",
    "import re\n",
    "from datetime import datetime\n",
    "\n",
    "from bs4 import BeautifulSoup, SoupStrainer\n",
    "import requests\n",
    "import pickle\n",
    "\n",
    "%matplotlib inline\n",
    "import matplotlib.pyplot as plt\n",
    "import seaborn as sns"
   ]
  },
  {
   "cell_type": "code",
   "execution_count": 3,
   "metadata": {},
   "outputs": [],
   "source": [
    "url = \"http://insideairbnb.com/get-the-data.html\"\n",
    "\n",
    "page = requests.get(url)    \n",
    "data = page.text\n",
    "soup = BeautifulSoup(data)\n",
    "\n",
    "links = []\n",
    "for link in soup.find_all('a'):\n",
    "    links.append(link.get('href'))"
   ]
  },
  {
   "cell_type": "code",
   "execution_count": 4,
   "metadata": {},
   "outputs": [],
   "source": [
    "def gather_links(city,cat):\n",
    "\n",
    "    len(links)\n",
    "    links_df = pd.DataFrame(links, columns = ['link'])\n",
    "    links_df2 = links_df[links_df['link'].str.contains(city)==True]\n",
    "    links_df3 = links_df2[links_df2['link'].str.contains(cat)==True]\n",
    "    return links_df3"
   ]
  },
  {
   "cell_type": "code",
   "execution_count": 5,
   "metadata": {},
   "outputs": [],
   "source": [
    "def readin_gz(dt,cat):\n",
    "    url = 'http://data.insideairbnb.com/united-states/ca/san-francisco/{}/data/{}.csv.gz'.format(str(dt),str(cat))\n",
    "\n",
    "    listings = pd.read_csv(url,compression='gzip',header=0, sep=',', quotechar='\"',dtype= {'zipcode':object})\n",
    "    return listings\n",
    "    "
   ]
  },
  {
   "cell_type": "code",
   "execution_count": 6,
   "metadata": {},
   "outputs": [
    {
     "data": {
      "text/html": [
       "<div>\n",
       "<style scoped>\n",
       "    .dataframe tbody tr th:only-of-type {\n",
       "        vertical-align: middle;\n",
       "    }\n",
       "\n",
       "    .dataframe tbody tr th {\n",
       "        vertical-align: top;\n",
       "    }\n",
       "\n",
       "    .dataframe thead th {\n",
       "        text-align: right;\n",
       "    }\n",
       "</style>\n",
       "<table border=\"1\" class=\"dataframe\">\n",
       "  <thead>\n",
       "    <tr style=\"text-align: right;\">\n",
       "      <th></th>\n",
       "      <th>link</th>\n",
       "      <th>dt</th>\n",
       "    </tr>\n",
       "  </thead>\n",
       "  <tbody>\n",
       "    <tr>\n",
       "      <th>7529</th>\n",
       "      <td>http://data.insideairbnb.com/united-states/ca/...</td>\n",
       "      <td>2019-05-03</td>\n",
       "    </tr>\n",
       "    <tr>\n",
       "      <th>7536</th>\n",
       "      <td>http://data.insideairbnb.com/united-states/ca/...</td>\n",
       "      <td>2019-04-03</td>\n",
       "    </tr>\n",
       "    <tr>\n",
       "      <th>7543</th>\n",
       "      <td>http://data.insideairbnb.com/united-states/ca/...</td>\n",
       "      <td>2019-03-06</td>\n",
       "    </tr>\n",
       "    <tr>\n",
       "      <th>7550</th>\n",
       "      <td>http://data.insideairbnb.com/united-states/ca/...</td>\n",
       "      <td>2019-02-01</td>\n",
       "    </tr>\n",
       "    <tr>\n",
       "      <th>7557</th>\n",
       "      <td>http://data.insideairbnb.com/united-states/ca/...</td>\n",
       "      <td>2019-01-09</td>\n",
       "    </tr>\n",
       "  </tbody>\n",
       "</table>\n",
       "</div>"
      ],
      "text/plain": [
       "                                                   link          dt\n",
       "7529  http://data.insideairbnb.com/united-states/ca/...  2019-05-03\n",
       "7536  http://data.insideairbnb.com/united-states/ca/...  2019-04-03\n",
       "7543  http://data.insideairbnb.com/united-states/ca/...  2019-03-06\n",
       "7550  http://data.insideairbnb.com/united-states/ca/...  2019-02-01\n",
       "7557  http://data.insideairbnb.com/united-states/ca/...  2019-01-09"
      ]
     },
     "execution_count": 6,
     "metadata": {},
     "output_type": "execute_result"
    },
    {
     "data": {
      "text/plain": [
       "(45, array(['2019-05-03', '2019-04-03', '2019-03-06', '2019-02-01',\n",
       "        '2019-01-09', '2018-12-06', '2018-11-03', '2018-10-03',\n",
       "        '2018-09-08', '2018-08-06', '2018-07-05', '2018-05-09',\n",
       "        '2018-04-06', '2018-03-04', '2018-02-02', '2018-01-17',\n",
       "        '2018-01-10', '2017-12-07', '2017-12-02', '2017-11-08',\n",
       "        '2017-11-01', '2017-10-02', '2017-09-02', '2017-08-02',\n",
       "        '2017-07-02', '2017-06-02', '2017-05-02', '2017-04-02',\n",
       "        '2017-03-02', '2017-02-02', '2017-01-01', '2016-12-03',\n",
       "        '2016-11-02', '2016-10-01', '2016-09-02', '2016-08-02',\n",
       "        '2016-07-02', '2016-06-02', '2016-05-02', '2016-04-03',\n",
       "        '2016-02-02', '2015-12-02', '2015-11-01', '2015-09-02',\n",
       "        '2015-05-04'], dtype=object))"
      ]
     },
     "execution_count": 6,
     "metadata": {},
     "output_type": "execute_result"
    }
   ],
   "source": [
    "links_sf_listings = gather_links('san-francisco','listings.csv.gz')\n",
    "links_sf_listings['dt'] = [x.split('/')[6] for x in links_sf_listings['link']]\n",
    "links_sf_listings.head()\n",
    "\n",
    "idx = links_sf_listings['dt'].unique()\n",
    "len(idx),idx"
   ]
  },
  {
   "cell_type": "code",
   "execution_count": 7,
   "metadata": {},
   "outputs": [
    {
     "name": "stdout",
     "output_type": "stream",
     "text": [
      "<class 'pandas.core.frame.DataFrame'>\n",
      "RangeIndex: 7353 entries, 0 to 7352\n",
      "Columns: 106 entries, id to reviews_per_month\n",
      "dtypes: float64(23), int64(21), object(62)\n",
      "memory usage: 5.9+ MB\n"
     ]
    }
   ],
   "source": [
    "listings = readin_gz(idx[0],'listings')    \n",
    "listings.info()"
   ]
  },
  {
   "cell_type": "code",
   "execution_count": 8,
   "metadata": {},
   "outputs": [
    {
     "name": "stdout",
     "output_type": "stream",
     "text": [
      "2019-04-03 2019-04-03    7276\n",
      "2019-04-05       1\n",
      "Name: last_scraped, dtype: int64\n",
      "2019-03-06 2019-03-06    7151\n",
      "Name: last_scraped, dtype: int64\n",
      "2019-02-01 2019-02-01    7198\n",
      "Name: last_scraped, dtype: int64\n",
      "2019-01-09 2019-01-09    7251\n",
      "Name: last_scraped, dtype: int64\n",
      "2018-12-06 2018-12-06    7072\n",
      "Name: last_scraped, dtype: int64\n",
      "2018-11-03 2018-11-03    6981\n",
      "Name: last_scraped, dtype: int64\n",
      "2018-10-03 2018-10-03    6807\n",
      "Name: last_scraped, dtype: int64\n",
      "2018-09-08 2018-09-08    6529\n",
      "Name: last_scraped, dtype: int64\n",
      "2018-08-06 2018-08-06    6633\n",
      "Name: last_scraped, dtype: int64\n",
      "2018-07-05 2018-07-05    4693\n",
      "Name: last_scraped, dtype: int64\n",
      "2018-05-09 2018-05-09    4774\n",
      "Name: last_scraped, dtype: int64\n",
      "2018-04-06 2018-04-07    3593\n",
      "2018-04-06    1251\n",
      "Name: last_scraped, dtype: int64\n",
      "2018-03-04 2018-03-04    4802\n",
      "2018-03-06       2\n",
      "Name: last_scraped, dtype: int64\n",
      "2018-02-02 2018-02-02    4727\n",
      "Name: last_scraped, dtype: int64\n",
      "2018-01-17 2018-01-17    5224\n",
      "Name: last_scraped, dtype: int64\n",
      "2018-01-10 2018-01-10    6506\n",
      "Name: last_scraped, dtype: int64\n",
      "2017-12-07 2017-12-07    6650\n",
      "Name: last_scraped, dtype: int64\n",
      "2017-12-02 2017-12-02    6788\n",
      "2017-12-03     152\n",
      "Name: last_scraped, dtype: int64\n",
      "2017-11-08 2017-11-08    6866\n",
      "Name: last_scraped, dtype: int64\n",
      "2017-11-01 2017-11-01    8929\n",
      "Name: last_scraped, dtype: int64\n",
      "2017-10-02 2017-10-02    8933\n",
      "Name: last_scraped, dtype: int64\n",
      "2017-09-02 2017-09-02    8529\n",
      "Name: last_scraped, dtype: int64\n",
      "2017-08-02 2017-08-02    9057\n",
      "Name: last_scraped, dtype: int64\n",
      "2017-07-02 2017-07-02    8854\n",
      "2017-07-03       1\n",
      "Name: last_scraped, dtype: int64\n",
      "2017-06-02 2017-06-02    8799\n",
      "Name: last_scraped, dtype: int64\n",
      "2017-05-02 2017-05-02    8608\n",
      "2017-05-03     162\n",
      "Name: last_scraped, dtype: int64\n",
      "2017-04-02 2017-04-02    8706\n",
      "Name: last_scraped, dtype: int64\n",
      "2017-03-02 2017-03-02    8720\n",
      "Name: last_scraped, dtype: int64\n",
      "2017-02-02 2017-02-02    8777\n",
      "Name: last_scraped, dtype: int64\n",
      "2017-01-01 2017-01-01    9035\n",
      "Name: last_scraped, dtype: int64\n",
      "2016-12-03 2016-12-03    9063\n",
      "2016-12-04       3\n",
      "Name: last_scraped, dtype: int64\n",
      "2016-11-02 2016-11-02    8864\n",
      "Name: last_scraped, dtype: int64\n",
      "2016-10-01 2016-10-01    8759\n",
      "Name: last_scraped, dtype: int64\n",
      "2016-09-02 2016-09-02    8665\n",
      "Name: last_scraped, dtype: int64\n",
      "2016-08-02 2016-08-02    8501\n",
      "2016-08-03     109\n",
      "Name: last_scraped, dtype: int64\n",
      "2016-07-02 2016-07-02    8619\n",
      "Name: last_scraped, dtype: int64\n",
      "2016-06-02 2016-06-02    8440\n",
      "Name: last_scraped, dtype: int64\n",
      "2016-05-02 2016-05-02    8086\n",
      "Name: last_scraped, dtype: int64\n",
      "2016-04-03 2016-04-03    8012\n",
      "Name: last_scraped, dtype: int64\n",
      "2016-02-02 2016-02-02    8299\n",
      "Name: last_scraped, dtype: int64\n",
      "2015-12-02 2015-12-02    7165\n",
      "Name: last_scraped, dtype: int64\n",
      "2015-11-01 2015-11-02    6089\n",
      "2015-11-01     940\n",
      "Name: last_scraped, dtype: int64\n",
      "2015-09-02 2015-09-02    6361\n",
      "Name: last_scraped, dtype: int64\n",
      "2015-05-04 2015-05-04    3750\n",
      "2015-05-05    1675\n",
      "Name: last_scraped, dtype: int64\n"
     ]
    }
   ],
   "source": [
    "\n",
    "\n",
    "for i, dt in enumerate(idx[1:]):\n",
    "    df = readin_gz(idx[i+1],'listings')\n",
    "    print(dt,df['last_scraped'].value_counts())\n",
    "    listings = pd.concat([listings, df], ignore_index = True,axis = 0,sort=False)\n",
    "        "
   ]
  },
  {
   "cell_type": "code",
   "execution_count": 9,
   "metadata": {},
   "outputs": [
    {
     "data": {
      "text/plain": [
       "2016-12-03    9063\n",
       "2017-08-02    9057\n",
       "2017-01-01    9035\n",
       "2017-10-02    8933\n",
       "2017-11-01    8929\n",
       "2016-11-02    8864\n",
       "2017-07-02    8854\n",
       "2017-06-02    8799\n",
       "2017-02-02    8777\n",
       "2016-10-01    8759\n",
       "2017-03-02    8720\n",
       "2017-04-02    8706\n",
       "2016-09-02    8665\n",
       "2016-07-02    8619\n",
       "2017-05-02    8608\n",
       "2017-09-02    8529\n",
       "2016-08-02    8501\n",
       "2016-06-02    8440\n",
       "2016-02-02    8299\n",
       "2016-05-02    8086\n",
       "2016-04-03    8012\n",
       "2019-05-03    7353\n",
       "2019-04-03    7276\n",
       "2019-01-09    7251\n",
       "2019-02-01    7198\n",
       "2015-12-02    7165\n",
       "2019-03-06    7151\n",
       "2018-12-06    7072\n",
       "2018-11-03    6981\n",
       "2017-11-08    6866\n",
       "2018-10-03    6807\n",
       "2017-12-02    6788\n",
       "2017-12-07    6650\n",
       "2018-08-06    6633\n",
       "2018-09-08    6529\n",
       "2018-01-10    6506\n",
       "2015-09-02    6361\n",
       "2015-11-02    6089\n",
       "2018-01-17    5224\n",
       "2018-03-04    4802\n",
       "2018-05-09    4774\n",
       "2018-02-02    4727\n",
       "2018-07-05    4693\n",
       "2015-05-04    3750\n",
       "2018-04-07    3593\n",
       "2015-05-05    1675\n",
       "2018-04-06    1251\n",
       "2015-11-01     940\n",
       "2017-05-03     162\n",
       "2017-12-03     152\n",
       "2016-08-03     109\n",
       "2016-12-04       3\n",
       "2018-03-06       2\n",
       "2019-04-05       1\n",
       "2017-07-03       1\n",
       "Name: last_scraped, dtype: int64"
      ]
     },
     "execution_count": 9,
     "metadata": {},
     "output_type": "execute_result"
    }
   ],
   "source": [
    "listings['last_scraped'].value_counts()"
   ]
  },
  {
   "cell_type": "code",
   "execution_count": 10,
   "metadata": {},
   "outputs": [
    {
     "data": {
      "text/plain": [
       "0"
      ]
     },
     "execution_count": 10,
     "metadata": {},
     "output_type": "execute_result"
    },
    {
     "data": {
      "text/plain": [
       "(334790, 106)"
      ]
     },
     "execution_count": 10,
     "metadata": {},
     "output_type": "execute_result"
    }
   ],
   "source": [
    "ls_cols = listings.columns\n",
    "\n",
    "listings['is_duplicated'] = listings.duplicated(ls_cols)\n",
    "listings['is_duplicated'].sum()\n",
    "\n",
    "listings_u = listings[listings['is_duplicated'] == False].drop(['is_duplicated'],axis=1)\n",
    "listings_u.shape"
   ]
  },
  {
   "cell_type": "code",
   "execution_count": 11,
   "metadata": {},
   "outputs": [
    {
     "data": {
      "text/plain": [
       "Index(['zipcode'], dtype='object')"
      ]
     },
     "execution_count": 11,
     "metadata": {},
     "output_type": "execute_result"
    }
   ],
   "source": [
    "ls_cols[43:44]"
   ]
  },
  {
   "cell_type": "code",
   "execution_count": 12,
   "metadata": {},
   "outputs": [
    {
     "data": {
      "text/html": [
       "<div>\n",
       "<style scoped>\n",
       "    .dataframe tbody tr th:only-of-type {\n",
       "        vertical-align: middle;\n",
       "    }\n",
       "\n",
       "    .dataframe tbody tr th {\n",
       "        vertical-align: top;\n",
       "    }\n",
       "\n",
       "    .dataframe thead th {\n",
       "        text-align: right;\n",
       "    }\n",
       "</style>\n",
       "<table border=\"1\" class=\"dataframe\">\n",
       "  <thead>\n",
       "    <tr style=\"text-align: right;\">\n",
       "      <th></th>\n",
       "      <th>last_scraped</th>\n",
       "      <th>Counts</th>\n",
       "    </tr>\n",
       "  </thead>\n",
       "  <tbody>\n",
       "    <tr>\n",
       "      <th>0</th>\n",
       "      <td>2015-05-04</td>\n",
       "      <td>3750</td>\n",
       "    </tr>\n",
       "    <tr>\n",
       "      <th>1</th>\n",
       "      <td>2015-05-05</td>\n",
       "      <td>1675</td>\n",
       "    </tr>\n",
       "    <tr>\n",
       "      <th>121</th>\n",
       "      <td>2015-09-02</td>\n",
       "      <td>6361</td>\n",
       "    </tr>\n",
       "    <tr>\n",
       "      <th>181</th>\n",
       "      <td>2015-11-01</td>\n",
       "      <td>940</td>\n",
       "    </tr>\n",
       "    <tr>\n",
       "      <th>182</th>\n",
       "      <td>2015-11-02</td>\n",
       "      <td>6089</td>\n",
       "    </tr>\n",
       "    <tr>\n",
       "      <th>212</th>\n",
       "      <td>2015-12-02</td>\n",
       "      <td>7165</td>\n",
       "    </tr>\n",
       "    <tr>\n",
       "      <th>274</th>\n",
       "      <td>2016-02-02</td>\n",
       "      <td>8299</td>\n",
       "    </tr>\n",
       "    <tr>\n",
       "      <th>335</th>\n",
       "      <td>2016-04-03</td>\n",
       "      <td>8012</td>\n",
       "    </tr>\n",
       "    <tr>\n",
       "      <th>364</th>\n",
       "      <td>2016-05-02</td>\n",
       "      <td>8086</td>\n",
       "    </tr>\n",
       "    <tr>\n",
       "      <th>395</th>\n",
       "      <td>2016-06-02</td>\n",
       "      <td>8440</td>\n",
       "    </tr>\n",
       "    <tr>\n",
       "      <th>425</th>\n",
       "      <td>2016-07-02</td>\n",
       "      <td>8619</td>\n",
       "    </tr>\n",
       "    <tr>\n",
       "      <th>456</th>\n",
       "      <td>2016-08-02</td>\n",
       "      <td>8501</td>\n",
       "    </tr>\n",
       "    <tr>\n",
       "      <th>457</th>\n",
       "      <td>2016-08-03</td>\n",
       "      <td>109</td>\n",
       "    </tr>\n",
       "    <tr>\n",
       "      <th>487</th>\n",
       "      <td>2016-09-02</td>\n",
       "      <td>8665</td>\n",
       "    </tr>\n",
       "    <tr>\n",
       "      <th>516</th>\n",
       "      <td>2016-10-01</td>\n",
       "      <td>8759</td>\n",
       "    </tr>\n",
       "    <tr>\n",
       "      <th>548</th>\n",
       "      <td>2016-11-02</td>\n",
       "      <td>8864</td>\n",
       "    </tr>\n",
       "    <tr>\n",
       "      <th>579</th>\n",
       "      <td>2016-12-03</td>\n",
       "      <td>9063</td>\n",
       "    </tr>\n",
       "    <tr>\n",
       "      <th>580</th>\n",
       "      <td>2016-12-04</td>\n",
       "      <td>3</td>\n",
       "    </tr>\n",
       "    <tr>\n",
       "      <th>608</th>\n",
       "      <td>2017-01-01</td>\n",
       "      <td>9035</td>\n",
       "    </tr>\n",
       "    <tr>\n",
       "      <th>640</th>\n",
       "      <td>2017-02-02</td>\n",
       "      <td>8777</td>\n",
       "    </tr>\n",
       "    <tr>\n",
       "      <th>668</th>\n",
       "      <td>2017-03-02</td>\n",
       "      <td>8720</td>\n",
       "    </tr>\n",
       "    <tr>\n",
       "      <th>699</th>\n",
       "      <td>2017-04-02</td>\n",
       "      <td>8706</td>\n",
       "    </tr>\n",
       "    <tr>\n",
       "      <th>729</th>\n",
       "      <td>2017-05-02</td>\n",
       "      <td>8608</td>\n",
       "    </tr>\n",
       "    <tr>\n",
       "      <th>730</th>\n",
       "      <td>2017-05-03</td>\n",
       "      <td>162</td>\n",
       "    </tr>\n",
       "    <tr>\n",
       "      <th>760</th>\n",
       "      <td>2017-06-02</td>\n",
       "      <td>8799</td>\n",
       "    </tr>\n",
       "    <tr>\n",
       "      <th>790</th>\n",
       "      <td>2017-07-02</td>\n",
       "      <td>8854</td>\n",
       "    </tr>\n",
       "    <tr>\n",
       "      <th>791</th>\n",
       "      <td>2017-07-03</td>\n",
       "      <td>1</td>\n",
       "    </tr>\n",
       "    <tr>\n",
       "      <th>821</th>\n",
       "      <td>2017-08-02</td>\n",
       "      <td>9057</td>\n",
       "    </tr>\n",
       "    <tr>\n",
       "      <th>852</th>\n",
       "      <td>2017-09-02</td>\n",
       "      <td>8529</td>\n",
       "    </tr>\n",
       "    <tr>\n",
       "      <th>882</th>\n",
       "      <td>2017-10-02</td>\n",
       "      <td>8933</td>\n",
       "    </tr>\n",
       "    <tr>\n",
       "      <th>912</th>\n",
       "      <td>2017-11-01</td>\n",
       "      <td>8929</td>\n",
       "    </tr>\n",
       "    <tr>\n",
       "      <th>919</th>\n",
       "      <td>2017-11-08</td>\n",
       "      <td>6866</td>\n",
       "    </tr>\n",
       "    <tr>\n",
       "      <th>943</th>\n",
       "      <td>2017-12-02</td>\n",
       "      <td>6788</td>\n",
       "    </tr>\n",
       "    <tr>\n",
       "      <th>944</th>\n",
       "      <td>2017-12-03</td>\n",
       "      <td>152</td>\n",
       "    </tr>\n",
       "    <tr>\n",
       "      <th>948</th>\n",
       "      <td>2017-12-07</td>\n",
       "      <td>6650</td>\n",
       "    </tr>\n",
       "    <tr>\n",
       "      <th>982</th>\n",
       "      <td>2018-01-10</td>\n",
       "      <td>6506</td>\n",
       "    </tr>\n",
       "    <tr>\n",
       "      <th>989</th>\n",
       "      <td>2018-01-17</td>\n",
       "      <td>5224</td>\n",
       "    </tr>\n",
       "    <tr>\n",
       "      <th>1005</th>\n",
       "      <td>2018-02-02</td>\n",
       "      <td>4727</td>\n",
       "    </tr>\n",
       "    <tr>\n",
       "      <th>1035</th>\n",
       "      <td>2018-03-04</td>\n",
       "      <td>4802</td>\n",
       "    </tr>\n",
       "    <tr>\n",
       "      <th>1037</th>\n",
       "      <td>2018-03-06</td>\n",
       "      <td>2</td>\n",
       "    </tr>\n",
       "    <tr>\n",
       "      <th>1068</th>\n",
       "      <td>2018-04-06</td>\n",
       "      <td>1251</td>\n",
       "    </tr>\n",
       "    <tr>\n",
       "      <th>1069</th>\n",
       "      <td>2018-04-07</td>\n",
       "      <td>3593</td>\n",
       "    </tr>\n",
       "    <tr>\n",
       "      <th>1101</th>\n",
       "      <td>2018-05-09</td>\n",
       "      <td>4774</td>\n",
       "    </tr>\n",
       "    <tr>\n",
       "      <th>1158</th>\n",
       "      <td>2018-07-05</td>\n",
       "      <td>4693</td>\n",
       "    </tr>\n",
       "    <tr>\n",
       "      <th>1190</th>\n",
       "      <td>2018-08-06</td>\n",
       "      <td>6633</td>\n",
       "    </tr>\n",
       "    <tr>\n",
       "      <th>1223</th>\n",
       "      <td>2018-09-08</td>\n",
       "      <td>6529</td>\n",
       "    </tr>\n",
       "    <tr>\n",
       "      <th>1248</th>\n",
       "      <td>2018-10-03</td>\n",
       "      <td>6807</td>\n",
       "    </tr>\n",
       "    <tr>\n",
       "      <th>1279</th>\n",
       "      <td>2018-11-03</td>\n",
       "      <td>6981</td>\n",
       "    </tr>\n",
       "    <tr>\n",
       "      <th>1312</th>\n",
       "      <td>2018-12-06</td>\n",
       "      <td>7072</td>\n",
       "    </tr>\n",
       "    <tr>\n",
       "      <th>1346</th>\n",
       "      <td>2019-01-09</td>\n",
       "      <td>7251</td>\n",
       "    </tr>\n",
       "    <tr>\n",
       "      <th>1369</th>\n",
       "      <td>2019-02-01</td>\n",
       "      <td>7198</td>\n",
       "    </tr>\n",
       "    <tr>\n",
       "      <th>1402</th>\n",
       "      <td>2019-03-06</td>\n",
       "      <td>7151</td>\n",
       "    </tr>\n",
       "    <tr>\n",
       "      <th>1430</th>\n",
       "      <td>2019-04-03</td>\n",
       "      <td>7276</td>\n",
       "    </tr>\n",
       "    <tr>\n",
       "      <th>1432</th>\n",
       "      <td>2019-04-05</td>\n",
       "      <td>1</td>\n",
       "    </tr>\n",
       "    <tr>\n",
       "      <th>1460</th>\n",
       "      <td>2019-05-03</td>\n",
       "      <td>7353</td>\n",
       "    </tr>\n",
       "  </tbody>\n",
       "</table>\n",
       "</div>"
      ],
      "text/plain": [
       "     last_scraped  Counts\n",
       "0      2015-05-04    3750\n",
       "1      2015-05-05    1675\n",
       "121    2015-09-02    6361\n",
       "181    2015-11-01     940\n",
       "182    2015-11-02    6089\n",
       "212    2015-12-02    7165\n",
       "274    2016-02-02    8299\n",
       "335    2016-04-03    8012\n",
       "364    2016-05-02    8086\n",
       "395    2016-06-02    8440\n",
       "425    2016-07-02    8619\n",
       "456    2016-08-02    8501\n",
       "457    2016-08-03     109\n",
       "487    2016-09-02    8665\n",
       "516    2016-10-01    8759\n",
       "548    2016-11-02    8864\n",
       "579    2016-12-03    9063\n",
       "580    2016-12-04       3\n",
       "608    2017-01-01    9035\n",
       "640    2017-02-02    8777\n",
       "668    2017-03-02    8720\n",
       "699    2017-04-02    8706\n",
       "729    2017-05-02    8608\n",
       "730    2017-05-03     162\n",
       "760    2017-06-02    8799\n",
       "790    2017-07-02    8854\n",
       "791    2017-07-03       1\n",
       "821    2017-08-02    9057\n",
       "852    2017-09-02    8529\n",
       "882    2017-10-02    8933\n",
       "912    2017-11-01    8929\n",
       "919    2017-11-08    6866\n",
       "943    2017-12-02    6788\n",
       "944    2017-12-03     152\n",
       "948    2017-12-07    6650\n",
       "982    2018-01-10    6506\n",
       "989    2018-01-17    5224\n",
       "1005   2018-02-02    4727\n",
       "1035   2018-03-04    4802\n",
       "1037   2018-03-06       2\n",
       "1068   2018-04-06    1251\n",
       "1069   2018-04-07    3593\n",
       "1101   2018-05-09    4774\n",
       "1158   2018-07-05    4693\n",
       "1190   2018-08-06    6633\n",
       "1223   2018-09-08    6529\n",
       "1248   2018-10-03    6807\n",
       "1279   2018-11-03    6981\n",
       "1312   2018-12-06    7072\n",
       "1346   2019-01-09    7251\n",
       "1369   2019-02-01    7198\n",
       "1402   2019-03-06    7151\n",
       "1430   2019-04-03    7276\n",
       "1432   2019-04-05       1\n",
       "1460   2019-05-03    7353"
      ]
     },
     "execution_count": 12,
     "metadata": {},
     "output_type": "execute_result"
    }
   ],
   "source": [
    "listings_u = listings_u.set_index(pd.DatetimeIndex(listings_u['last_scraped']))\n",
    "\n",
    "d_ls = listings_u.resample('D').size().reset_index(name='Counts') \n",
    "d_ls[d_ls['Counts']>0]"
   ]
  },
  {
   "cell_type": "code",
   "execution_count": 13,
   "metadata": {},
   "outputs": [],
   "source": [
    "pickle.dump(listings_u, open('all_SF_listings.p','wb'))"
   ]
  },
  {
   "cell_type": "code",
   "execution_count": 14,
   "metadata": {},
   "outputs": [
    {
     "data": {
      "text/plain": [
       "(334790, 107)"
      ]
     },
     "execution_count": 14,
     "metadata": {},
     "output_type": "execute_result"
    }
   ],
   "source": [
    "listings.shape"
   ]
  },
  {
   "cell_type": "code",
   "execution_count": 15,
   "metadata": {},
   "outputs": [
    {
     "data": {
      "text/html": [
       "<div>\n",
       "<style scoped>\n",
       "    .dataframe tbody tr th:only-of-type {\n",
       "        vertical-align: middle;\n",
       "    }\n",
       "\n",
       "    .dataframe tbody tr th {\n",
       "        vertical-align: top;\n",
       "    }\n",
       "\n",
       "    .dataframe thead th {\n",
       "        text-align: right;\n",
       "    }\n",
       "</style>\n",
       "<table border=\"1\" class=\"dataframe\">\n",
       "  <thead>\n",
       "    <tr style=\"text-align: right;\">\n",
       "      <th></th>\n",
       "      <th>link</th>\n",
       "      <th>dt</th>\n",
       "    </tr>\n",
       "  </thead>\n",
       "  <tbody>\n",
       "    <tr>\n",
       "      <th>7531</th>\n",
       "      <td>http://data.insideairbnb.com/united-states/ca/...</td>\n",
       "      <td>2019-05-03</td>\n",
       "    </tr>\n",
       "    <tr>\n",
       "      <th>7538</th>\n",
       "      <td>http://data.insideairbnb.com/united-states/ca/...</td>\n",
       "      <td>2019-04-03</td>\n",
       "    </tr>\n",
       "    <tr>\n",
       "      <th>7545</th>\n",
       "      <td>http://data.insideairbnb.com/united-states/ca/...</td>\n",
       "      <td>2019-03-06</td>\n",
       "    </tr>\n",
       "    <tr>\n",
       "      <th>7552</th>\n",
       "      <td>http://data.insideairbnb.com/united-states/ca/...</td>\n",
       "      <td>2019-02-01</td>\n",
       "    </tr>\n",
       "    <tr>\n",
       "      <th>7559</th>\n",
       "      <td>http://data.insideairbnb.com/united-states/ca/...</td>\n",
       "      <td>2019-01-09</td>\n",
       "    </tr>\n",
       "  </tbody>\n",
       "</table>\n",
       "</div>"
      ],
      "text/plain": [
       "                                                   link          dt\n",
       "7531  http://data.insideairbnb.com/united-states/ca/...  2019-05-03\n",
       "7538  http://data.insideairbnb.com/united-states/ca/...  2019-04-03\n",
       "7545  http://data.insideairbnb.com/united-states/ca/...  2019-03-06\n",
       "7552  http://data.insideairbnb.com/united-states/ca/...  2019-02-01\n",
       "7559  http://data.insideairbnb.com/united-states/ca/...  2019-01-09"
      ]
     },
     "execution_count": 15,
     "metadata": {},
     "output_type": "execute_result"
    },
    {
     "data": {
      "text/plain": [
       "(45, array(['2019-05-03', '2019-04-03', '2019-03-06', '2019-02-01',\n",
       "        '2019-01-09', '2018-12-06', '2018-11-03', '2018-10-03',\n",
       "        '2018-09-08', '2018-08-06', '2018-07-05', '2018-05-09',\n",
       "        '2018-04-06', '2018-03-04', '2018-02-02', '2018-01-17',\n",
       "        '2018-01-10', '2017-12-07', '2017-12-02', '2017-11-08',\n",
       "        '2017-11-01', '2017-10-02', '2017-09-02', '2017-08-02',\n",
       "        '2017-07-02', '2017-06-02', '2017-05-02', '2017-04-02',\n",
       "        '2017-03-02', '2017-02-02', '2017-01-01', '2016-12-03',\n",
       "        '2016-11-02', '2016-10-01', '2016-09-02', '2016-08-02',\n",
       "        '2016-07-02', '2016-06-02', '2016-05-02', '2016-04-03',\n",
       "        '2016-02-02', '2015-12-02', '2015-11-01', '2015-09-02',\n",
       "        '2015-05-04'], dtype=object))"
      ]
     },
     "execution_count": 15,
     "metadata": {},
     "output_type": "execute_result"
    }
   ],
   "source": [
    "links_sf_reviews = gather_links('san-francisco','reviews.csv.gz')\n",
    "links_sf_reviews['dt'] = [x.split('/')[6] for x in links_sf_reviews['link']]\n",
    "links_sf_reviews.head()\n",
    "\n",
    "idx = links_sf_reviews['dt'].unique()\n",
    "len(idx),idx"
   ]
  },
  {
   "cell_type": "code",
   "execution_count": 16,
   "metadata": {},
   "outputs": [
    {
     "name": "stdout",
     "output_type": "stream",
     "text": [
      "2019-04-03\n",
      "2019-03-06\n",
      "2019-02-01\n",
      "2019-01-09\n",
      "2018-12-06\n",
      "2018-11-03\n",
      "2018-10-03\n",
      "2018-09-08\n",
      "2018-08-06\n",
      "2018-07-05\n",
      "2018-05-09\n",
      "2018-04-06\n",
      "2018-03-04\n",
      "2018-02-02\n",
      "2018-01-17\n",
      "2018-01-10\n",
      "2017-12-07\n",
      "2017-12-02\n",
      "2017-11-08\n",
      "2017-11-01\n",
      "2017-10-02\n",
      "2017-09-02\n",
      "2017-08-02\n",
      "2017-07-02\n",
      "2017-06-02\n",
      "2017-05-02\n",
      "2017-04-02\n",
      "2017-03-02\n",
      "2017-02-02\n",
      "2017-01-01\n",
      "2016-12-03\n",
      "2016-11-02\n",
      "2016-10-01\n",
      "2016-09-02\n",
      "2016-08-02\n",
      "2016-07-02\n",
      "2016-06-02\n",
      "2016-05-02\n",
      "2016-04-03\n",
      "2016-02-02\n",
      "2015-12-02\n",
      "2015-11-01\n",
      "2015-09-02\n",
      "2015-05-04\n"
     ]
    }
   ],
   "source": [
    "reviews = readin_gz(idx[0],'reviews')       \n",
    "\n",
    "for i, dt in enumerate(idx[1:]):\n",
    "    df = readin_gz(idx[i+1],'reviews')\n",
    "    print(dt)\n",
    "    reviews = pd.concat([reviews, df], ignore_index = True,axis = 0,sort=False)\n",
    "        "
   ]
  },
  {
   "cell_type": "code",
   "execution_count": 17,
   "metadata": {},
   "outputs": [
    {
     "data": {
      "text/plain": [
       "(10302048, 6)"
      ]
     },
     "execution_count": 17,
     "metadata": {},
     "output_type": "execute_result"
    }
   ],
   "source": [
    "reviews.shape"
   ]
  },
  {
   "cell_type": "code",
   "execution_count": 18,
   "metadata": {},
   "outputs": [],
   "source": [
    "rv_cols = reviews.columns"
   ]
  },
  {
   "cell_type": "code",
   "execution_count": 19,
   "metadata": {},
   "outputs": [
    {
     "data": {
      "text/plain": [
       "9651267"
      ]
     },
     "execution_count": 19,
     "metadata": {},
     "output_type": "execute_result"
    },
    {
     "data": {
      "text/plain": [
       "(650781, 6)"
      ]
     },
     "execution_count": 19,
     "metadata": {},
     "output_type": "execute_result"
    }
   ],
   "source": [
    "reviews['is_duplicated'] = reviews.duplicated(rv_cols)\n",
    "reviews['is_duplicated'].sum()\n",
    "\n",
    "reviews_u = reviews[reviews['is_duplicated'] == False].drop(['is_duplicated'],axis=1)\n",
    "reviews_u.shape"
   ]
  },
  {
   "cell_type": "code",
   "execution_count": 20,
   "metadata": {},
   "outputs": [
    {
     "data": {
      "text/html": [
       "<div>\n",
       "<style scoped>\n",
       "    .dataframe tbody tr th:only-of-type {\n",
       "        vertical-align: middle;\n",
       "    }\n",
       "\n",
       "    .dataframe tbody tr th {\n",
       "        vertical-align: top;\n",
       "    }\n",
       "\n",
       "    .dataframe thead th {\n",
       "        text-align: right;\n",
       "    }\n",
       "</style>\n",
       "<table border=\"1\" class=\"dataframe\">\n",
       "  <thead>\n",
       "    <tr style=\"text-align: right;\">\n",
       "      <th></th>\n",
       "      <th>listing_id</th>\n",
       "      <th>id</th>\n",
       "      <th>date</th>\n",
       "      <th>reviewer_id</th>\n",
       "      <th>reviewer_name</th>\n",
       "      <th>comments</th>\n",
       "    </tr>\n",
       "  </thead>\n",
       "  <tbody>\n",
       "    <tr>\n",
       "      <th>0</th>\n",
       "      <td>958</td>\n",
       "      <td>5977</td>\n",
       "      <td>2009-07-23</td>\n",
       "      <td>15695</td>\n",
       "      <td>Edmund C</td>\n",
       "      <td>Our experience was, without a doubt, a five st...</td>\n",
       "    </tr>\n",
       "    <tr>\n",
       "      <th>1</th>\n",
       "      <td>958</td>\n",
       "      <td>6660</td>\n",
       "      <td>2009-08-03</td>\n",
       "      <td>26145</td>\n",
       "      <td>Simon</td>\n",
       "      <td>Returning to San Francisco is a rejuvenating t...</td>\n",
       "    </tr>\n",
       "    <tr>\n",
       "      <th>2</th>\n",
       "      <td>958</td>\n",
       "      <td>11519</td>\n",
       "      <td>2009-09-27</td>\n",
       "      <td>25839</td>\n",
       "      <td>Denis</td>\n",
       "      <td>We were very pleased with the accommodations a...</td>\n",
       "    </tr>\n",
       "    <tr>\n",
       "      <th>3</th>\n",
       "      <td>958</td>\n",
       "      <td>16282</td>\n",
       "      <td>2009-11-05</td>\n",
       "      <td>33750</td>\n",
       "      <td>Anna</td>\n",
       "      <td>We highly recommend this accomodation and agre...</td>\n",
       "    </tr>\n",
       "    <tr>\n",
       "      <th>4</th>\n",
       "      <td>958</td>\n",
       "      <td>26008</td>\n",
       "      <td>2010-02-13</td>\n",
       "      <td>15416</td>\n",
       "      <td>Venetia</td>\n",
       "      <td>Holly's place was great. It was exactly what I...</td>\n",
       "    </tr>\n",
       "  </tbody>\n",
       "</table>\n",
       "</div>"
      ],
      "text/plain": [
       "   listing_id     id        date  reviewer_id reviewer_name  \\\n",
       "0         958   5977  2009-07-23        15695      Edmund C   \n",
       "1         958   6660  2009-08-03        26145         Simon   \n",
       "2         958  11519  2009-09-27        25839         Denis   \n",
       "3         958  16282  2009-11-05        33750          Anna   \n",
       "4         958  26008  2010-02-13        15416       Venetia   \n",
       "\n",
       "                                            comments  \n",
       "0  Our experience was, without a doubt, a five st...  \n",
       "1  Returning to San Francisco is a rejuvenating t...  \n",
       "2  We were very pleased with the accommodations a...  \n",
       "3  We highly recommend this accomodation and agre...  \n",
       "4  Holly's place was great. It was exactly what I...  "
      ]
     },
     "execution_count": 20,
     "metadata": {},
     "output_type": "execute_result"
    }
   ],
   "source": [
    "reviews_u.head()"
   ]
  },
  {
   "cell_type": "code",
   "execution_count": 21,
   "metadata": {},
   "outputs": [],
   "source": [
    "pickle.dump(reviews_u, open('all_SF_reviews.p','wb'))"
   ]
  },
  {
   "cell_type": "code",
   "execution_count": 22,
   "metadata": {},
   "outputs": [
    {
     "data": {
      "text/html": [
       "<div>\n",
       "<style scoped>\n",
       "    .dataframe tbody tr th:only-of-type {\n",
       "        vertical-align: middle;\n",
       "    }\n",
       "\n",
       "    .dataframe tbody tr th {\n",
       "        vertical-align: top;\n",
       "    }\n",
       "\n",
       "    .dataframe thead th {\n",
       "        text-align: right;\n",
       "    }\n",
       "</style>\n",
       "<table border=\"1\" class=\"dataframe\">\n",
       "  <thead>\n",
       "    <tr style=\"text-align: right;\">\n",
       "      <th></th>\n",
       "      <th>link</th>\n",
       "      <th>dt</th>\n",
       "    </tr>\n",
       "  </thead>\n",
       "  <tbody>\n",
       "    <tr>\n",
       "      <th>7530</th>\n",
       "      <td>http://data.insideairbnb.com/united-states/ca/...</td>\n",
       "      <td>2019-05-03</td>\n",
       "    </tr>\n",
       "    <tr>\n",
       "      <th>7537</th>\n",
       "      <td>http://data.insideairbnb.com/united-states/ca/...</td>\n",
       "      <td>2019-04-03</td>\n",
       "    </tr>\n",
       "    <tr>\n",
       "      <th>7544</th>\n",
       "      <td>http://data.insideairbnb.com/united-states/ca/...</td>\n",
       "      <td>2019-03-06</td>\n",
       "    </tr>\n",
       "    <tr>\n",
       "      <th>7551</th>\n",
       "      <td>http://data.insideairbnb.com/united-states/ca/...</td>\n",
       "      <td>2019-02-01</td>\n",
       "    </tr>\n",
       "    <tr>\n",
       "      <th>7558</th>\n",
       "      <td>http://data.insideairbnb.com/united-states/ca/...</td>\n",
       "      <td>2019-01-09</td>\n",
       "    </tr>\n",
       "  </tbody>\n",
       "</table>\n",
       "</div>"
      ],
      "text/plain": [
       "                                                   link          dt\n",
       "7530  http://data.insideairbnb.com/united-states/ca/...  2019-05-03\n",
       "7537  http://data.insideairbnb.com/united-states/ca/...  2019-04-03\n",
       "7544  http://data.insideairbnb.com/united-states/ca/...  2019-03-06\n",
       "7551  http://data.insideairbnb.com/united-states/ca/...  2019-02-01\n",
       "7558  http://data.insideairbnb.com/united-states/ca/...  2019-01-09"
      ]
     },
     "execution_count": 22,
     "metadata": {},
     "output_type": "execute_result"
    },
    {
     "data": {
      "text/plain": [
       "(45, array(['2019-05-03', '2019-04-03', '2019-03-06', '2019-02-01',\n",
       "        '2019-01-09', '2018-12-06', '2018-11-03', '2018-10-03',\n",
       "        '2018-09-08', '2018-08-06', '2018-07-05', '2018-05-09',\n",
       "        '2018-04-06', '2018-03-04', '2018-02-02', '2018-01-17',\n",
       "        '2018-01-10', '2017-12-07', '2017-12-02', '2017-11-08',\n",
       "        '2017-11-01', '2017-10-02', '2017-09-02', '2017-08-02',\n",
       "        '2017-07-02', '2017-06-02', '2017-05-02', '2017-04-02',\n",
       "        '2017-03-02', '2017-02-02', '2017-01-01', '2016-12-03',\n",
       "        '2016-11-02', '2016-10-01', '2016-09-02', '2016-08-02',\n",
       "        '2016-07-02', '2016-06-02', '2016-05-02', '2016-04-03',\n",
       "        '2016-02-02', '2015-12-02', '2015-11-01', '2015-09-02',\n",
       "        '2015-05-04'], dtype=object))"
      ]
     },
     "execution_count": 22,
     "metadata": {},
     "output_type": "execute_result"
    }
   ],
   "source": [
    "links_sf_calendar = gather_links('san-francisco','calendar.csv.gz')\n",
    "links_sf_calendar['dt'] = [x.split('/')[6] for x in links_sf_calendar['link']]\n",
    "links_sf_calendar.head()\n",
    "\n",
    "idx = links_sf_calendar['dt'].unique()\n",
    "len(idx),idx"
   ]
  },
  {
   "cell_type": "code",
   "execution_count": 23,
   "metadata": {},
   "outputs": [
    {
     "name": "stdout",
     "output_type": "stream",
     "text": [
      "2019-04-03\n",
      "2019-03-06\n",
      "2019-02-01\n",
      "2019-01-09\n",
      "2018-12-06\n",
      "2018-11-03\n",
      "2018-10-03\n",
      "2018-09-08\n",
      "2018-08-06\n",
      "2018-07-05\n",
      "2018-05-09\n",
      "2018-04-06\n",
      "2018-03-04\n",
      "2018-02-02\n",
      "2018-01-17\n",
      "2018-01-10\n",
      "2017-12-07\n",
      "2017-12-02\n",
      "2017-11-08\n",
      "2017-11-01\n",
      "2017-10-02\n",
      "2017-09-02\n",
      "2017-08-02\n",
      "2017-07-02\n",
      "2017-06-02\n",
      "2017-05-02\n",
      "2017-04-02\n",
      "2017-03-02\n",
      "2017-02-02\n",
      "2017-01-01\n",
      "2016-12-03\n",
      "2016-11-02\n",
      "2016-10-01\n",
      "2016-09-02\n",
      "2016-08-02\n",
      "2016-07-02\n",
      "2016-06-02\n",
      "2016-05-02\n",
      "2016-04-03\n",
      "2016-02-02\n",
      "2015-12-02\n",
      "2015-11-01\n",
      "2015-09-02\n",
      "2015-05-04\n"
     ]
    }
   ],
   "source": [
    "calendar = readin_gz(idx[0],'calendar')       \n",
    "\n",
    "for i, dt in enumerate(idx[1:]):\n",
    "    df = readin_gz(idx[i],'calendar')\n",
    "    print(dt)\n",
    "    calendar = pd.concat([calendar, df], ignore_index = True,axis = 0,sort=False)"
   ]
  },
  {
   "cell_type": "code",
   "execution_count": 24,
   "metadata": {},
   "outputs": [
    {
     "data": {
      "text/plain": [
       "(122904625, 7)"
      ]
     },
     "execution_count": 24,
     "metadata": {},
     "output_type": "execute_result"
    }
   ],
   "source": [
    "calendar.shape"
   ]
  },
  {
   "cell_type": "code",
   "execution_count": 25,
   "metadata": {},
   "outputs": [],
   "source": [
    "cal_cols = calendar.columns"
   ]
  },
  {
   "cell_type": "code",
   "execution_count": 26,
   "metadata": {},
   "outputs": [
    {
     "data": {
      "text/plain": [
       "83621290"
      ]
     },
     "execution_count": 26,
     "metadata": {},
     "output_type": "execute_result"
    },
    {
     "data": {
      "text/plain": [
       "(39283335, 7)"
      ]
     },
     "execution_count": 26,
     "metadata": {},
     "output_type": "execute_result"
    }
   ],
   "source": [
    "calendar['is_duplicated'] = calendar.duplicated(cal_cols)\n",
    "calendar['is_duplicated'].sum()\n",
    "\n",
    "calendar_u = calendar[calendar['is_duplicated'] == False].drop(['is_duplicated'],axis=1)\n",
    "calendar_u.shape"
   ]
  },
  {
   "cell_type": "code",
   "execution_count": 27,
   "metadata": {},
   "outputs": [
    {
     "data": {
      "text/html": [
       "<div>\n",
       "<style scoped>\n",
       "    .dataframe tbody tr th:only-of-type {\n",
       "        vertical-align: middle;\n",
       "    }\n",
       "\n",
       "    .dataframe tbody tr th {\n",
       "        vertical-align: top;\n",
       "    }\n",
       "\n",
       "    .dataframe thead th {\n",
       "        text-align: right;\n",
       "    }\n",
       "</style>\n",
       "<table border=\"1\" class=\"dataframe\">\n",
       "  <thead>\n",
       "    <tr style=\"text-align: right;\">\n",
       "      <th></th>\n",
       "      <th>listing_id</th>\n",
       "      <th>date</th>\n",
       "      <th>available</th>\n",
       "      <th>price</th>\n",
       "      <th>adjusted_price</th>\n",
       "      <th>minimum_nights</th>\n",
       "      <th>maximum_nights</th>\n",
       "    </tr>\n",
       "  </thead>\n",
       "  <tbody>\n",
       "    <tr>\n",
       "      <th>0</th>\n",
       "      <td>34158472</td>\n",
       "      <td>2019-05-03</td>\n",
       "      <td>f</td>\n",
       "      <td>$399.00</td>\n",
       "      <td>$399.00</td>\n",
       "      <td>2.0</td>\n",
       "      <td>1125.0</td>\n",
       "    </tr>\n",
       "    <tr>\n",
       "      <th>1</th>\n",
       "      <td>34158472</td>\n",
       "      <td>2019-05-04</td>\n",
       "      <td>f</td>\n",
       "      <td>$399.00</td>\n",
       "      <td>$399.00</td>\n",
       "      <td>2.0</td>\n",
       "      <td>1125.0</td>\n",
       "    </tr>\n",
       "    <tr>\n",
       "      <th>2</th>\n",
       "      <td>34158472</td>\n",
       "      <td>2019-05-05</td>\n",
       "      <td>t</td>\n",
       "      <td>$399.00</td>\n",
       "      <td>$399.00</td>\n",
       "      <td>2.0</td>\n",
       "      <td>1125.0</td>\n",
       "    </tr>\n",
       "    <tr>\n",
       "      <th>3</th>\n",
       "      <td>34158472</td>\n",
       "      <td>2019-05-06</td>\n",
       "      <td>t</td>\n",
       "      <td>$399.00</td>\n",
       "      <td>$399.00</td>\n",
       "      <td>2.0</td>\n",
       "      <td>1125.0</td>\n",
       "    </tr>\n",
       "    <tr>\n",
       "      <th>4</th>\n",
       "      <td>34158472</td>\n",
       "      <td>2019-05-07</td>\n",
       "      <td>t</td>\n",
       "      <td>$399.00</td>\n",
       "      <td>$399.00</td>\n",
       "      <td>2.0</td>\n",
       "      <td>1125.0</td>\n",
       "    </tr>\n",
       "  </tbody>\n",
       "</table>\n",
       "</div>"
      ],
      "text/plain": [
       "   listing_id        date available    price adjusted_price  minimum_nights  \\\n",
       "0    34158472  2019-05-03         f  $399.00        $399.00             2.0   \n",
       "1    34158472  2019-05-04         f  $399.00        $399.00             2.0   \n",
       "2    34158472  2019-05-05         t  $399.00        $399.00             2.0   \n",
       "3    34158472  2019-05-06         t  $399.00        $399.00             2.0   \n",
       "4    34158472  2019-05-07         t  $399.00        $399.00             2.0   \n",
       "\n",
       "   maximum_nights  \n",
       "0          1125.0  \n",
       "1          1125.0  \n",
       "2          1125.0  \n",
       "3          1125.0  \n",
       "4          1125.0  "
      ]
     },
     "execution_count": 27,
     "metadata": {},
     "output_type": "execute_result"
    }
   ],
   "source": [
    "calendar_u.head()"
   ]
  },
  {
   "cell_type": "code",
   "execution_count": 28,
   "metadata": {},
   "outputs": [],
   "source": [
    "pickle.dump(calendar_u, open('all_SF_calendar.p','wb'))"
   ]
  },
  {
   "cell_type": "code",
   "execution_count": 29,
   "metadata": {},
   "outputs": [],
   "source": [
    "# listings['has_availability'].value_counts()"
   ]
  },
  {
   "cell_type": "code",
   "execution_count": 30,
   "metadata": {},
   "outputs": [],
   "source": [
    "#  pd.crosstab(listings_u['property_type'].str.upper(), listings_u['room_type'].str.upper(), margins=True)"
   ]
  },
  {
   "cell_type": "code",
   "execution_count": 31,
   "metadata": {},
   "outputs": [],
   "source": [
    "# len(listings_u['host_id'].unique())"
   ]
  },
  {
   "cell_type": "code",
   "execution_count": 32,
   "metadata": {},
   "outputs": [],
   "source": [
    "# len(listings_u['id'].unique())"
   ]
  },
  {
   "cell_type": "code",
   "execution_count": 33,
   "metadata": {},
   "outputs": [],
   "source": [
    "# listings_u['neighbourhood'].str.upper().value_counts().reset_index()"
   ]
  },
  {
   "cell_type": "code",
   "execution_count": 34,
   "metadata": {},
   "outputs": [],
   "source": [
    "# listings_u['zipcode'] = listings_u['zipcode'].astype(str).str.zfill(5)[:-2]"
   ]
  },
  {
   "cell_type": "code",
   "execution_count": 35,
   "metadata": {},
   "outputs": [],
   "source": [
    "# listings_u = listings_u.set_index(pd.DatetimeIndex(listings_u['last_scraped']))"
   ]
  },
  {
   "cell_type": "code",
   "execution_count": 36,
   "metadata": {},
   "outputs": [],
   "source": [
    "# m_ls = listings_u.resample('M').size().reset_index(name='Counts') \n",
    "# m_ls = m_ls[m_ls['Counts']>0]\n",
    "# m_ls"
   ]
  },
  {
   "cell_type": "code",
   "execution_count": 37,
   "metadata": {},
   "outputs": [],
   "source": [
    "# pd.crosstab(listings_u['last_scraped'], listings_u['has_availability'],margins=True)"
   ]
  },
  {
   "cell_type": "code",
   "execution_count": null,
   "metadata": {},
   "outputs": [],
   "source": []
  }
 ],
 "metadata": {
  "kernelspec": {
   "display_name": "Python 3",
   "language": "python",
   "name": "python3"
  },
  "language_info": {
   "codemirror_mode": {
    "name": "ipython",
    "version": 3
   },
   "file_extension": ".py",
   "mimetype": "text/x-python",
   "name": "python",
   "nbconvert_exporter": "python",
   "pygments_lexer": "ipython3",
   "version": "3.7.1"
  }
 },
 "nbformat": 4,
 "nbformat_minor": 2
}
