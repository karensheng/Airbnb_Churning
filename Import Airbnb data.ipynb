{
 "cells": [
  {
   "cell_type": "code",
   "execution_count": 1,
   "metadata": {},
   "outputs": [],
   "source": [
    "# Enable outputting results interactively. \n",
    "# All the results from code in a given cell will be displayed instead of only the last one.\n",
    "\n",
    "from IPython.core.interactiveshell import InteractiveShell\n",
    "InteractiveShell.ast_node_interactivity = \"all\""
   ]
  },
  {
   "cell_type": "code",
   "execution_count": 2,
   "metadata": {},
   "outputs": [],
   "source": [
    "import pandas as pd\n",
    "import re\n",
    "from datetime import datetime\n",
    "\n",
    "from bs4 import BeautifulSoup, SoupStrainer\n",
    "import requests\n",
    "import pickle\n",
    "\n",
    "%matplotlib inline\n",
    "import matplotlib.pyplot as plt\n",
    "import seaborn as sns"
   ]
  },
  {
   "cell_type": "code",
   "execution_count": 3,
   "metadata": {},
   "outputs": [],
   "source": [
    "url = \"http://insideairbnb.com/get-the-data.html\"\n",
    "\n",
    "page = requests.get(url)    \n",
    "data = page.text\n",
    "soup = BeautifulSoup(data)\n",
    "\n",
    "links = []\n",
    "for link in soup.find_all('a'):\n",
    "    links.append(link.get('href'))"
   ]
  },
  {
   "cell_type": "code",
   "execution_count": 4,
   "metadata": {},
   "outputs": [],
   "source": [
    "def gather_links(city,cat):\n",
    "\n",
    "    len(links)\n",
    "    links_df = pd.DataFrame(links, columns = ['link'])\n",
    "    links_df2 = links_df[links_df['link'].str.contains(city)==True]\n",
    "    links_df3 = links_df2[links_df2['link'].str.contains(cat)==True]\n",
    "    return links_df3"
   ]
  },
  {
   "cell_type": "code",
   "execution_count": 8,
   "metadata": {},
   "outputs": [],
   "source": [
    "def readin_gz(dt,cat):\n",
    "    url = 'http://data.insideairbnb.com/united-states/ca/san-francisco/{}/data/{}.csv.gz'.format(str(dt),str(cat))\n",
    "\n",
    "    listings = pd.read_csv(url,compression='gzip',header=0, sep=',', quotechar='\"',dtype= {'zipcode':object})\n",
    "    return listings\n",
    "    "
   ]
  },
  {
   "cell_type": "code",
   "execution_count": 6,
   "metadata": {},
   "outputs": [
    {
     "data": {
      "text/html": [
       "<div>\n",
       "<style scoped>\n",
       "    .dataframe tbody tr th:only-of-type {\n",
       "        vertical-align: middle;\n",
       "    }\n",
       "\n",
       "    .dataframe tbody tr th {\n",
       "        vertical-align: top;\n",
       "    }\n",
       "\n",
       "    .dataframe thead th {\n",
       "        text-align: right;\n",
       "    }\n",
       "</style>\n",
       "<table border=\"1\" class=\"dataframe\">\n",
       "  <thead>\n",
       "    <tr style=\"text-align: right;\">\n",
       "      <th></th>\n",
       "      <th>link</th>\n",
       "      <th>dt</th>\n",
       "    </tr>\n",
       "  </thead>\n",
       "  <tbody>\n",
       "    <tr>\n",
       "      <th>7529</th>\n",
       "      <td>http://data.insideairbnb.com/united-states/ca/...</td>\n",
       "      <td>2019-05-03</td>\n",
       "    </tr>\n",
       "    <tr>\n",
       "      <th>7536</th>\n",
       "      <td>http://data.insideairbnb.com/united-states/ca/...</td>\n",
       "      <td>2019-04-03</td>\n",
       "    </tr>\n",
       "    <tr>\n",
       "      <th>7543</th>\n",
       "      <td>http://data.insideairbnb.com/united-states/ca/...</td>\n",
       "      <td>2019-03-06</td>\n",
       "    </tr>\n",
       "    <tr>\n",
       "      <th>7550</th>\n",
       "      <td>http://data.insideairbnb.com/united-states/ca/...</td>\n",
       "      <td>2019-02-01</td>\n",
       "    </tr>\n",
       "    <tr>\n",
       "      <th>7557</th>\n",
       "      <td>http://data.insideairbnb.com/united-states/ca/...</td>\n",
       "      <td>2019-01-09</td>\n",
       "    </tr>\n",
       "    <tr>\n",
       "      <th>7564</th>\n",
       "      <td>http://data.insideairbnb.com/united-states/ca/...</td>\n",
       "      <td>2018-12-06</td>\n",
       "    </tr>\n",
       "    <tr>\n",
       "      <th>7571</th>\n",
       "      <td>http://data.insideairbnb.com/united-states/ca/...</td>\n",
       "      <td>2018-11-03</td>\n",
       "    </tr>\n",
       "    <tr>\n",
       "      <th>7578</th>\n",
       "      <td>http://data.insideairbnb.com/united-states/ca/...</td>\n",
       "      <td>2018-10-03</td>\n",
       "    </tr>\n",
       "    <tr>\n",
       "      <th>7585</th>\n",
       "      <td>http://data.insideairbnb.com/united-states/ca/...</td>\n",
       "      <td>2018-09-08</td>\n",
       "    </tr>\n",
       "    <tr>\n",
       "      <th>7592</th>\n",
       "      <td>http://data.insideairbnb.com/united-states/ca/...</td>\n",
       "      <td>2018-08-06</td>\n",
       "    </tr>\n",
       "    <tr>\n",
       "      <th>7599</th>\n",
       "      <td>http://data.insideairbnb.com/united-states/ca/...</td>\n",
       "      <td>2018-07-05</td>\n",
       "    </tr>\n",
       "    <tr>\n",
       "      <th>7606</th>\n",
       "      <td>http://data.insideairbnb.com/united-states/ca/...</td>\n",
       "      <td>2018-05-09</td>\n",
       "    </tr>\n",
       "    <tr>\n",
       "      <th>7613</th>\n",
       "      <td>http://data.insideairbnb.com/united-states/ca/...</td>\n",
       "      <td>2018-04-06</td>\n",
       "    </tr>\n",
       "    <tr>\n",
       "      <th>7620</th>\n",
       "      <td>http://data.insideairbnb.com/united-states/ca/...</td>\n",
       "      <td>2018-03-04</td>\n",
       "    </tr>\n",
       "    <tr>\n",
       "      <th>7627</th>\n",
       "      <td>http://data.insideairbnb.com/united-states/ca/...</td>\n",
       "      <td>2018-02-02</td>\n",
       "    </tr>\n",
       "    <tr>\n",
       "      <th>7634</th>\n",
       "      <td>http://data.insideairbnb.com/united-states/ca/...</td>\n",
       "      <td>2018-01-17</td>\n",
       "    </tr>\n",
       "    <tr>\n",
       "      <th>7641</th>\n",
       "      <td>http://data.insideairbnb.com/united-states/ca/...</td>\n",
       "      <td>2018-01-10</td>\n",
       "    </tr>\n",
       "    <tr>\n",
       "      <th>7648</th>\n",
       "      <td>http://data.insideairbnb.com/united-states/ca/...</td>\n",
       "      <td>2017-12-07</td>\n",
       "    </tr>\n",
       "    <tr>\n",
       "      <th>7655</th>\n",
       "      <td>http://data.insideairbnb.com/united-states/ca/...</td>\n",
       "      <td>2017-12-02</td>\n",
       "    </tr>\n",
       "    <tr>\n",
       "      <th>7662</th>\n",
       "      <td>http://data.insideairbnb.com/united-states/ca/...</td>\n",
       "      <td>2017-11-08</td>\n",
       "    </tr>\n",
       "    <tr>\n",
       "      <th>7669</th>\n",
       "      <td>http://data.insideairbnb.com/united-states/ca/...</td>\n",
       "      <td>2017-11-01</td>\n",
       "    </tr>\n",
       "    <tr>\n",
       "      <th>7676</th>\n",
       "      <td>http://data.insideairbnb.com/united-states/ca/...</td>\n",
       "      <td>2017-10-02</td>\n",
       "    </tr>\n",
       "    <tr>\n",
       "      <th>7683</th>\n",
       "      <td>http://data.insideairbnb.com/united-states/ca/...</td>\n",
       "      <td>2017-09-02</td>\n",
       "    </tr>\n",
       "    <tr>\n",
       "      <th>7690</th>\n",
       "      <td>http://data.insideairbnb.com/united-states/ca/...</td>\n",
       "      <td>2017-08-02</td>\n",
       "    </tr>\n",
       "    <tr>\n",
       "      <th>7697</th>\n",
       "      <td>http://data.insideairbnb.com/united-states/ca/...</td>\n",
       "      <td>2017-07-02</td>\n",
       "    </tr>\n",
       "    <tr>\n",
       "      <th>7704</th>\n",
       "      <td>http://data.insideairbnb.com/united-states/ca/...</td>\n",
       "      <td>2017-06-02</td>\n",
       "    </tr>\n",
       "    <tr>\n",
       "      <th>7711</th>\n",
       "      <td>http://data.insideairbnb.com/united-states/ca/...</td>\n",
       "      <td>2017-05-02</td>\n",
       "    </tr>\n",
       "    <tr>\n",
       "      <th>7718</th>\n",
       "      <td>http://data.insideairbnb.com/united-states/ca/...</td>\n",
       "      <td>2017-04-02</td>\n",
       "    </tr>\n",
       "    <tr>\n",
       "      <th>7725</th>\n",
       "      <td>http://data.insideairbnb.com/united-states/ca/...</td>\n",
       "      <td>2017-03-02</td>\n",
       "    </tr>\n",
       "    <tr>\n",
       "      <th>7732</th>\n",
       "      <td>http://data.insideairbnb.com/united-states/ca/...</td>\n",
       "      <td>2017-02-02</td>\n",
       "    </tr>\n",
       "    <tr>\n",
       "      <th>7739</th>\n",
       "      <td>http://data.insideairbnb.com/united-states/ca/...</td>\n",
       "      <td>2017-01-01</td>\n",
       "    </tr>\n",
       "    <tr>\n",
       "      <th>7746</th>\n",
       "      <td>http://data.insideairbnb.com/united-states/ca/...</td>\n",
       "      <td>2016-12-03</td>\n",
       "    </tr>\n",
       "    <tr>\n",
       "      <th>7753</th>\n",
       "      <td>http://data.insideairbnb.com/united-states/ca/...</td>\n",
       "      <td>2016-11-02</td>\n",
       "    </tr>\n",
       "    <tr>\n",
       "      <th>7760</th>\n",
       "      <td>http://data.insideairbnb.com/united-states/ca/...</td>\n",
       "      <td>2016-10-01</td>\n",
       "    </tr>\n",
       "    <tr>\n",
       "      <th>7767</th>\n",
       "      <td>http://data.insideairbnb.com/united-states/ca/...</td>\n",
       "      <td>2016-09-02</td>\n",
       "    </tr>\n",
       "    <tr>\n",
       "      <th>7774</th>\n",
       "      <td>http://data.insideairbnb.com/united-states/ca/...</td>\n",
       "      <td>2016-08-02</td>\n",
       "    </tr>\n",
       "    <tr>\n",
       "      <th>7781</th>\n",
       "      <td>http://data.insideairbnb.com/united-states/ca/...</td>\n",
       "      <td>2016-07-02</td>\n",
       "    </tr>\n",
       "    <tr>\n",
       "      <th>7788</th>\n",
       "      <td>http://data.insideairbnb.com/united-states/ca/...</td>\n",
       "      <td>2016-06-02</td>\n",
       "    </tr>\n",
       "    <tr>\n",
       "      <th>7795</th>\n",
       "      <td>http://data.insideairbnb.com/united-states/ca/...</td>\n",
       "      <td>2016-05-02</td>\n",
       "    </tr>\n",
       "    <tr>\n",
       "      <th>7802</th>\n",
       "      <td>http://data.insideairbnb.com/united-states/ca/...</td>\n",
       "      <td>2016-04-03</td>\n",
       "    </tr>\n",
       "    <tr>\n",
       "      <th>7809</th>\n",
       "      <td>http://data.insideairbnb.com/united-states/ca/...</td>\n",
       "      <td>2016-02-02</td>\n",
       "    </tr>\n",
       "    <tr>\n",
       "      <th>7816</th>\n",
       "      <td>http://data.insideairbnb.com/united-states/ca/...</td>\n",
       "      <td>2015-12-02</td>\n",
       "    </tr>\n",
       "    <tr>\n",
       "      <th>7823</th>\n",
       "      <td>http://data.insideairbnb.com/united-states/ca/...</td>\n",
       "      <td>2015-11-01</td>\n",
       "    </tr>\n",
       "    <tr>\n",
       "      <th>7830</th>\n",
       "      <td>http://data.insideairbnb.com/united-states/ca/...</td>\n",
       "      <td>2015-09-02</td>\n",
       "    </tr>\n",
       "    <tr>\n",
       "      <th>7837</th>\n",
       "      <td>http://data.insideairbnb.com/united-states/ca/...</td>\n",
       "      <td>2015-05-04</td>\n",
       "    </tr>\n",
       "  </tbody>\n",
       "</table>\n",
       "</div>"
      ],
      "text/plain": [
       "                                                   link          dt\n",
       "7529  http://data.insideairbnb.com/united-states/ca/...  2019-05-03\n",
       "7536  http://data.insideairbnb.com/united-states/ca/...  2019-04-03\n",
       "7543  http://data.insideairbnb.com/united-states/ca/...  2019-03-06\n",
       "7550  http://data.insideairbnb.com/united-states/ca/...  2019-02-01\n",
       "7557  http://data.insideairbnb.com/united-states/ca/...  2019-01-09\n",
       "7564  http://data.insideairbnb.com/united-states/ca/...  2018-12-06\n",
       "7571  http://data.insideairbnb.com/united-states/ca/...  2018-11-03\n",
       "7578  http://data.insideairbnb.com/united-states/ca/...  2018-10-03\n",
       "7585  http://data.insideairbnb.com/united-states/ca/...  2018-09-08\n",
       "7592  http://data.insideairbnb.com/united-states/ca/...  2018-08-06\n",
       "7599  http://data.insideairbnb.com/united-states/ca/...  2018-07-05\n",
       "7606  http://data.insideairbnb.com/united-states/ca/...  2018-05-09\n",
       "7613  http://data.insideairbnb.com/united-states/ca/...  2018-04-06\n",
       "7620  http://data.insideairbnb.com/united-states/ca/...  2018-03-04\n",
       "7627  http://data.insideairbnb.com/united-states/ca/...  2018-02-02\n",
       "7634  http://data.insideairbnb.com/united-states/ca/...  2018-01-17\n",
       "7641  http://data.insideairbnb.com/united-states/ca/...  2018-01-10\n",
       "7648  http://data.insideairbnb.com/united-states/ca/...  2017-12-07\n",
       "7655  http://data.insideairbnb.com/united-states/ca/...  2017-12-02\n",
       "7662  http://data.insideairbnb.com/united-states/ca/...  2017-11-08\n",
       "7669  http://data.insideairbnb.com/united-states/ca/...  2017-11-01\n",
       "7676  http://data.insideairbnb.com/united-states/ca/...  2017-10-02\n",
       "7683  http://data.insideairbnb.com/united-states/ca/...  2017-09-02\n",
       "7690  http://data.insideairbnb.com/united-states/ca/...  2017-08-02\n",
       "7697  http://data.insideairbnb.com/united-states/ca/...  2017-07-02\n",
       "7704  http://data.insideairbnb.com/united-states/ca/...  2017-06-02\n",
       "7711  http://data.insideairbnb.com/united-states/ca/...  2017-05-02\n",
       "7718  http://data.insideairbnb.com/united-states/ca/...  2017-04-02\n",
       "7725  http://data.insideairbnb.com/united-states/ca/...  2017-03-02\n",
       "7732  http://data.insideairbnb.com/united-states/ca/...  2017-02-02\n",
       "7739  http://data.insideairbnb.com/united-states/ca/...  2017-01-01\n",
       "7746  http://data.insideairbnb.com/united-states/ca/...  2016-12-03\n",
       "7753  http://data.insideairbnb.com/united-states/ca/...  2016-11-02\n",
       "7760  http://data.insideairbnb.com/united-states/ca/...  2016-10-01\n",
       "7767  http://data.insideairbnb.com/united-states/ca/...  2016-09-02\n",
       "7774  http://data.insideairbnb.com/united-states/ca/...  2016-08-02\n",
       "7781  http://data.insideairbnb.com/united-states/ca/...  2016-07-02\n",
       "7788  http://data.insideairbnb.com/united-states/ca/...  2016-06-02\n",
       "7795  http://data.insideairbnb.com/united-states/ca/...  2016-05-02\n",
       "7802  http://data.insideairbnb.com/united-states/ca/...  2016-04-03\n",
       "7809  http://data.insideairbnb.com/united-states/ca/...  2016-02-02\n",
       "7816  http://data.insideairbnb.com/united-states/ca/...  2015-12-02\n",
       "7823  http://data.insideairbnb.com/united-states/ca/...  2015-11-01\n",
       "7830  http://data.insideairbnb.com/united-states/ca/...  2015-09-02\n",
       "7837  http://data.insideairbnb.com/united-states/ca/...  2015-05-04"
      ]
     },
     "execution_count": 6,
     "metadata": {},
     "output_type": "execute_result"
    },
    {
     "data": {
      "text/plain": [
       "(45, array(['2019-05-03', '2019-04-03', '2019-03-06', '2019-02-01',\n",
       "        '2019-01-09', '2018-12-06', '2018-11-03', '2018-10-03',\n",
       "        '2018-09-08', '2018-08-06', '2018-07-05', '2018-05-09',\n",
       "        '2018-04-06', '2018-03-04', '2018-02-02', '2018-01-17',\n",
       "        '2018-01-10', '2017-12-07', '2017-12-02', '2017-11-08',\n",
       "        '2017-11-01', '2017-10-02', '2017-09-02', '2017-08-02',\n",
       "        '2017-07-02', '2017-06-02', '2017-05-02', '2017-04-02',\n",
       "        '2017-03-02', '2017-02-02', '2017-01-01', '2016-12-03',\n",
       "        '2016-11-02', '2016-10-01', '2016-09-02', '2016-08-02',\n",
       "        '2016-07-02', '2016-06-02', '2016-05-02', '2016-04-03',\n",
       "        '2016-02-02', '2015-12-02', '2015-11-01', '2015-09-02',\n",
       "        '2015-05-04'], dtype=object))"
      ]
     },
     "execution_count": 6,
     "metadata": {},
     "output_type": "execute_result"
    }
   ],
   "source": [
    "links_sf_listings = gather_links('san-francisco','listings.csv.gz')\n",
    "links_sf_listings['dt'] = [x.split('/')[6] for x in links_sf_listings['link']]\n",
    "links_sf_listings\n",
    "\n",
    "idx = links_sf_listings['dt'].unique()\n",
    "len(idx),idx"
   ]
  },
  {
   "cell_type": "code",
   "execution_count": 7,
   "metadata": {},
   "outputs": [
    {
     "data": {
      "text/html": [
       "<div>\n",
       "<style scoped>\n",
       "    .dataframe tbody tr th:only-of-type {\n",
       "        vertical-align: middle;\n",
       "    }\n",
       "\n",
       "    .dataframe tbody tr th {\n",
       "        vertical-align: top;\n",
       "    }\n",
       "\n",
       "    .dataframe thead th {\n",
       "        text-align: right;\n",
       "    }\n",
       "</style>\n",
       "<table border=\"1\" class=\"dataframe\">\n",
       "  <thead>\n",
       "    <tr style=\"text-align: right;\">\n",
       "      <th></th>\n",
       "      <th>id</th>\n",
       "      <th>listing_url</th>\n",
       "      <th>scrape_id</th>\n",
       "      <th>last_scraped</th>\n",
       "      <th>name</th>\n",
       "      <th>summary</th>\n",
       "      <th>space</th>\n",
       "      <th>description</th>\n",
       "      <th>experiences_offered</th>\n",
       "      <th>neighborhood_overview</th>\n",
       "      <th>...</th>\n",
       "      <th>is_business_travel_ready</th>\n",
       "      <th>cancellation_policy</th>\n",
       "      <th>require_guest_profile_picture</th>\n",
       "      <th>require_guest_phone_verification</th>\n",
       "      <th>calculated_host_listings_count</th>\n",
       "      <th>calculated_host_listings_count_entire_homes</th>\n",
       "      <th>calculated_host_listings_count_private_rooms</th>\n",
       "      <th>calculated_host_listings_count_shared_rooms</th>\n",
       "      <th>reviews_per_month</th>\n",
       "      <th>file_scraped_dt</th>\n",
       "    </tr>\n",
       "  </thead>\n",
       "  <tbody>\n",
       "    <tr>\n",
       "      <th>0</th>\n",
       "      <td>958</td>\n",
       "      <td>https://www.airbnb.com/rooms/958</td>\n",
       "      <td>20190503153007</td>\n",
       "      <td>2019-05-03</td>\n",
       "      <td>Bright, Modern Garden Unit - 1BR/1B</td>\n",
       "      <td>New update: the house next door is under const...</td>\n",
       "      <td>Newly remodeled, modern, and bright garden uni...</td>\n",
       "      <td>New update: the house next door is under const...</td>\n",
       "      <td>none</td>\n",
       "      <td>*Quiet cul de sac in friendly neighborhood *St...</td>\n",
       "      <td>...</td>\n",
       "      <td>f</td>\n",
       "      <td>moderate</td>\n",
       "      <td>f</td>\n",
       "      <td>f</td>\n",
       "      <td>1</td>\n",
       "      <td>1</td>\n",
       "      <td>0</td>\n",
       "      <td>0</td>\n",
       "      <td>1.55</td>\n",
       "      <td>2019-05-03</td>\n",
       "    </tr>\n",
       "  </tbody>\n",
       "</table>\n",
       "<p>1 rows × 107 columns</p>\n",
       "</div>"
      ],
      "text/plain": [
       "    id                       listing_url       scrape_id last_scraped  \\\n",
       "0  958  https://www.airbnb.com/rooms/958  20190503153007   2019-05-03   \n",
       "\n",
       "                                  name  \\\n",
       "0  Bright, Modern Garden Unit - 1BR/1B   \n",
       "\n",
       "                                             summary  \\\n",
       "0  New update: the house next door is under const...   \n",
       "\n",
       "                                               space  \\\n",
       "0  Newly remodeled, modern, and bright garden uni...   \n",
       "\n",
       "                                         description experiences_offered  \\\n",
       "0  New update: the house next door is under const...                none   \n",
       "\n",
       "                               neighborhood_overview       ...         \\\n",
       "0  *Quiet cul de sac in friendly neighborhood *St...       ...          \n",
       "\n",
       "  is_business_travel_ready cancellation_policy require_guest_profile_picture  \\\n",
       "0                        f            moderate                             f   \n",
       "\n",
       "  require_guest_phone_verification calculated_host_listings_count  \\\n",
       "0                                f                              1   \n",
       "\n",
       "   calculated_host_listings_count_entire_homes  \\\n",
       "0                                            1   \n",
       "\n",
       "   calculated_host_listings_count_private_rooms  \\\n",
       "0                                             0   \n",
       "\n",
       "  calculated_host_listings_count_shared_rooms  reviews_per_month  \\\n",
       "0                                           0               1.55   \n",
       "\n",
       "   file_scraped_dt  \n",
       "0       2019-05-03  \n",
       "\n",
       "[1 rows x 107 columns]"
      ]
     },
     "execution_count": 7,
     "metadata": {},
     "output_type": "execute_result"
    }
   ],
   "source": [
    "listings = readin_gz(idx[0],'listings')    \n",
    "listings['file_scraped_dt'] = idx[0]\n",
    "listings.head(1)"
   ]
  },
  {
   "cell_type": "code",
   "execution_count": 8,
   "metadata": {},
   "outputs": [
    {
     "name": "stdout",
     "output_type": "stream",
     "text": [
      "2019-04-03 2019-04-03    7276\n",
      "2019-04-05       1\n",
      "Name: last_scraped, dtype: int64\n",
      "2019-03-06 2019-03-06    7151\n",
      "Name: last_scraped, dtype: int64\n",
      "2019-02-01 2019-02-01    7198\n",
      "Name: last_scraped, dtype: int64\n",
      "2019-01-09 2019-01-09    7251\n",
      "Name: last_scraped, dtype: int64\n",
      "2018-12-06 2018-12-06    7072\n",
      "Name: last_scraped, dtype: int64\n",
      "2018-11-03 2018-11-03    6981\n",
      "Name: last_scraped, dtype: int64\n",
      "2018-10-03 2018-10-03    6807\n",
      "Name: last_scraped, dtype: int64\n",
      "2018-09-08 2018-09-08    6529\n",
      "Name: last_scraped, dtype: int64\n",
      "2018-08-06 2018-08-06    6633\n",
      "Name: last_scraped, dtype: int64\n",
      "2018-07-05 2018-07-05    4693\n",
      "Name: last_scraped, dtype: int64\n",
      "2018-05-09 2018-05-09    4774\n",
      "Name: last_scraped, dtype: int64\n",
      "2018-04-06 2018-04-07    3593\n",
      "2018-04-06    1251\n",
      "Name: last_scraped, dtype: int64\n",
      "2018-03-04 2018-03-04    4802\n",
      "2018-03-06       2\n",
      "Name: last_scraped, dtype: int64\n",
      "2018-02-02 2018-02-02    4727\n",
      "Name: last_scraped, dtype: int64\n",
      "2018-01-17 2018-01-17    5224\n",
      "Name: last_scraped, dtype: int64\n",
      "2018-01-10 2018-01-10    6506\n",
      "Name: last_scraped, dtype: int64\n",
      "2017-12-07 2017-12-07    6650\n",
      "Name: last_scraped, dtype: int64\n",
      "2017-12-02 2017-12-02    6788\n",
      "2017-12-03     152\n",
      "Name: last_scraped, dtype: int64\n",
      "2017-11-08 2017-11-08    6866\n",
      "Name: last_scraped, dtype: int64\n",
      "2017-11-01 2017-11-01    8929\n",
      "Name: last_scraped, dtype: int64\n",
      "2017-10-02 2017-10-02    8933\n",
      "Name: last_scraped, dtype: int64\n",
      "2017-09-02 2017-09-02    8529\n",
      "Name: last_scraped, dtype: int64\n",
      "2017-08-02 2017-08-02    9057\n",
      "Name: last_scraped, dtype: int64\n",
      "2017-07-02 2017-07-02    8854\n",
      "2017-07-03       1\n",
      "Name: last_scraped, dtype: int64\n",
      "2017-06-02 2017-06-02    8799\n",
      "Name: last_scraped, dtype: int64\n",
      "2017-05-02 2017-05-02    8608\n",
      "2017-05-03     162\n",
      "Name: last_scraped, dtype: int64\n",
      "2017-04-02 2017-04-02    8706\n",
      "Name: last_scraped, dtype: int64\n",
      "2017-03-02 2017-03-02    8720\n",
      "Name: last_scraped, dtype: int64\n",
      "2017-02-02 2017-02-02    8777\n",
      "Name: last_scraped, dtype: int64\n",
      "2017-01-01 2017-01-01    9035\n",
      "Name: last_scraped, dtype: int64\n",
      "2016-12-03 2016-12-03    9063\n",
      "2016-12-04       3\n",
      "Name: last_scraped, dtype: int64\n",
      "2016-11-02 2016-11-02    8864\n",
      "Name: last_scraped, dtype: int64\n",
      "2016-10-01 2016-10-01    8759\n",
      "Name: last_scraped, dtype: int64\n",
      "2016-09-02 2016-09-02    8665\n",
      "Name: last_scraped, dtype: int64\n",
      "2016-08-02 2016-08-02    8501\n",
      "2016-08-03     109\n",
      "Name: last_scraped, dtype: int64\n",
      "2016-07-02 2016-07-02    8619\n",
      "Name: last_scraped, dtype: int64\n",
      "2016-06-02 2016-06-02    8440\n",
      "Name: last_scraped, dtype: int64\n",
      "2016-05-02 2016-05-02    8086\n",
      "Name: last_scraped, dtype: int64\n",
      "2016-04-03 2016-04-03    8012\n",
      "Name: last_scraped, dtype: int64\n",
      "2016-02-02 2016-02-02    8299\n",
      "Name: last_scraped, dtype: int64\n",
      "2015-12-02 2015-12-02    7165\n",
      "Name: last_scraped, dtype: int64\n",
      "2015-11-01 2015-11-02    6089\n",
      "2015-11-01     940\n",
      "Name: last_scraped, dtype: int64\n",
      "2015-09-02 2015-09-02    6361\n",
      "Name: last_scraped, dtype: int64\n",
      "2015-05-04 2015-05-04    3750\n",
      "2015-05-05    1675\n",
      "Name: last_scraped, dtype: int64\n"
     ]
    }
   ],
   "source": [
    "for i, dt in enumerate(idx[1:]):\n",
    "    df = readin_gz(idx[i+1],'listings')\n",
    "   \n",
    "    df['file_scraped_dt'] = dt\n",
    "    print(dt,df['last_scraped'].value_counts())\n",
    "    listings = pd.concat([listings, df], ignore_index = True,axis = 0,sort=False)\n",
    "        "
   ]
  },
  {
   "cell_type": "code",
   "execution_count": 9,
   "metadata": {},
   "outputs": [],
   "source": [
    "# listings_t = listings.set_index(pd.DatetimeIndex(listings['file_scraped_dt']))\n",
    "# listings_t.head(3)"
   ]
  },
  {
   "cell_type": "code",
   "execution_count": 10,
   "metadata": {},
   "outputs": [],
   "source": [
    "# # listings['file_scraped_dt'].value_counts()\n",
    "\n",
    "# m_ls = listings.resample('D').size().reset_index(name='Counts') \n",
    "# m_ls = m_ls[m_ls['Counts']>0]\n",
    "# m_ls\n",
    "\n",
    "# It appears that the data was scraped twice in each month in Nov 2017, Dec 2017, Jan 2018 prior to the deadline of the new regulations."
   ]
  },
  {
   "cell_type": "code",
   "execution_count": 11,
   "metadata": {},
   "outputs": [
    {
     "data": {
      "text/plain": [
       "0"
      ]
     },
     "execution_count": 11,
     "metadata": {},
     "output_type": "execute_result"
    },
    {
     "data": {
      "text/plain": [
       "(334790, 107)"
      ]
     },
     "execution_count": 11,
     "metadata": {},
     "output_type": "execute_result"
    }
   ],
   "source": [
    "ls_cols = listings.columns\n",
    "\n",
    "listings['is_duplicated'] = listings.duplicated(ls_cols)\n",
    "listings['is_duplicated'].sum()\n",
    "\n",
    "listings_u = listings[listings['is_duplicated'] == False].drop(['is_duplicated'],axis=1)\n",
    "listings_u.shape"
   ]
  },
  {
   "cell_type": "code",
   "execution_count": 12,
   "metadata": {},
   "outputs": [],
   "source": [
    "# listings_u = listings_u.set_index(pd.DatetimeIndex(listings_u['last_scraped']))\n",
    "\n",
    "# d_ls = listings_u.resample('D').size().reset_index(name='Counts') \n",
    "# d_ls[d_ls['Counts']>0]"
   ]
  },
  {
   "cell_type": "code",
   "execution_count": 13,
   "metadata": {},
   "outputs": [],
   "source": [
    "pickle.dump(listings_u, open('all_SF_listings.p','wb'))"
   ]
  },
  {
   "cell_type": "code",
   "execution_count": 14,
   "metadata": {},
   "outputs": [
    {
     "data": {
      "text/plain": [
       "(334790, 107)"
      ]
     },
     "execution_count": 14,
     "metadata": {},
     "output_type": "execute_result"
    }
   ],
   "source": [
    "listings_u.shape"
   ]
  },
  {
   "cell_type": "code",
   "execution_count": 15,
   "metadata": {},
   "outputs": [
    {
     "data": {
      "text/html": [
       "<div>\n",
       "<style scoped>\n",
       "    .dataframe tbody tr th:only-of-type {\n",
       "        vertical-align: middle;\n",
       "    }\n",
       "\n",
       "    .dataframe tbody tr th {\n",
       "        vertical-align: top;\n",
       "    }\n",
       "\n",
       "    .dataframe thead th {\n",
       "        text-align: right;\n",
       "    }\n",
       "</style>\n",
       "<table border=\"1\" class=\"dataframe\">\n",
       "  <thead>\n",
       "    <tr style=\"text-align: right;\">\n",
       "      <th></th>\n",
       "      <th>link</th>\n",
       "      <th>dt</th>\n",
       "    </tr>\n",
       "  </thead>\n",
       "  <tbody>\n",
       "    <tr>\n",
       "      <th>7531</th>\n",
       "      <td>http://data.insideairbnb.com/united-states/ca/...</td>\n",
       "      <td>2019-05-03</td>\n",
       "    </tr>\n",
       "    <tr>\n",
       "      <th>7538</th>\n",
       "      <td>http://data.insideairbnb.com/united-states/ca/...</td>\n",
       "      <td>2019-04-03</td>\n",
       "    </tr>\n",
       "    <tr>\n",
       "      <th>7545</th>\n",
       "      <td>http://data.insideairbnb.com/united-states/ca/...</td>\n",
       "      <td>2019-03-06</td>\n",
       "    </tr>\n",
       "    <tr>\n",
       "      <th>7552</th>\n",
       "      <td>http://data.insideairbnb.com/united-states/ca/...</td>\n",
       "      <td>2019-02-01</td>\n",
       "    </tr>\n",
       "    <tr>\n",
       "      <th>7559</th>\n",
       "      <td>http://data.insideairbnb.com/united-states/ca/...</td>\n",
       "      <td>2019-01-09</td>\n",
       "    </tr>\n",
       "  </tbody>\n",
       "</table>\n",
       "</div>"
      ],
      "text/plain": [
       "                                                   link          dt\n",
       "7531  http://data.insideairbnb.com/united-states/ca/...  2019-05-03\n",
       "7538  http://data.insideairbnb.com/united-states/ca/...  2019-04-03\n",
       "7545  http://data.insideairbnb.com/united-states/ca/...  2019-03-06\n",
       "7552  http://data.insideairbnb.com/united-states/ca/...  2019-02-01\n",
       "7559  http://data.insideairbnb.com/united-states/ca/...  2019-01-09"
      ]
     },
     "execution_count": 15,
     "metadata": {},
     "output_type": "execute_result"
    },
    {
     "data": {
      "text/plain": [
       "(45, array(['2019-05-03', '2019-04-03', '2019-03-06', '2019-02-01',\n",
       "        '2019-01-09', '2018-12-06', '2018-11-03', '2018-10-03',\n",
       "        '2018-09-08', '2018-08-06', '2018-07-05', '2018-05-09',\n",
       "        '2018-04-06', '2018-03-04', '2018-02-02', '2018-01-17',\n",
       "        '2018-01-10', '2017-12-07', '2017-12-02', '2017-11-08',\n",
       "        '2017-11-01', '2017-10-02', '2017-09-02', '2017-08-02',\n",
       "        '2017-07-02', '2017-06-02', '2017-05-02', '2017-04-02',\n",
       "        '2017-03-02', '2017-02-02', '2017-01-01', '2016-12-03',\n",
       "        '2016-11-02', '2016-10-01', '2016-09-02', '2016-08-02',\n",
       "        '2016-07-02', '2016-06-02', '2016-05-02', '2016-04-03',\n",
       "        '2016-02-02', '2015-12-02', '2015-11-01', '2015-09-02',\n",
       "        '2015-05-04'], dtype=object))"
      ]
     },
     "execution_count": 15,
     "metadata": {},
     "output_type": "execute_result"
    }
   ],
   "source": [
    "links_sf_reviews = gather_links('san-francisco','reviews.csv.gz')\n",
    "links_sf_reviews['dt'] = [x.split('/')[6] for x in links_sf_reviews['link']]\n",
    "links_sf_reviews.head()\n",
    "\n",
    "idx = links_sf_reviews['dt'].unique()\n",
    "len(idx),idx"
   ]
  },
  {
   "cell_type": "code",
   "execution_count": 16,
   "metadata": {},
   "outputs": [
    {
     "name": "stdout",
     "output_type": "stream",
     "text": [
      "2019-04-03\n",
      "2019-03-06\n",
      "2019-02-01\n",
      "2019-01-09\n",
      "2018-12-06\n",
      "2018-11-03\n",
      "2018-10-03\n",
      "2018-09-08\n",
      "2018-08-06\n",
      "2018-07-05\n",
      "2018-05-09\n",
      "2018-04-06\n",
      "2018-03-04\n",
      "2018-02-02\n",
      "2018-01-17\n",
      "2018-01-10\n",
      "2017-12-07\n",
      "2017-12-02\n",
      "2017-11-08\n",
      "2017-11-01\n",
      "2017-10-02\n",
      "2017-09-02\n",
      "2017-08-02\n",
      "2017-07-02\n",
      "2017-06-02\n",
      "2017-05-02\n",
      "2017-04-02\n",
      "2017-03-02\n",
      "2017-02-02\n",
      "2017-01-01\n",
      "2016-12-03\n",
      "2016-11-02\n",
      "2016-10-01\n",
      "2016-09-02\n",
      "2016-08-02\n",
      "2016-07-02\n",
      "2016-06-02\n",
      "2016-05-02\n",
      "2016-04-03\n",
      "2016-02-02\n",
      "2015-12-02\n",
      "2015-11-01\n",
      "2015-09-02\n",
      "2015-05-04\n"
     ]
    }
   ],
   "source": [
    "reviews = readin_gz(idx[0],'reviews')       \n",
    "\n",
    "for i, dt in enumerate(idx[1:]):\n",
    "    df = readin_gz(idx[i+1],'reviews')\n",
    "    print(dt)\n",
    "    reviews = pd.concat([reviews, df], ignore_index = True,axis = 0,sort=False)\n",
    "        "
   ]
  },
  {
   "cell_type": "code",
   "execution_count": 17,
   "metadata": {},
   "outputs": [
    {
     "data": {
      "text/plain": [
       "(10302048, 6)"
      ]
     },
     "execution_count": 17,
     "metadata": {},
     "output_type": "execute_result"
    }
   ],
   "source": [
    "reviews.shape"
   ]
  },
  {
   "cell_type": "code",
   "execution_count": 18,
   "metadata": {},
   "outputs": [],
   "source": [
    "rv_cols = reviews.columns"
   ]
  },
  {
   "cell_type": "code",
   "execution_count": 19,
   "metadata": {},
   "outputs": [
    {
     "data": {
      "text/plain": [
       "9651267"
      ]
     },
     "execution_count": 19,
     "metadata": {},
     "output_type": "execute_result"
    },
    {
     "data": {
      "text/plain": [
       "(650781, 6)"
      ]
     },
     "execution_count": 19,
     "metadata": {},
     "output_type": "execute_result"
    }
   ],
   "source": [
    "reviews['is_duplicated'] = reviews.duplicated(rv_cols)\n",
    "reviews['is_duplicated'].sum()\n",
    "\n",
    "reviews_u = reviews[reviews['is_duplicated'] == False].drop(['is_duplicated'],axis=1)\n",
    "reviews_u.shape"
   ]
  },
  {
   "cell_type": "code",
   "execution_count": 20,
   "metadata": {},
   "outputs": [
    {
     "data": {
      "text/html": [
       "<div>\n",
       "<style scoped>\n",
       "    .dataframe tbody tr th:only-of-type {\n",
       "        vertical-align: middle;\n",
       "    }\n",
       "\n",
       "    .dataframe tbody tr th {\n",
       "        vertical-align: top;\n",
       "    }\n",
       "\n",
       "    .dataframe thead th {\n",
       "        text-align: right;\n",
       "    }\n",
       "</style>\n",
       "<table border=\"1\" class=\"dataframe\">\n",
       "  <thead>\n",
       "    <tr style=\"text-align: right;\">\n",
       "      <th></th>\n",
       "      <th>listing_id</th>\n",
       "      <th>id</th>\n",
       "      <th>date</th>\n",
       "      <th>reviewer_id</th>\n",
       "      <th>reviewer_name</th>\n",
       "      <th>comments</th>\n",
       "    </tr>\n",
       "  </thead>\n",
       "  <tbody>\n",
       "    <tr>\n",
       "      <th>0</th>\n",
       "      <td>958</td>\n",
       "      <td>5977</td>\n",
       "      <td>2009-07-23</td>\n",
       "      <td>15695</td>\n",
       "      <td>Edmund C</td>\n",
       "      <td>Our experience was, without a doubt, a five st...</td>\n",
       "    </tr>\n",
       "    <tr>\n",
       "      <th>1</th>\n",
       "      <td>958</td>\n",
       "      <td>6660</td>\n",
       "      <td>2009-08-03</td>\n",
       "      <td>26145</td>\n",
       "      <td>Simon</td>\n",
       "      <td>Returning to San Francisco is a rejuvenating t...</td>\n",
       "    </tr>\n",
       "    <tr>\n",
       "      <th>2</th>\n",
       "      <td>958</td>\n",
       "      <td>11519</td>\n",
       "      <td>2009-09-27</td>\n",
       "      <td>25839</td>\n",
       "      <td>Denis</td>\n",
       "      <td>We were very pleased with the accommodations a...</td>\n",
       "    </tr>\n",
       "    <tr>\n",
       "      <th>3</th>\n",
       "      <td>958</td>\n",
       "      <td>16282</td>\n",
       "      <td>2009-11-05</td>\n",
       "      <td>33750</td>\n",
       "      <td>Anna</td>\n",
       "      <td>We highly recommend this accomodation and agre...</td>\n",
       "    </tr>\n",
       "    <tr>\n",
       "      <th>4</th>\n",
       "      <td>958</td>\n",
       "      <td>26008</td>\n",
       "      <td>2010-02-13</td>\n",
       "      <td>15416</td>\n",
       "      <td>Venetia</td>\n",
       "      <td>Holly's place was great. It was exactly what I...</td>\n",
       "    </tr>\n",
       "  </tbody>\n",
       "</table>\n",
       "</div>"
      ],
      "text/plain": [
       "   listing_id     id        date  reviewer_id reviewer_name  \\\n",
       "0         958   5977  2009-07-23        15695      Edmund C   \n",
       "1         958   6660  2009-08-03        26145         Simon   \n",
       "2         958  11519  2009-09-27        25839         Denis   \n",
       "3         958  16282  2009-11-05        33750          Anna   \n",
       "4         958  26008  2010-02-13        15416       Venetia   \n",
       "\n",
       "                                            comments  \n",
       "0  Our experience was, without a doubt, a five st...  \n",
       "1  Returning to San Francisco is a rejuvenating t...  \n",
       "2  We were very pleased with the accommodations a...  \n",
       "3  We highly recommend this accomodation and agre...  \n",
       "4  Holly's place was great. It was exactly what I...  "
      ]
     },
     "execution_count": 20,
     "metadata": {},
     "output_type": "execute_result"
    }
   ],
   "source": [
    "reviews_u.head()"
   ]
  },
  {
   "cell_type": "code",
   "execution_count": 21,
   "metadata": {},
   "outputs": [],
   "source": [
    "pickle.dump(reviews_u, open('all_SF_reviews.p','wb'))"
   ]
  },
  {
   "cell_type": "code",
   "execution_count": 5,
   "metadata": {},
   "outputs": [
    {
     "data": {
      "text/html": [
       "<div>\n",
       "<style scoped>\n",
       "    .dataframe tbody tr th:only-of-type {\n",
       "        vertical-align: middle;\n",
       "    }\n",
       "\n",
       "    .dataframe tbody tr th {\n",
       "        vertical-align: top;\n",
       "    }\n",
       "\n",
       "    .dataframe thead th {\n",
       "        text-align: right;\n",
       "    }\n",
       "</style>\n",
       "<table border=\"1\" class=\"dataframe\">\n",
       "  <thead>\n",
       "    <tr style=\"text-align: right;\">\n",
       "      <th></th>\n",
       "      <th>link</th>\n",
       "      <th>dt</th>\n",
       "    </tr>\n",
       "  </thead>\n",
       "  <tbody>\n",
       "    <tr>\n",
       "      <th>7530</th>\n",
       "      <td>http://data.insideairbnb.com/united-states/ca/...</td>\n",
       "      <td>2019-05-03</td>\n",
       "    </tr>\n",
       "    <tr>\n",
       "      <th>7537</th>\n",
       "      <td>http://data.insideairbnb.com/united-states/ca/...</td>\n",
       "      <td>2019-04-03</td>\n",
       "    </tr>\n",
       "    <tr>\n",
       "      <th>7544</th>\n",
       "      <td>http://data.insideairbnb.com/united-states/ca/...</td>\n",
       "      <td>2019-03-06</td>\n",
       "    </tr>\n",
       "    <tr>\n",
       "      <th>7551</th>\n",
       "      <td>http://data.insideairbnb.com/united-states/ca/...</td>\n",
       "      <td>2019-02-01</td>\n",
       "    </tr>\n",
       "    <tr>\n",
       "      <th>7558</th>\n",
       "      <td>http://data.insideairbnb.com/united-states/ca/...</td>\n",
       "      <td>2019-01-09</td>\n",
       "    </tr>\n",
       "  </tbody>\n",
       "</table>\n",
       "</div>"
      ],
      "text/plain": [
       "                                                   link          dt\n",
       "7530  http://data.insideairbnb.com/united-states/ca/...  2019-05-03\n",
       "7537  http://data.insideairbnb.com/united-states/ca/...  2019-04-03\n",
       "7544  http://data.insideairbnb.com/united-states/ca/...  2019-03-06\n",
       "7551  http://data.insideairbnb.com/united-states/ca/...  2019-02-01\n",
       "7558  http://data.insideairbnb.com/united-states/ca/...  2019-01-09"
      ]
     },
     "execution_count": 5,
     "metadata": {},
     "output_type": "execute_result"
    },
    {
     "data": {
      "text/plain": [
       "(45, array(['2019-05-03', '2019-04-03', '2019-03-06', '2019-02-01',\n",
       "        '2019-01-09', '2018-12-06', '2018-11-03', '2018-10-03',\n",
       "        '2018-09-08', '2018-08-06', '2018-07-05', '2018-05-09',\n",
       "        '2018-04-06', '2018-03-04', '2018-02-02', '2018-01-17',\n",
       "        '2018-01-10', '2017-12-07', '2017-12-02', '2017-11-08',\n",
       "        '2017-11-01', '2017-10-02', '2017-09-02', '2017-08-02',\n",
       "        '2017-07-02', '2017-06-02', '2017-05-02', '2017-04-02',\n",
       "        '2017-03-02', '2017-02-02', '2017-01-01', '2016-12-03',\n",
       "        '2016-11-02', '2016-10-01', '2016-09-02', '2016-08-02',\n",
       "        '2016-07-02', '2016-06-02', '2016-05-02', '2016-04-03',\n",
       "        '2016-02-02', '2015-12-02', '2015-11-01', '2015-09-02',\n",
       "        '2015-05-04'], dtype=object))"
      ]
     },
     "execution_count": 5,
     "metadata": {},
     "output_type": "execute_result"
    }
   ],
   "source": [
    "links_sf_calendar = gather_links('san-francisco','calendar.csv.gz')\n",
    "links_sf_calendar['dt'] = [x.split('/')[6] for x in links_sf_calendar['link']]\n",
    "links_sf_calendar.head()\n",
    "\n",
    "idx = links_sf_calendar['dt'].unique()\n",
    "len(idx),idx"
   ]
  },
  {
   "cell_type": "code",
   "execution_count": 9,
   "metadata": {},
   "outputs": [
    {
     "name": "stdout",
     "output_type": "stream",
     "text": [
      "2019-04-03\n",
      "2019-03-06\n",
      "2019-02-01\n",
      "2019-01-09\n",
      "2018-12-06\n",
      "2018-11-03\n",
      "2018-10-03\n",
      "2018-09-08\n",
      "2018-08-06\n",
      "2018-07-05\n",
      "2018-05-09\n",
      "2018-04-06\n",
      "2018-03-04\n",
      "2018-02-02\n",
      "2018-01-17\n",
      "2018-01-10\n",
      "2017-12-07\n",
      "2017-12-02\n",
      "2017-11-08\n",
      "2017-11-01\n",
      "2017-10-02\n",
      "2017-09-02\n",
      "2017-08-02\n",
      "2017-07-02\n",
      "2017-06-02\n",
      "2017-05-02\n",
      "2017-04-02\n",
      "2017-03-02\n",
      "2017-02-02\n",
      "2017-01-01\n",
      "2016-12-03\n",
      "2016-11-02\n",
      "2016-10-01\n",
      "2016-09-02\n",
      "2016-08-02\n",
      "2016-07-02\n",
      "2016-06-02\n",
      "2016-05-02\n",
      "2016-04-03\n",
      "2016-02-02\n",
      "2015-12-02\n",
      "2015-11-01\n",
      "2015-09-02\n",
      "2015-05-04\n"
     ]
    }
   ],
   "source": [
    "calendar = readin_gz(idx[0],'calendar')     \n",
    "# calendar['file_scraped_dt'] = idx[0]\n",
    "\n",
    "\n",
    "for i, dt in enumerate(idx[1:]):\n",
    "    df = readin_gz(idx[i+1],'calendar')\n",
    "#     df['file_scraped_dt'] = dt\n",
    "    print(dt)\n",
    "    calendar = pd.concat([calendar, df], ignore_index = True,axis = 0,sort=False)"
   ]
  },
  {
   "cell_type": "code",
   "execution_count": 30,
   "metadata": {},
   "outputs": [
    {
     "data": {
      "text/plain": [
       "(122200175, 8)"
      ]
     },
     "execution_count": 30,
     "metadata": {},
     "output_type": "execute_result"
    }
   ],
   "source": [
    "# calendar = calendar.drop(['file_scraped_dt'],axis=1)\n",
    "# calendar.shape "
   ]
  },
  {
   "cell_type": "code",
   "execution_count": 10,
   "metadata": {},
   "outputs": [
    {
     "data": {
      "text/plain": [
       "Index(['listing_id', 'date', 'available', 'price', 'adjusted_price',\n",
       "       'minimum_nights', 'maximum_nights'],\n",
       "      dtype='object')"
      ]
     },
     "execution_count": 10,
     "metadata": {},
     "output_type": "execute_result"
    }
   ],
   "source": [
    "cal_cols = calendar.columns\n",
    "cal_cols"
   ]
  },
  {
   "cell_type": "code",
   "execution_count": 11,
   "metadata": {},
   "outputs": [
    {
     "data": {
      "text/plain": [
       "81501098"
      ]
     },
     "execution_count": 11,
     "metadata": {},
     "output_type": "execute_result"
    },
    {
     "data": {
      "text/plain": [
       "(40699077, 7)"
      ]
     },
     "execution_count": 11,
     "metadata": {},
     "output_type": "execute_result"
    }
   ],
   "source": [
    "calendar['is_duplicated'] = calendar.duplicated(cal_cols)\n",
    "calendar['is_duplicated'].sum()\n",
    "\n",
    "calendar_u = calendar[calendar['is_duplicated'] == False].drop(['is_duplicated'],axis=1)\n",
    "calendar_u.shape"
   ]
  },
  {
   "cell_type": "code",
   "execution_count": 12,
   "metadata": {},
   "outputs": [
    {
     "data": {
      "text/html": [
       "<div>\n",
       "<style scoped>\n",
       "    .dataframe tbody tr th:only-of-type {\n",
       "        vertical-align: middle;\n",
       "    }\n",
       "\n",
       "    .dataframe tbody tr th {\n",
       "        vertical-align: top;\n",
       "    }\n",
       "\n",
       "    .dataframe thead th {\n",
       "        text-align: right;\n",
       "    }\n",
       "</style>\n",
       "<table border=\"1\" class=\"dataframe\">\n",
       "  <thead>\n",
       "    <tr style=\"text-align: right;\">\n",
       "      <th></th>\n",
       "      <th>listing_id</th>\n",
       "      <th>date</th>\n",
       "      <th>available</th>\n",
       "      <th>price</th>\n",
       "      <th>adjusted_price</th>\n",
       "      <th>minimum_nights</th>\n",
       "      <th>maximum_nights</th>\n",
       "    </tr>\n",
       "  </thead>\n",
       "  <tbody>\n",
       "    <tr>\n",
       "      <th>0</th>\n",
       "      <td>34158472</td>\n",
       "      <td>2019-05-03</td>\n",
       "      <td>f</td>\n",
       "      <td>$399.00</td>\n",
       "      <td>$399.00</td>\n",
       "      <td>2.0</td>\n",
       "      <td>1125.0</td>\n",
       "    </tr>\n",
       "    <tr>\n",
       "      <th>1</th>\n",
       "      <td>34158472</td>\n",
       "      <td>2019-05-04</td>\n",
       "      <td>f</td>\n",
       "      <td>$399.00</td>\n",
       "      <td>$399.00</td>\n",
       "      <td>2.0</td>\n",
       "      <td>1125.0</td>\n",
       "    </tr>\n",
       "    <tr>\n",
       "      <th>2</th>\n",
       "      <td>34158472</td>\n",
       "      <td>2019-05-05</td>\n",
       "      <td>t</td>\n",
       "      <td>$399.00</td>\n",
       "      <td>$399.00</td>\n",
       "      <td>2.0</td>\n",
       "      <td>1125.0</td>\n",
       "    </tr>\n",
       "    <tr>\n",
       "      <th>3</th>\n",
       "      <td>34158472</td>\n",
       "      <td>2019-05-06</td>\n",
       "      <td>t</td>\n",
       "      <td>$399.00</td>\n",
       "      <td>$399.00</td>\n",
       "      <td>2.0</td>\n",
       "      <td>1125.0</td>\n",
       "    </tr>\n",
       "    <tr>\n",
       "      <th>4</th>\n",
       "      <td>34158472</td>\n",
       "      <td>2019-05-07</td>\n",
       "      <td>t</td>\n",
       "      <td>$399.00</td>\n",
       "      <td>$399.00</td>\n",
       "      <td>2.0</td>\n",
       "      <td>1125.0</td>\n",
       "    </tr>\n",
       "  </tbody>\n",
       "</table>\n",
       "</div>"
      ],
      "text/plain": [
       "   listing_id        date available    price adjusted_price  minimum_nights  \\\n",
       "0    34158472  2019-05-03         f  $399.00        $399.00             2.0   \n",
       "1    34158472  2019-05-04         f  $399.00        $399.00             2.0   \n",
       "2    34158472  2019-05-05         t  $399.00        $399.00             2.0   \n",
       "3    34158472  2019-05-06         t  $399.00        $399.00             2.0   \n",
       "4    34158472  2019-05-07         t  $399.00        $399.00             2.0   \n",
       "\n",
       "   maximum_nights  \n",
       "0          1125.0  \n",
       "1          1125.0  \n",
       "2          1125.0  \n",
       "3          1125.0  \n",
       "4          1125.0  "
      ]
     },
     "execution_count": 12,
     "metadata": {},
     "output_type": "execute_result"
    }
   ],
   "source": [
    "calendar_u.head()"
   ]
  },
  {
   "cell_type": "code",
   "execution_count": 13,
   "metadata": {},
   "outputs": [],
   "source": [
    "pickle.dump(calendar_u, open('all_SF_calendar.p','wb'))"
   ]
  },
  {
   "cell_type": "code",
   "execution_count": null,
   "metadata": {},
   "outputs": [],
   "source": [
    "# listings['has_availability'].value_counts()"
   ]
  },
  {
   "cell_type": "code",
   "execution_count": null,
   "metadata": {},
   "outputs": [],
   "source": [
    "#  pd.crosstab(listings_u['property_type'].str.upper(), listings_u['room_type'].str.upper(), margins=True)"
   ]
  },
  {
   "cell_type": "code",
   "execution_count": null,
   "metadata": {},
   "outputs": [],
   "source": [
    "# len(listings_u['host_id'].unique())"
   ]
  },
  {
   "cell_type": "code",
   "execution_count": null,
   "metadata": {},
   "outputs": [],
   "source": [
    "# len(listings_u['id'].unique())"
   ]
  },
  {
   "cell_type": "code",
   "execution_count": null,
   "metadata": {},
   "outputs": [],
   "source": [
    "# listings_u['neighbourhood'].str.upper().value_counts().reset_index()"
   ]
  },
  {
   "cell_type": "code",
   "execution_count": null,
   "metadata": {},
   "outputs": [],
   "source": [
    "# listings_u['zipcode'] = listings_u['zipcode'].astype(str).str.zfill(5)[:-2]"
   ]
  },
  {
   "cell_type": "code",
   "execution_count": null,
   "metadata": {},
   "outputs": [],
   "source": [
    "# listings_u = listings_u.set_index(pd.DatetimeIndex(listings_u['last_scraped']))"
   ]
  },
  {
   "cell_type": "code",
   "execution_count": null,
   "metadata": {},
   "outputs": [],
   "source": [
    "# m_ls = listings_u.resample('M').size().reset_index(name='Counts') \n",
    "# m_ls = m_ls[m_ls['Counts']>0]\n",
    "# m_ls"
   ]
  },
  {
   "cell_type": "code",
   "execution_count": null,
   "metadata": {},
   "outputs": [],
   "source": [
    "# pd.crosstab(listings_u['last_scraped'], listings_u['has_availability'],margins=True)"
   ]
  },
  {
   "cell_type": "code",
   "execution_count": null,
   "metadata": {},
   "outputs": [],
   "source": []
  }
 ],
 "metadata": {
  "kernelspec": {
   "display_name": "Python 3",
   "language": "python",
   "name": "python3"
  },
  "language_info": {
   "codemirror_mode": {
    "name": "ipython",
    "version": 3
   },
   "file_extension": ".py",
   "mimetype": "text/x-python",
   "name": "python",
   "nbconvert_exporter": "python",
   "pygments_lexer": "ipython3",
   "version": "3.7.1"
  }
 },
 "nbformat": 4,
 "nbformat_minor": 2
}
