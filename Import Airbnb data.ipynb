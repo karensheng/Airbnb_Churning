{
 "cells": [
  {
   "cell_type": "code",
   "execution_count": 133,
   "metadata": {},
   "outputs": [],
   "source": [
    "# Enable outputting results interactively. \n",
    "# All the results from code in a given cell will be displayed instead of only the last one.\n",
    "\n",
    "from IPython.core.interactiveshell import InteractiveShell\n",
    "InteractiveShell.ast_node_interactivity = \"all\""
   ]
  },
  {
   "cell_type": "code",
   "execution_count": 79,
   "metadata": {},
   "outputs": [],
   "source": [
    "import pandas as pd\n",
    "import re\n",
    "\n",
    "from bs4 import BeautifulSoup, SoupStrainer\n",
    "import requests\n",
    "import pickle"
   ]
  },
  {
   "cell_type": "code",
   "execution_count": 6,
   "metadata": {},
   "outputs": [],
   "source": [
    "url = \"http://insideairbnb.com/get-the-data.html\"\n",
    "\n",
    "page = requests.get(url)    \n",
    "data = page.text\n",
    "soup = BeautifulSoup(data)\n",
    "\n",
    "links = []\n",
    "for link in soup.find_all('a'):\n",
    "    links.append(link.get('href'))"
   ]
  },
  {
   "cell_type": "code",
   "execution_count": 93,
   "metadata": {},
   "outputs": [],
   "source": [
    "def gather_links(city,cat):\n",
    "\n",
    "    len(links)\n",
    "    links_df = pd.DataFrame(links, columns = ['link'])\n",
    "    links_df2 = links_df[links_df['link'].str.contains(city)==True]\n",
    "    links_df3 = links_df2[links_df2['link'].str.contains(cat)==True]\n",
    "    return links_df3"
   ]
  },
  {
   "cell_type": "code",
   "execution_count": 94,
   "metadata": {},
   "outputs": [],
   "source": [
    "def readin_gz(dt,cat):\n",
    "    url = 'http://data.insideairbnb.com/united-states/ca/san-francisco/{}/data/{}.csv.gz'.format(str(dt),str(cat))\n",
    "\n",
    "    listings = pd.read_csv(url,compression='gzip',header=0, sep=',', quotechar='\"')\n",
    "    return listings\n",
    "    "
   ]
  },
  {
   "cell_type": "code",
   "execution_count": 95,
   "metadata": {},
   "outputs": [
    {
     "data": {
      "text/plain": [
       "(45, array(['2019-05-03', '2019-04-03', '2019-03-06', '2019-02-01',\n",
       "        '2019-01-09', '2018-12-06', '2018-11-03', '2018-10-03',\n",
       "        '2018-09-08', '2018-08-06', '2018-07-05', '2018-05-09',\n",
       "        '2018-04-06', '2018-03-04', '2018-02-02', '2018-01-17',\n",
       "        '2018-01-10', '2017-12-07', '2017-12-02', '2017-11-08',\n",
       "        '2017-11-01', '2017-10-02', '2017-09-02', '2017-08-02',\n",
       "        '2017-07-02', '2017-06-02', '2017-05-02', '2017-04-02',\n",
       "        '2017-03-02', '2017-02-02', '2017-01-01', '2016-12-03',\n",
       "        '2016-11-02', '2016-10-01', '2016-09-02', '2016-08-02',\n",
       "        '2016-07-02', '2016-06-02', '2016-05-02', '2016-04-03',\n",
       "        '2016-02-02', '2015-12-02', '2015-11-01', '2015-09-02',\n",
       "        '2015-05-04'], dtype=object))"
      ]
     },
     "execution_count": 95,
     "metadata": {},
     "output_type": "execute_result"
    }
   ],
   "source": [
    "links_sf_listings = gather_links('san-francisco','listings.csv.gz')\n",
    "links_sf_listings['dt'] = [x.split('/')[6] for x in links_sf_listings['link']]\n",
    "links_sf_listings.head()\n",
    "\n",
    "idx = links_sf_listings['dt'].unique()\n",
    "len(idx),idx"
   ]
  },
  {
   "cell_type": "code",
   "execution_count": 65,
   "metadata": {},
   "outputs": [
    {
     "name": "stdout",
     "output_type": "stream",
     "text": [
      "2019-04-03\n",
      "2019-03-06\n",
      "2019-02-01\n",
      "2019-01-09\n",
      "2018-12-06\n",
      "2018-11-03\n",
      "2018-10-03\n",
      "2018-09-08\n",
      "2018-08-06\n",
      "2018-07-05\n",
      "2018-05-09\n",
      "2018-04-06\n",
      "2018-03-04\n",
      "2018-02-02\n",
      "2018-01-17\n",
      "2018-01-10\n",
      "2017-12-07\n",
      "2017-12-02\n",
      "2017-11-08\n",
      "2017-11-01\n",
      "2017-10-02\n",
      "2017-09-02\n",
      "2017-08-02\n",
      "2017-07-02\n",
      "2017-06-02\n",
      "2017-05-02\n",
      "2017-04-02\n",
      "2017-03-02\n",
      "2017-02-02\n",
      "2017-01-01\n",
      "2016-12-03\n",
      "2016-11-02\n",
      "2016-10-01\n",
      "2016-09-02\n",
      "2016-08-02\n",
      "2016-07-02\n",
      "2016-06-02\n",
      "2016-05-02\n",
      "2016-04-03\n",
      "2016-02-02\n",
      "2015-12-02\n",
      "2015-11-01\n",
      "2015-09-02\n",
      "2015-05-04\n"
     ]
    }
   ],
   "source": [
    "listings = readin_gz(idx[0],'listings')       \n",
    "\n",
    "for i, dt in enumerate(idx[1:]):\n",
    "    df = readin_gz(idx[i],'listings')\n",
    "    print(dt)\n",
    "    listings = pd.concat([listings, df], ignore_index = True,axis = 0,sort=False)\n",
    "        "
   ]
  },
  {
   "cell_type": "code",
   "execution_count": 103,
   "metadata": {},
   "outputs": [
    {
     "data": {
      "text/plain": [
       "2019-05-03    14706\n",
       "2016-12-03     9063\n",
       "2017-08-02     9057\n",
       "2017-01-01     9035\n",
       "2017-10-02     8933\n",
       "2017-11-01     8929\n",
       "2016-11-02     8864\n",
       "2017-07-02     8854\n",
       "2017-06-02     8799\n",
       "2017-02-02     8777\n",
       "2016-10-01     8759\n",
       "2017-03-02     8720\n",
       "2017-04-02     8706\n",
       "2016-09-02     8665\n",
       "2016-07-02     8619\n",
       "2017-05-02     8608\n",
       "2017-09-02     8529\n",
       "2016-08-02     8501\n",
       "2016-06-02     8440\n",
       "2016-02-02     8299\n",
       "2016-05-02     8086\n",
       "2016-04-03     8012\n",
       "2019-04-03     7276\n",
       "2019-01-09     7251\n",
       "2019-02-01     7198\n",
       "2015-12-02     7165\n",
       "2019-03-06     7151\n",
       "2018-12-06     7072\n",
       "2018-11-03     6981\n",
       "2017-11-08     6866\n",
       "2018-10-03     6807\n",
       "2017-12-02     6788\n",
       "2017-12-07     6650\n",
       "2018-08-06     6633\n",
       "2018-09-08     6529\n",
       "2018-01-10     6506\n",
       "2015-09-02     6361\n",
       "2015-11-02     6089\n",
       "2018-01-17     5224\n",
       "2018-03-04     4802\n",
       "2018-05-09     4774\n",
       "2018-02-02     4727\n",
       "2018-07-05     4693\n",
       "2018-04-07     3593\n",
       "2018-04-06     1251\n",
       "2015-11-01      940\n",
       "2017-05-03      162\n",
       "2017-12-03      152\n",
       "2016-08-03      109\n",
       "2016-12-04        3\n",
       "2018-03-06        2\n",
       "2017-07-03        1\n",
       "2019-04-05        1\n",
       "Name: last_scraped, dtype: int64"
      ]
     },
     "execution_count": 103,
     "metadata": {},
     "output_type": "execute_result"
    }
   ],
   "source": [
    "listings['last_scraped'].value_counts()"
   ]
  },
  {
   "cell_type": "code",
   "execution_count": 135,
   "metadata": {},
   "outputs": [
    {
     "data": {
      "text/plain": [
       "7353"
      ]
     },
     "execution_count": 135,
     "metadata": {},
     "output_type": "execute_result"
    },
    {
     "data": {
      "text/plain": [
       "(329365, 106)"
      ]
     },
     "execution_count": 135,
     "metadata": {},
     "output_type": "execute_result"
    }
   ],
   "source": [
    "ls_cols = listings.columns\n",
    "\n",
    "listings['is_duplicated'] = listings.duplicated(ls_cols)\n",
    "listings['is_duplicated'].sum()\n",
    "\n",
    "listings_u = listings[listings['is_duplicated'] == False].drop(['is_duplicated'],axis=1)\n",
    "listings_u.shape"
   ]
  },
  {
   "cell_type": "code",
   "execution_count": 136,
   "metadata": {},
   "outputs": [],
   "source": [
    "pickle.dump(listings_u, open('all_SF_listings.p','wb'))"
   ]
  },
  {
   "cell_type": "code",
   "execution_count": 82,
   "metadata": {},
   "outputs": [
    {
     "data": {
      "text/plain": [
       "(336718, 106)"
      ]
     },
     "execution_count": 82,
     "metadata": {},
     "output_type": "execute_result"
    }
   ],
   "source": [
    "listings.shape"
   ]
  },
  {
   "cell_type": "code",
   "execution_count": 99,
   "metadata": {},
   "outputs": [
    {
     "data": {
      "text/plain": [
       "(45, array(['2019-05-03', '2019-04-03', '2019-03-06', '2019-02-01',\n",
       "        '2019-01-09', '2018-12-06', '2018-11-03', '2018-10-03',\n",
       "        '2018-09-08', '2018-08-06', '2018-07-05', '2018-05-09',\n",
       "        '2018-04-06', '2018-03-04', '2018-02-02', '2018-01-17',\n",
       "        '2018-01-10', '2017-12-07', '2017-12-02', '2017-11-08',\n",
       "        '2017-11-01', '2017-10-02', '2017-09-02', '2017-08-02',\n",
       "        '2017-07-02', '2017-06-02', '2017-05-02', '2017-04-02',\n",
       "        '2017-03-02', '2017-02-02', '2017-01-01', '2016-12-03',\n",
       "        '2016-11-02', '2016-10-01', '2016-09-02', '2016-08-02',\n",
       "        '2016-07-02', '2016-06-02', '2016-05-02', '2016-04-03',\n",
       "        '2016-02-02', '2015-12-02', '2015-11-01', '2015-09-02',\n",
       "        '2015-05-04'], dtype=object))"
      ]
     },
     "execution_count": 99,
     "metadata": {},
     "output_type": "execute_result"
    }
   ],
   "source": [
    "links_sf_reviews = gather_links('san-francisco','reviews.csv.gz')\n",
    "links_sf_reviews['dt'] = [x.split('/')[6] for x in links_sf_reviews['link']]\n",
    "links_sf_reviews.head()\n",
    "\n",
    "idx = links_sf_reviews['dt'].unique()\n",
    "len(idx),idx"
   ]
  },
  {
   "cell_type": "code",
   "execution_count": 100,
   "metadata": {},
   "outputs": [
    {
     "name": "stdout",
     "output_type": "stream",
     "text": [
      "2019-04-03\n",
      "2019-03-06\n",
      "2019-02-01\n",
      "2019-01-09\n",
      "2018-12-06\n",
      "2018-11-03\n",
      "2018-10-03\n",
      "2018-09-08\n",
      "2018-08-06\n",
      "2018-07-05\n",
      "2018-05-09\n",
      "2018-04-06\n",
      "2018-03-04\n",
      "2018-02-02\n",
      "2018-01-17\n",
      "2018-01-10\n",
      "2017-12-07\n",
      "2017-12-02\n",
      "2017-11-08\n",
      "2017-11-01\n",
      "2017-10-02\n",
      "2017-09-02\n",
      "2017-08-02\n",
      "2017-07-02\n",
      "2017-06-02\n",
      "2017-05-02\n",
      "2017-04-02\n",
      "2017-03-02\n",
      "2017-02-02\n",
      "2017-01-01\n",
      "2016-12-03\n",
      "2016-11-02\n",
      "2016-10-01\n",
      "2016-09-02\n",
      "2016-08-02\n",
      "2016-07-02\n",
      "2016-06-02\n",
      "2016-05-02\n",
      "2016-04-03\n",
      "2016-02-02\n",
      "2015-12-02\n",
      "2015-11-01\n",
      "2015-09-02\n",
      "2015-05-04\n"
     ]
    }
   ],
   "source": [
    "reviews = readin_gz(idx[0],'reviews')       \n",
    "\n",
    "for i, dt in enumerate(idx[1:]):\n",
    "    df = readin_gz(idx[i],'reviews')\n",
    "    print(dt)\n",
    "    reviews = pd.concat([reviews, df], ignore_index = True,axis = 0,sort=False)\n",
    "        "
   ]
  },
  {
   "cell_type": "code",
   "execution_count": 107,
   "metadata": {},
   "outputs": [
    {
     "data": {
      "text/plain": [
       "(10521241, 7)"
      ]
     },
     "execution_count": 107,
     "metadata": {},
     "output_type": "execute_result"
    }
   ],
   "source": [
    "reviews.shape"
   ]
  },
  {
   "cell_type": "code",
   "execution_count": 112,
   "metadata": {},
   "outputs": [],
   "source": [
    "rv_cols = reviews.columns"
   ]
  },
  {
   "cell_type": "code",
   "execution_count": 113,
   "metadata": {},
   "outputs": [
    {
     "data": {
      "text/plain": [
       "(1199418, 6)"
      ]
     },
     "execution_count": 113,
     "metadata": {},
     "output_type": "execute_result"
    }
   ],
   "source": [
    "reviews['is_duplicated'] = reviews.duplicated(rv_cols)\n",
    "reviews['is_duplicated'].sum()\n",
    "\n",
    "reviews_u = reviews[reviews['is_duplicated'] == False].drop(['is_duplicated'],axis=1)\n",
    "reviews_u.shape"
   ]
  },
  {
   "cell_type": "code",
   "execution_count": 115,
   "metadata": {},
   "outputs": [
    {
     "data": {
      "text/html": [
       "<div>\n",
       "<style scoped>\n",
       "    .dataframe tbody tr th:only-of-type {\n",
       "        vertical-align: middle;\n",
       "    }\n",
       "\n",
       "    .dataframe tbody tr th {\n",
       "        vertical-align: top;\n",
       "    }\n",
       "\n",
       "    .dataframe thead th {\n",
       "        text-align: right;\n",
       "    }\n",
       "</style>\n",
       "<table border=\"1\" class=\"dataframe\">\n",
       "  <thead>\n",
       "    <tr style=\"text-align: right;\">\n",
       "      <th></th>\n",
       "      <th>listing_id</th>\n",
       "      <th>id</th>\n",
       "      <th>date</th>\n",
       "      <th>reviewer_id</th>\n",
       "      <th>reviewer_name</th>\n",
       "      <th>comments</th>\n",
       "    </tr>\n",
       "  </thead>\n",
       "  <tbody>\n",
       "    <tr>\n",
       "      <th>0</th>\n",
       "      <td>958</td>\n",
       "      <td>5977</td>\n",
       "      <td>2009-07-23</td>\n",
       "      <td>15695</td>\n",
       "      <td>Edmund C</td>\n",
       "      <td>Our experience was, without a doubt, a five st...</td>\n",
       "    </tr>\n",
       "    <tr>\n",
       "      <th>1</th>\n",
       "      <td>958</td>\n",
       "      <td>6660</td>\n",
       "      <td>2009-08-03</td>\n",
       "      <td>26145</td>\n",
       "      <td>Simon</td>\n",
       "      <td>Returning to San Francisco is a rejuvenating t...</td>\n",
       "    </tr>\n",
       "    <tr>\n",
       "      <th>2</th>\n",
       "      <td>958</td>\n",
       "      <td>11519</td>\n",
       "      <td>2009-09-27</td>\n",
       "      <td>25839</td>\n",
       "      <td>Denis</td>\n",
       "      <td>We were very pleased with the accommodations a...</td>\n",
       "    </tr>\n",
       "    <tr>\n",
       "      <th>3</th>\n",
       "      <td>958</td>\n",
       "      <td>16282</td>\n",
       "      <td>2009-11-05</td>\n",
       "      <td>33750</td>\n",
       "      <td>Anna</td>\n",
       "      <td>We highly recommend this accomodation and agre...</td>\n",
       "    </tr>\n",
       "    <tr>\n",
       "      <th>4</th>\n",
       "      <td>958</td>\n",
       "      <td>26008</td>\n",
       "      <td>2010-02-13</td>\n",
       "      <td>15416</td>\n",
       "      <td>Venetia</td>\n",
       "      <td>Holly's place was great. It was exactly what I...</td>\n",
       "    </tr>\n",
       "  </tbody>\n",
       "</table>\n",
       "</div>"
      ],
      "text/plain": [
       "   listing_id     id        date  reviewer_id reviewer_name  \\\n",
       "0         958   5977  2009-07-23        15695      Edmund C   \n",
       "1         958   6660  2009-08-03        26145         Simon   \n",
       "2         958  11519  2009-09-27        25839         Denis   \n",
       "3         958  16282  2009-11-05        33750          Anna   \n",
       "4         958  26008  2010-02-13        15416       Venetia   \n",
       "\n",
       "                                            comments  \n",
       "0  Our experience was, without a doubt, a five st...  \n",
       "1  Returning to San Francisco is a rejuvenating t...  \n",
       "2  We were very pleased with the accommodations a...  \n",
       "3  We highly recommend this accomodation and agre...  \n",
       "4  Holly's place was great. It was exactly what I...  "
      ]
     },
     "execution_count": 115,
     "metadata": {},
     "output_type": "execute_result"
    }
   ],
   "source": [
    "reviews_u.head()"
   ]
  },
  {
   "cell_type": "code",
   "execution_count": 116,
   "metadata": {},
   "outputs": [],
   "source": [
    "pickle.dump(reviews_u, open('all_SF_reviews.p','wb'))"
   ]
  },
  {
   "cell_type": "code",
   "execution_count": 118,
   "metadata": {},
   "outputs": [
    {
     "data": {
      "text/plain": [
       "(45, array(['2019-05-03', '2019-04-03', '2019-03-06', '2019-02-01',\n",
       "        '2019-01-09', '2018-12-06', '2018-11-03', '2018-10-03',\n",
       "        '2018-09-08', '2018-08-06', '2018-07-05', '2018-05-09',\n",
       "        '2018-04-06', '2018-03-04', '2018-02-02', '2018-01-17',\n",
       "        '2018-01-10', '2017-12-07', '2017-12-02', '2017-11-08',\n",
       "        '2017-11-01', '2017-10-02', '2017-09-02', '2017-08-02',\n",
       "        '2017-07-02', '2017-06-02', '2017-05-02', '2017-04-02',\n",
       "        '2017-03-02', '2017-02-02', '2017-01-01', '2016-12-03',\n",
       "        '2016-11-02', '2016-10-01', '2016-09-02', '2016-08-02',\n",
       "        '2016-07-02', '2016-06-02', '2016-05-02', '2016-04-03',\n",
       "        '2016-02-02', '2015-12-02', '2015-11-01', '2015-09-02',\n",
       "        '2015-05-04'], dtype=object))"
      ]
     },
     "execution_count": 118,
     "metadata": {},
     "output_type": "execute_result"
    }
   ],
   "source": [
    "links_sf_calendar = gather_links('san-francisco','calendar.csv.gz')\n",
    "links_sf_calendar['dt'] = [x.split('/')[6] for x in links_sf_calendar['link']]\n",
    "links_sf_calendar.head()\n",
    "\n",
    "idx = links_sf_calendar['dt'].unique()\n",
    "len(idx),idx"
   ]
  },
  {
   "cell_type": "code",
   "execution_count": 119,
   "metadata": {},
   "outputs": [
    {
     "name": "stdout",
     "output_type": "stream",
     "text": [
      "2019-04-03\n",
      "2019-03-06\n",
      "2019-02-01\n",
      "2019-01-09\n",
      "2018-12-06\n",
      "2018-11-03\n",
      "2018-10-03\n",
      "2018-09-08\n",
      "2018-08-06\n",
      "2018-07-05\n",
      "2018-05-09\n",
      "2018-04-06\n",
      "2018-03-04\n",
      "2018-02-02\n",
      "2018-01-17\n",
      "2018-01-10\n",
      "2017-12-07\n",
      "2017-12-02\n",
      "2017-11-08\n",
      "2017-11-01\n",
      "2017-10-02\n",
      "2017-09-02\n",
      "2017-08-02\n",
      "2017-07-02\n",
      "2017-06-02\n",
      "2017-05-02\n",
      "2017-04-02\n",
      "2017-03-02\n",
      "2017-02-02\n",
      "2017-01-01\n",
      "2016-12-03\n",
      "2016-11-02\n",
      "2016-10-01\n",
      "2016-09-02\n",
      "2016-08-02\n",
      "2016-07-02\n",
      "2016-06-02\n",
      "2016-05-02\n",
      "2016-04-03\n",
      "2016-02-02\n",
      "2015-12-02\n",
      "2015-11-01\n",
      "2015-09-02\n",
      "2015-05-04\n"
     ]
    }
   ],
   "source": [
    "calendar = readin_gz(idx[0],'calendar')       \n",
    "\n",
    "for i, dt in enumerate(idx[1:]):\n",
    "    df = readin_gz(idx[i],'calendar')\n",
    "    print(dt)\n",
    "    calendar = pd.concat([calendar, df], ignore_index = True,axis = 0,sort=False)"
   ]
  },
  {
   "cell_type": "code",
   "execution_count": 120,
   "metadata": {},
   "outputs": [
    {
     "data": {
      "text/plain": [
       "(122904625, 7)"
      ]
     },
     "execution_count": 120,
     "metadata": {},
     "output_type": "execute_result"
    }
   ],
   "source": [
    "calendar.shape"
   ]
  },
  {
   "cell_type": "code",
   "execution_count": 123,
   "metadata": {},
   "outputs": [],
   "source": [
    "cal_cols = calendar.columns"
   ]
  },
  {
   "cell_type": "code",
   "execution_count": 124,
   "metadata": {},
   "outputs": [
    {
     "data": {
      "text/plain": [
       "(39283335, 7)"
      ]
     },
     "execution_count": 124,
     "metadata": {},
     "output_type": "execute_result"
    }
   ],
   "source": [
    "calendar['is_duplicated'] = calendar.duplicated(cal_cols)\n",
    "calendar['is_duplicated'].sum()\n",
    "\n",
    "calendar_u = calendar[calendar['is_duplicated'] == False].drop(['is_duplicated'],axis=1)\n",
    "calendar_u.shape"
   ]
  },
  {
   "cell_type": "code",
   "execution_count": 127,
   "metadata": {},
   "outputs": [
    {
     "data": {
      "text/html": [
       "<div>\n",
       "<style scoped>\n",
       "    .dataframe tbody tr th:only-of-type {\n",
       "        vertical-align: middle;\n",
       "    }\n",
       "\n",
       "    .dataframe tbody tr th {\n",
       "        vertical-align: top;\n",
       "    }\n",
       "\n",
       "    .dataframe thead th {\n",
       "        text-align: right;\n",
       "    }\n",
       "</style>\n",
       "<table border=\"1\" class=\"dataframe\">\n",
       "  <thead>\n",
       "    <tr style=\"text-align: right;\">\n",
       "      <th></th>\n",
       "      <th>listing_id</th>\n",
       "      <th>date</th>\n",
       "      <th>available</th>\n",
       "      <th>price</th>\n",
       "      <th>adjusted_price</th>\n",
       "      <th>minimum_nights</th>\n",
       "      <th>maximum_nights</th>\n",
       "    </tr>\n",
       "  </thead>\n",
       "  <tbody>\n",
       "    <tr>\n",
       "      <th>0</th>\n",
       "      <td>34158472</td>\n",
       "      <td>2019-05-03</td>\n",
       "      <td>f</td>\n",
       "      <td>$399.00</td>\n",
       "      <td>$399.00</td>\n",
       "      <td>2.0</td>\n",
       "      <td>1125.0</td>\n",
       "    </tr>\n",
       "    <tr>\n",
       "      <th>1</th>\n",
       "      <td>34158472</td>\n",
       "      <td>2019-05-04</td>\n",
       "      <td>f</td>\n",
       "      <td>$399.00</td>\n",
       "      <td>$399.00</td>\n",
       "      <td>2.0</td>\n",
       "      <td>1125.0</td>\n",
       "    </tr>\n",
       "    <tr>\n",
       "      <th>2</th>\n",
       "      <td>34158472</td>\n",
       "      <td>2019-05-05</td>\n",
       "      <td>t</td>\n",
       "      <td>$399.00</td>\n",
       "      <td>$399.00</td>\n",
       "      <td>2.0</td>\n",
       "      <td>1125.0</td>\n",
       "    </tr>\n",
       "    <tr>\n",
       "      <th>3</th>\n",
       "      <td>34158472</td>\n",
       "      <td>2019-05-06</td>\n",
       "      <td>t</td>\n",
       "      <td>$399.00</td>\n",
       "      <td>$399.00</td>\n",
       "      <td>2.0</td>\n",
       "      <td>1125.0</td>\n",
       "    </tr>\n",
       "    <tr>\n",
       "      <th>4</th>\n",
       "      <td>34158472</td>\n",
       "      <td>2019-05-07</td>\n",
       "      <td>t</td>\n",
       "      <td>$399.00</td>\n",
       "      <td>$399.00</td>\n",
       "      <td>2.0</td>\n",
       "      <td>1125.0</td>\n",
       "    </tr>\n",
       "  </tbody>\n",
       "</table>\n",
       "</div>"
      ],
      "text/plain": [
       "   listing_id        date available    price adjusted_price  minimum_nights  \\\n",
       "0    34158472  2019-05-03         f  $399.00        $399.00             2.0   \n",
       "1    34158472  2019-05-04         f  $399.00        $399.00             2.0   \n",
       "2    34158472  2019-05-05         t  $399.00        $399.00             2.0   \n",
       "3    34158472  2019-05-06         t  $399.00        $399.00             2.0   \n",
       "4    34158472  2019-05-07         t  $399.00        $399.00             2.0   \n",
       "\n",
       "   maximum_nights  \n",
       "0          1125.0  \n",
       "1          1125.0  \n",
       "2          1125.0  \n",
       "3          1125.0  \n",
       "4          1125.0  "
      ]
     },
     "execution_count": 127,
     "metadata": {},
     "output_type": "execute_result"
    }
   ],
   "source": [
    "calendar_u.head()"
   ]
  },
  {
   "cell_type": "code",
   "execution_count": 128,
   "metadata": {},
   "outputs": [],
   "source": [
    "pickle.dump(calendar_u, open('all_SF_calendar.p','wb'))"
   ]
  },
  {
   "cell_type": "code",
   "execution_count": 130,
   "metadata": {},
   "outputs": [
    {
     "name": "stdout",
     "output_type": "stream",
     "text": [
      "Collecting boto3\n",
      "  Downloading https://files.pythonhosted.org/packages/f9/e5/5c138b6876b095765edacdcf4487fecd3fecb218ed08f64e65671db0d370/boto3-1.9.156-py2.py3-none-any.whl (128kB)\n",
      "Collecting botocore<1.13.0,>=1.12.156 (from boto3)\n",
      "  Downloading https://files.pythonhosted.org/packages/f5/aa/79fc47ccc3c7d0f36aafb9d85091d7d8a8f10d8ad24ccf3a89cf126b9f4e/botocore-1.12.156-py2.py3-none-any.whl (5.4MB)\n",
      "Collecting s3transfer<0.3.0,>=0.2.0 (from boto3)\n",
      "  Downloading https://files.pythonhosted.org/packages/d7/de/5737f602e22073ecbded7a0c590707085e154e32b68d86545dcc31004c02/s3transfer-0.2.0-py2.py3-none-any.whl (69kB)\n",
      "Collecting jmespath<1.0.0,>=0.7.1 (from boto3)\n",
      "  Downloading https://files.pythonhosted.org/packages/83/94/7179c3832a6d45b266ddb2aac329e101367fbdb11f425f13771d27f225bb/jmespath-0.9.4-py2.py3-none-any.whl\n",
      "Requirement already satisfied: python-dateutil<3.0.0,>=2.1; python_version >= \"2.7\" in c:\\users\\ksher\\appdata\\local\\continuum\\anaconda3\\lib\\site-packages (from botocore<1.13.0,>=1.12.156->boto3) (2.7.5)\n",
      "Requirement already satisfied: docutils>=0.10 in c:\\users\\ksher\\appdata\\local\\continuum\\anaconda3\\lib\\site-packages (from botocore<1.13.0,>=1.12.156->boto3) (0.14)\n",
      "Requirement already satisfied: urllib3<1.26,>=1.20; python_version >= \"3.4\" in c:\\users\\ksher\\appdata\\local\\continuum\\anaconda3\\lib\\site-packages (from botocore<1.13.0,>=1.12.156->boto3) (1.24.1)\n",
      "Requirement already satisfied: six>=1.5 in c:\\users\\ksher\\appdata\\local\\continuum\\anaconda3\\lib\\site-packages (from python-dateutil<3.0.0,>=2.1; python_version >= \"2.7\"->botocore<1.13.0,>=1.12.156->boto3) (1.12.0)\n",
      "Installing collected packages: jmespath, botocore, s3transfer, boto3\n",
      "Successfully installed boto3-1.9.156 botocore-1.12.156 jmespath-0.9.4 s3transfer-0.2.0\n"
     ]
    }
   ],
   "source": [
    "!pip install boto3"
   ]
  },
  {
   "cell_type": "code",
   "execution_count": null,
   "metadata": {},
   "outputs": [],
   "source": []
  }
 ],
 "metadata": {
  "kernelspec": {
   "display_name": "Python 3",
   "language": "python",
   "name": "python3"
  },
  "language_info": {
   "codemirror_mode": {
    "name": "ipython",
    "version": 3
   },
   "file_extension": ".py",
   "mimetype": "text/x-python",
   "name": "python",
   "nbconvert_exporter": "python",
   "pygments_lexer": "ipython3",
   "version": "3.7.1"
  }
 },
 "nbformat": 4,
 "nbformat_minor": 2
}
