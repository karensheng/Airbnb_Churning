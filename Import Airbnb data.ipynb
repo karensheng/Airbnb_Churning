{
  "nbformat": 4,
  "nbformat_minor": 0,
  "metadata": {
    "colab": {
      "name": "Import Airbnb data.ipynb",
      "version": "0.3.2",
      "provenance": []
    },
    "language_info": {
      "codemirror_mode": {
        "name": "ipython",
        "version": 3
      },
      "file_extension": ".py",
      "mimetype": "text/x-python",
      "name": "python",
      "nbconvert_exporter": "python",
      "pygments_lexer": "ipython3",
      "version": "3.7.1"
    },
    "kernelspec": {
      "name": "python3",
      "display_name": "Python 3"
    },
    "accelerator": "TPU"
  },
  "cells": [
    {
      "cell_type": "code",
      "metadata": {
        "id": "d0ky7JuCto85",
        "colab_type": "code",
        "colab": {}
      },
      "source": [
        "# Enable outputting results interactively. \n",
        "# All the results from code in a given cell will be displayed instead of only the last one.\n",
        "\n",
        "from IPython.core.interactiveshell import InteractiveShell\n",
        "InteractiveShell.ast_node_interactivity = \"all\""
      ],
      "execution_count": 0,
      "outputs": []
    },
    {
      "cell_type": "code",
      "metadata": {
        "id": "bxGEMIY3to89",
        "colab_type": "code",
        "colab": {}
      },
      "source": [
        "import pandas as pd\n",
        "import re\n",
        "from datetime import datetime\n",
        "\n",
        "from bs4 import BeautifulSoup, SoupStrainer\n",
        "import requests\n",
        "import pickle\n",
        "\n",
        "%matplotlib inline\n",
        "import matplotlib.pyplot as plt\n",
        "import seaborn as sns"
      ],
      "execution_count": 0,
      "outputs": []
    },
    {
      "cell_type": "code",
      "metadata": {
        "id": "r6RMlAdHto9A",
        "colab_type": "code",
        "colab": {}
      },
      "source": [
        "url = \"http://insideairbnb.com/get-the-data.html\"\n",
        "\n",
        "page = requests.get(url)    \n",
        "data = page.text\n",
        "soup = BeautifulSoup(data)\n",
        "\n",
        "links = []\n",
        "for link in soup.find_all('a'):\n",
        "    links.append(link.get('href'))"
      ],
      "execution_count": 0,
      "outputs": []
    },
    {
      "cell_type": "code",
      "metadata": {
        "id": "tzmUdgKoto9C",
        "colab_type": "code",
        "colab": {}
      },
      "source": [
        "def gather_links(city,cat):\n",
        "\n",
        "    len(links)\n",
        "    links_df = pd.DataFrame(links, columns = ['link'])\n",
        "    links_df2 = links_df[links_df['link'].str.contains(city)==True]\n",
        "    links_df3 = links_df2[links_df2['link'].str.contains(cat)==True]\n",
        "    return links_df3"
      ],
      "execution_count": 0,
      "outputs": []
    },
    {
      "cell_type": "code",
      "metadata": {
        "id": "JOVAbCJZto9D",
        "colab_type": "code",
        "colab": {}
      },
      "source": [
        "def readin_gz(dt,cat):\n",
        "    url = 'http://data.insideairbnb.com/united-states/ca/san-francisco/{}/data/{}.csv.gz'.format(str(dt),str(cat))\n",
        "\n",
        "    listings = pd.read_csv(url,compression='gzip',header=0, sep=',', quotechar='\"',dtype= {'zipcode':object})\n",
        "    return listings\n",
        "    "
      ],
      "execution_count": 0,
      "outputs": []
    },
    {
      "cell_type": "code",
      "metadata": {
        "id": "CoQPBm09to9F",
        "colab_type": "code",
        "colab": {},
        "outputId": "4b3318d7-ff04-4a5c-cb54-2f9883cc2842"
      },
      "source": [
        "links_sf_listings = gather_links('san-francisco','listings.csv.gz')\n",
        "links_sf_listings['dt'] = [x.split('/')[6] for x in links_sf_listings['link']]\n",
        "links_sf_listings\n",
        "\n",
        "idx = links_sf_listings['dt'].unique()\n",
        "len(idx),idx"
      ],
      "execution_count": 0,
      "outputs": [
        {
          "output_type": "execute_result",
          "data": {
            "text/html": [
              "<div>\n",
              "<style scoped>\n",
              "    .dataframe tbody tr th:only-of-type {\n",
              "        vertical-align: middle;\n",
              "    }\n",
              "\n",
              "    .dataframe tbody tr th {\n",
              "        vertical-align: top;\n",
              "    }\n",
              "\n",
              "    .dataframe thead th {\n",
              "        text-align: right;\n",
              "    }\n",
              "</style>\n",
              "<table border=\"1\" class=\"dataframe\">\n",
              "  <thead>\n",
              "    <tr style=\"text-align: right;\">\n",
              "      <th></th>\n",
              "      <th>link</th>\n",
              "      <th>dt</th>\n",
              "    </tr>\n",
              "  </thead>\n",
              "  <tbody>\n",
              "    <tr>\n",
              "      <th>7529</th>\n",
              "      <td>http://data.insideairbnb.com/united-states/ca/...</td>\n",
              "      <td>2019-05-03</td>\n",
              "    </tr>\n",
              "    <tr>\n",
              "      <th>7536</th>\n",
              "      <td>http://data.insideairbnb.com/united-states/ca/...</td>\n",
              "      <td>2019-04-03</td>\n",
              "    </tr>\n",
              "    <tr>\n",
              "      <th>7543</th>\n",
              "      <td>http://data.insideairbnb.com/united-states/ca/...</td>\n",
              "      <td>2019-03-06</td>\n",
              "    </tr>\n",
              "    <tr>\n",
              "      <th>7550</th>\n",
              "      <td>http://data.insideairbnb.com/united-states/ca/...</td>\n",
              "      <td>2019-02-01</td>\n",
              "    </tr>\n",
              "    <tr>\n",
              "      <th>7557</th>\n",
              "      <td>http://data.insideairbnb.com/united-states/ca/...</td>\n",
              "      <td>2019-01-09</td>\n",
              "    </tr>\n",
              "    <tr>\n",
              "      <th>7564</th>\n",
              "      <td>http://data.insideairbnb.com/united-states/ca/...</td>\n",
              "      <td>2018-12-06</td>\n",
              "    </tr>\n",
              "    <tr>\n",
              "      <th>7571</th>\n",
              "      <td>http://data.insideairbnb.com/united-states/ca/...</td>\n",
              "      <td>2018-11-03</td>\n",
              "    </tr>\n",
              "    <tr>\n",
              "      <th>7578</th>\n",
              "      <td>http://data.insideairbnb.com/united-states/ca/...</td>\n",
              "      <td>2018-10-03</td>\n",
              "    </tr>\n",
              "    <tr>\n",
              "      <th>7585</th>\n",
              "      <td>http://data.insideairbnb.com/united-states/ca/...</td>\n",
              "      <td>2018-09-08</td>\n",
              "    </tr>\n",
              "    <tr>\n",
              "      <th>7592</th>\n",
              "      <td>http://data.insideairbnb.com/united-states/ca/...</td>\n",
              "      <td>2018-08-06</td>\n",
              "    </tr>\n",
              "    <tr>\n",
              "      <th>7599</th>\n",
              "      <td>http://data.insideairbnb.com/united-states/ca/...</td>\n",
              "      <td>2018-07-05</td>\n",
              "    </tr>\n",
              "    <tr>\n",
              "      <th>7606</th>\n",
              "      <td>http://data.insideairbnb.com/united-states/ca/...</td>\n",
              "      <td>2018-05-09</td>\n",
              "    </tr>\n",
              "    <tr>\n",
              "      <th>7613</th>\n",
              "      <td>http://data.insideairbnb.com/united-states/ca/...</td>\n",
              "      <td>2018-04-06</td>\n",
              "    </tr>\n",
              "    <tr>\n",
              "      <th>7620</th>\n",
              "      <td>http://data.insideairbnb.com/united-states/ca/...</td>\n",
              "      <td>2018-03-04</td>\n",
              "    </tr>\n",
              "    <tr>\n",
              "      <th>7627</th>\n",
              "      <td>http://data.insideairbnb.com/united-states/ca/...</td>\n",
              "      <td>2018-02-02</td>\n",
              "    </tr>\n",
              "    <tr>\n",
              "      <th>7634</th>\n",
              "      <td>http://data.insideairbnb.com/united-states/ca/...</td>\n",
              "      <td>2018-01-17</td>\n",
              "    </tr>\n",
              "    <tr>\n",
              "      <th>7641</th>\n",
              "      <td>http://data.insideairbnb.com/united-states/ca/...</td>\n",
              "      <td>2018-01-10</td>\n",
              "    </tr>\n",
              "    <tr>\n",
              "      <th>7648</th>\n",
              "      <td>http://data.insideairbnb.com/united-states/ca/...</td>\n",
              "      <td>2017-12-07</td>\n",
              "    </tr>\n",
              "    <tr>\n",
              "      <th>7655</th>\n",
              "      <td>http://data.insideairbnb.com/united-states/ca/...</td>\n",
              "      <td>2017-12-02</td>\n",
              "    </tr>\n",
              "    <tr>\n",
              "      <th>7662</th>\n",
              "      <td>http://data.insideairbnb.com/united-states/ca/...</td>\n",
              "      <td>2017-11-08</td>\n",
              "    </tr>\n",
              "    <tr>\n",
              "      <th>7669</th>\n",
              "      <td>http://data.insideairbnb.com/united-states/ca/...</td>\n",
              "      <td>2017-11-01</td>\n",
              "    </tr>\n",
              "    <tr>\n",
              "      <th>7676</th>\n",
              "      <td>http://data.insideairbnb.com/united-states/ca/...</td>\n",
              "      <td>2017-10-02</td>\n",
              "    </tr>\n",
              "    <tr>\n",
              "      <th>7683</th>\n",
              "      <td>http://data.insideairbnb.com/united-states/ca/...</td>\n",
              "      <td>2017-09-02</td>\n",
              "    </tr>\n",
              "    <tr>\n",
              "      <th>7690</th>\n",
              "      <td>http://data.insideairbnb.com/united-states/ca/...</td>\n",
              "      <td>2017-08-02</td>\n",
              "    </tr>\n",
              "    <tr>\n",
              "      <th>7697</th>\n",
              "      <td>http://data.insideairbnb.com/united-states/ca/...</td>\n",
              "      <td>2017-07-02</td>\n",
              "    </tr>\n",
              "    <tr>\n",
              "      <th>7704</th>\n",
              "      <td>http://data.insideairbnb.com/united-states/ca/...</td>\n",
              "      <td>2017-06-02</td>\n",
              "    </tr>\n",
              "    <tr>\n",
              "      <th>7711</th>\n",
              "      <td>http://data.insideairbnb.com/united-states/ca/...</td>\n",
              "      <td>2017-05-02</td>\n",
              "    </tr>\n",
              "    <tr>\n",
              "      <th>7718</th>\n",
              "      <td>http://data.insideairbnb.com/united-states/ca/...</td>\n",
              "      <td>2017-04-02</td>\n",
              "    </tr>\n",
              "    <tr>\n",
              "      <th>7725</th>\n",
              "      <td>http://data.insideairbnb.com/united-states/ca/...</td>\n",
              "      <td>2017-03-02</td>\n",
              "    </tr>\n",
              "    <tr>\n",
              "      <th>7732</th>\n",
              "      <td>http://data.insideairbnb.com/united-states/ca/...</td>\n",
              "      <td>2017-02-02</td>\n",
              "    </tr>\n",
              "    <tr>\n",
              "      <th>7739</th>\n",
              "      <td>http://data.insideairbnb.com/united-states/ca/...</td>\n",
              "      <td>2017-01-01</td>\n",
              "    </tr>\n",
              "    <tr>\n",
              "      <th>7746</th>\n",
              "      <td>http://data.insideairbnb.com/united-states/ca/...</td>\n",
              "      <td>2016-12-03</td>\n",
              "    </tr>\n",
              "    <tr>\n",
              "      <th>7753</th>\n",
              "      <td>http://data.insideairbnb.com/united-states/ca/...</td>\n",
              "      <td>2016-11-02</td>\n",
              "    </tr>\n",
              "    <tr>\n",
              "      <th>7760</th>\n",
              "      <td>http://data.insideairbnb.com/united-states/ca/...</td>\n",
              "      <td>2016-10-01</td>\n",
              "    </tr>\n",
              "    <tr>\n",
              "      <th>7767</th>\n",
              "      <td>http://data.insideairbnb.com/united-states/ca/...</td>\n",
              "      <td>2016-09-02</td>\n",
              "    </tr>\n",
              "    <tr>\n",
              "      <th>7774</th>\n",
              "      <td>http://data.insideairbnb.com/united-states/ca/...</td>\n",
              "      <td>2016-08-02</td>\n",
              "    </tr>\n",
              "    <tr>\n",
              "      <th>7781</th>\n",
              "      <td>http://data.insideairbnb.com/united-states/ca/...</td>\n",
              "      <td>2016-07-02</td>\n",
              "    </tr>\n",
              "    <tr>\n",
              "      <th>7788</th>\n",
              "      <td>http://data.insideairbnb.com/united-states/ca/...</td>\n",
              "      <td>2016-06-02</td>\n",
              "    </tr>\n",
              "    <tr>\n",
              "      <th>7795</th>\n",
              "      <td>http://data.insideairbnb.com/united-states/ca/...</td>\n",
              "      <td>2016-05-02</td>\n",
              "    </tr>\n",
              "    <tr>\n",
              "      <th>7802</th>\n",
              "      <td>http://data.insideairbnb.com/united-states/ca/...</td>\n",
              "      <td>2016-04-03</td>\n",
              "    </tr>\n",
              "    <tr>\n",
              "      <th>7809</th>\n",
              "      <td>http://data.insideairbnb.com/united-states/ca/...</td>\n",
              "      <td>2016-02-02</td>\n",
              "    </tr>\n",
              "    <tr>\n",
              "      <th>7816</th>\n",
              "      <td>http://data.insideairbnb.com/united-states/ca/...</td>\n",
              "      <td>2015-12-02</td>\n",
              "    </tr>\n",
              "    <tr>\n",
              "      <th>7823</th>\n",
              "      <td>http://data.insideairbnb.com/united-states/ca/...</td>\n",
              "      <td>2015-11-01</td>\n",
              "    </tr>\n",
              "    <tr>\n",
              "      <th>7830</th>\n",
              "      <td>http://data.insideairbnb.com/united-states/ca/...</td>\n",
              "      <td>2015-09-02</td>\n",
              "    </tr>\n",
              "    <tr>\n",
              "      <th>7837</th>\n",
              "      <td>http://data.insideairbnb.com/united-states/ca/...</td>\n",
              "      <td>2015-05-04</td>\n",
              "    </tr>\n",
              "  </tbody>\n",
              "</table>\n",
              "</div>"
            ],
            "text/plain": [
              "                                                   link          dt\n",
              "7529  http://data.insideairbnb.com/united-states/ca/...  2019-05-03\n",
              "7536  http://data.insideairbnb.com/united-states/ca/...  2019-04-03\n",
              "7543  http://data.insideairbnb.com/united-states/ca/...  2019-03-06\n",
              "7550  http://data.insideairbnb.com/united-states/ca/...  2019-02-01\n",
              "7557  http://data.insideairbnb.com/united-states/ca/...  2019-01-09\n",
              "7564  http://data.insideairbnb.com/united-states/ca/...  2018-12-06\n",
              "7571  http://data.insideairbnb.com/united-states/ca/...  2018-11-03\n",
              "7578  http://data.insideairbnb.com/united-states/ca/...  2018-10-03\n",
              "7585  http://data.insideairbnb.com/united-states/ca/...  2018-09-08\n",
              "7592  http://data.insideairbnb.com/united-states/ca/...  2018-08-06\n",
              "7599  http://data.insideairbnb.com/united-states/ca/...  2018-07-05\n",
              "7606  http://data.insideairbnb.com/united-states/ca/...  2018-05-09\n",
              "7613  http://data.insideairbnb.com/united-states/ca/...  2018-04-06\n",
              "7620  http://data.insideairbnb.com/united-states/ca/...  2018-03-04\n",
              "7627  http://data.insideairbnb.com/united-states/ca/...  2018-02-02\n",
              "7634  http://data.insideairbnb.com/united-states/ca/...  2018-01-17\n",
              "7641  http://data.insideairbnb.com/united-states/ca/...  2018-01-10\n",
              "7648  http://data.insideairbnb.com/united-states/ca/...  2017-12-07\n",
              "7655  http://data.insideairbnb.com/united-states/ca/...  2017-12-02\n",
              "7662  http://data.insideairbnb.com/united-states/ca/...  2017-11-08\n",
              "7669  http://data.insideairbnb.com/united-states/ca/...  2017-11-01\n",
              "7676  http://data.insideairbnb.com/united-states/ca/...  2017-10-02\n",
              "7683  http://data.insideairbnb.com/united-states/ca/...  2017-09-02\n",
              "7690  http://data.insideairbnb.com/united-states/ca/...  2017-08-02\n",
              "7697  http://data.insideairbnb.com/united-states/ca/...  2017-07-02\n",
              "7704  http://data.insideairbnb.com/united-states/ca/...  2017-06-02\n",
              "7711  http://data.insideairbnb.com/united-states/ca/...  2017-05-02\n",
              "7718  http://data.insideairbnb.com/united-states/ca/...  2017-04-02\n",
              "7725  http://data.insideairbnb.com/united-states/ca/...  2017-03-02\n",
              "7732  http://data.insideairbnb.com/united-states/ca/...  2017-02-02\n",
              "7739  http://data.insideairbnb.com/united-states/ca/...  2017-01-01\n",
              "7746  http://data.insideairbnb.com/united-states/ca/...  2016-12-03\n",
              "7753  http://data.insideairbnb.com/united-states/ca/...  2016-11-02\n",
              "7760  http://data.insideairbnb.com/united-states/ca/...  2016-10-01\n",
              "7767  http://data.insideairbnb.com/united-states/ca/...  2016-09-02\n",
              "7774  http://data.insideairbnb.com/united-states/ca/...  2016-08-02\n",
              "7781  http://data.insideairbnb.com/united-states/ca/...  2016-07-02\n",
              "7788  http://data.insideairbnb.com/united-states/ca/...  2016-06-02\n",
              "7795  http://data.insideairbnb.com/united-states/ca/...  2016-05-02\n",
              "7802  http://data.insideairbnb.com/united-states/ca/...  2016-04-03\n",
              "7809  http://data.insideairbnb.com/united-states/ca/...  2016-02-02\n",
              "7816  http://data.insideairbnb.com/united-states/ca/...  2015-12-02\n",
              "7823  http://data.insideairbnb.com/united-states/ca/...  2015-11-01\n",
              "7830  http://data.insideairbnb.com/united-states/ca/...  2015-09-02\n",
              "7837  http://data.insideairbnb.com/united-states/ca/...  2015-05-04"
            ]
          },
          "metadata": {
            "tags": []
          },
          "execution_count": 6
        },
        {
          "output_type": "execute_result",
          "data": {
            "text/plain": [
              "(45, array(['2019-05-03', '2019-04-03', '2019-03-06', '2019-02-01',\n",
              "        '2019-01-09', '2018-12-06', '2018-11-03', '2018-10-03',\n",
              "        '2018-09-08', '2018-08-06', '2018-07-05', '2018-05-09',\n",
              "        '2018-04-06', '2018-03-04', '2018-02-02', '2018-01-17',\n",
              "        '2018-01-10', '2017-12-07', '2017-12-02', '2017-11-08',\n",
              "        '2017-11-01', '2017-10-02', '2017-09-02', '2017-08-02',\n",
              "        '2017-07-02', '2017-06-02', '2017-05-02', '2017-04-02',\n",
              "        '2017-03-02', '2017-02-02', '2017-01-01', '2016-12-03',\n",
              "        '2016-11-02', '2016-10-01', '2016-09-02', '2016-08-02',\n",
              "        '2016-07-02', '2016-06-02', '2016-05-02', '2016-04-03',\n",
              "        '2016-02-02', '2015-12-02', '2015-11-01', '2015-09-02',\n",
              "        '2015-05-04'], dtype=object))"
            ]
          },
          "metadata": {
            "tags": []
          },
          "execution_count": 6
        }
      ]
    },
    {
      "cell_type": "code",
      "metadata": {
        "id": "4Q6sfeqato9I",
        "colab_type": "code",
        "colab": {},
        "outputId": "19306005-a170-4b1d-bb37-272b8633e872"
      },
      "source": [
        "listings = readin_gz(idx[0],'listings')    \n",
        "listings['file_scraped_dt'] = idx[0]\n",
        "listings.head(1)"
      ],
      "execution_count": 0,
      "outputs": [
        {
          "output_type": "execute_result",
          "data": {
            "text/html": [
              "<div>\n",
              "<style scoped>\n",
              "    .dataframe tbody tr th:only-of-type {\n",
              "        vertical-align: middle;\n",
              "    }\n",
              "\n",
              "    .dataframe tbody tr th {\n",
              "        vertical-align: top;\n",
              "    }\n",
              "\n",
              "    .dataframe thead th {\n",
              "        text-align: right;\n",
              "    }\n",
              "</style>\n",
              "<table border=\"1\" class=\"dataframe\">\n",
              "  <thead>\n",
              "    <tr style=\"text-align: right;\">\n",
              "      <th></th>\n",
              "      <th>id</th>\n",
              "      <th>listing_url</th>\n",
              "      <th>scrape_id</th>\n",
              "      <th>last_scraped</th>\n",
              "      <th>name</th>\n",
              "      <th>summary</th>\n",
              "      <th>space</th>\n",
              "      <th>description</th>\n",
              "      <th>experiences_offered</th>\n",
              "      <th>neighborhood_overview</th>\n",
              "      <th>...</th>\n",
              "      <th>is_business_travel_ready</th>\n",
              "      <th>cancellation_policy</th>\n",
              "      <th>require_guest_profile_picture</th>\n",
              "      <th>require_guest_phone_verification</th>\n",
              "      <th>calculated_host_listings_count</th>\n",
              "      <th>calculated_host_listings_count_entire_homes</th>\n",
              "      <th>calculated_host_listings_count_private_rooms</th>\n",
              "      <th>calculated_host_listings_count_shared_rooms</th>\n",
              "      <th>reviews_per_month</th>\n",
              "      <th>file_scraped_dt</th>\n",
              "    </tr>\n",
              "  </thead>\n",
              "  <tbody>\n",
              "    <tr>\n",
              "      <th>0</th>\n",
              "      <td>958</td>\n",
              "      <td>https://www.airbnb.com/rooms/958</td>\n",
              "      <td>20190503153007</td>\n",
              "      <td>2019-05-03</td>\n",
              "      <td>Bright, Modern Garden Unit - 1BR/1B</td>\n",
              "      <td>New update: the house next door is under const...</td>\n",
              "      <td>Newly remodeled, modern, and bright garden uni...</td>\n",
              "      <td>New update: the house next door is under const...</td>\n",
              "      <td>none</td>\n",
              "      <td>*Quiet cul de sac in friendly neighborhood *St...</td>\n",
              "      <td>...</td>\n",
              "      <td>f</td>\n",
              "      <td>moderate</td>\n",
              "      <td>f</td>\n",
              "      <td>f</td>\n",
              "      <td>1</td>\n",
              "      <td>1</td>\n",
              "      <td>0</td>\n",
              "      <td>0</td>\n",
              "      <td>1.55</td>\n",
              "      <td>2019-05-03</td>\n",
              "    </tr>\n",
              "  </tbody>\n",
              "</table>\n",
              "<p>1 rows × 107 columns</p>\n",
              "</div>"
            ],
            "text/plain": [
              "    id                       listing_url       scrape_id last_scraped  \\\n",
              "0  958  https://www.airbnb.com/rooms/958  20190503153007   2019-05-03   \n",
              "\n",
              "                                  name  \\\n",
              "0  Bright, Modern Garden Unit - 1BR/1B   \n",
              "\n",
              "                                             summary  \\\n",
              "0  New update: the house next door is under const...   \n",
              "\n",
              "                                               space  \\\n",
              "0  Newly remodeled, modern, and bright garden uni...   \n",
              "\n",
              "                                         description experiences_offered  \\\n",
              "0  New update: the house next door is under const...                none   \n",
              "\n",
              "                               neighborhood_overview       ...         \\\n",
              "0  *Quiet cul de sac in friendly neighborhood *St...       ...          \n",
              "\n",
              "  is_business_travel_ready cancellation_policy require_guest_profile_picture  \\\n",
              "0                        f            moderate                             f   \n",
              "\n",
              "  require_guest_phone_verification calculated_host_listings_count  \\\n",
              "0                                f                              1   \n",
              "\n",
              "   calculated_host_listings_count_entire_homes  \\\n",
              "0                                            1   \n",
              "\n",
              "   calculated_host_listings_count_private_rooms  \\\n",
              "0                                             0   \n",
              "\n",
              "  calculated_host_listings_count_shared_rooms  reviews_per_month  \\\n",
              "0                                           0               1.55   \n",
              "\n",
              "   file_scraped_dt  \n",
              "0       2019-05-03  \n",
              "\n",
              "[1 rows x 107 columns]"
            ]
          },
          "metadata": {
            "tags": []
          },
          "execution_count": 7
        }
      ]
    },
    {
      "cell_type": "code",
      "metadata": {
        "id": "8ALQ2xlOto9M",
        "colab_type": "code",
        "colab": {},
        "outputId": "08c6e45c-93a6-4f7d-8e9e-40be5077a553"
      },
      "source": [
        "for i, dt in enumerate(idx[1:]):\n",
        "    df = readin_gz(idx[i+1],'listings')\n",
        "   \n",
        "    df['file_scraped_dt'] = dt\n",
        "    print(dt,df['last_scraped'].value_counts())\n",
        "    listings = pd.concat([listings, df], ignore_index = True,axis = 0,sort=False)\n",
        "        "
      ],
      "execution_count": 0,
      "outputs": [
        {
          "output_type": "stream",
          "text": [
            "2019-04-03 2019-04-03    7276\n",
            "2019-04-05       1\n",
            "Name: last_scraped, dtype: int64\n",
            "2019-03-06 2019-03-06    7151\n",
            "Name: last_scraped, dtype: int64\n",
            "2019-02-01 2019-02-01    7198\n",
            "Name: last_scraped, dtype: int64\n",
            "2019-01-09 2019-01-09    7251\n",
            "Name: last_scraped, dtype: int64\n",
            "2018-12-06 2018-12-06    7072\n",
            "Name: last_scraped, dtype: int64\n",
            "2018-11-03 2018-11-03    6981\n",
            "Name: last_scraped, dtype: int64\n",
            "2018-10-03 2018-10-03    6807\n",
            "Name: last_scraped, dtype: int64\n",
            "2018-09-08 2018-09-08    6529\n",
            "Name: last_scraped, dtype: int64\n",
            "2018-08-06 2018-08-06    6633\n",
            "Name: last_scraped, dtype: int64\n",
            "2018-07-05 2018-07-05    4693\n",
            "Name: last_scraped, dtype: int64\n",
            "2018-05-09 2018-05-09    4774\n",
            "Name: last_scraped, dtype: int64\n",
            "2018-04-06 2018-04-07    3593\n",
            "2018-04-06    1251\n",
            "Name: last_scraped, dtype: int64\n",
            "2018-03-04 2018-03-04    4802\n",
            "2018-03-06       2\n",
            "Name: last_scraped, dtype: int64\n",
            "2018-02-02 2018-02-02    4727\n",
            "Name: last_scraped, dtype: int64\n",
            "2018-01-17 2018-01-17    5224\n",
            "Name: last_scraped, dtype: int64\n",
            "2018-01-10 2018-01-10    6506\n",
            "Name: last_scraped, dtype: int64\n",
            "2017-12-07 2017-12-07    6650\n",
            "Name: last_scraped, dtype: int64\n",
            "2017-12-02 2017-12-02    6788\n",
            "2017-12-03     152\n",
            "Name: last_scraped, dtype: int64\n",
            "2017-11-08 2017-11-08    6866\n",
            "Name: last_scraped, dtype: int64\n",
            "2017-11-01 2017-11-01    8929\n",
            "Name: last_scraped, dtype: int64\n",
            "2017-10-02 2017-10-02    8933\n",
            "Name: last_scraped, dtype: int64\n",
            "2017-09-02 2017-09-02    8529\n",
            "Name: last_scraped, dtype: int64\n",
            "2017-08-02 2017-08-02    9057\n",
            "Name: last_scraped, dtype: int64\n",
            "2017-07-02 2017-07-02    8854\n",
            "2017-07-03       1\n",
            "Name: last_scraped, dtype: int64\n",
            "2017-06-02 2017-06-02    8799\n",
            "Name: last_scraped, dtype: int64\n",
            "2017-05-02 2017-05-02    8608\n",
            "2017-05-03     162\n",
            "Name: last_scraped, dtype: int64\n",
            "2017-04-02 2017-04-02    8706\n",
            "Name: last_scraped, dtype: int64\n",
            "2017-03-02 2017-03-02    8720\n",
            "Name: last_scraped, dtype: int64\n",
            "2017-02-02 2017-02-02    8777\n",
            "Name: last_scraped, dtype: int64\n",
            "2017-01-01 2017-01-01    9035\n",
            "Name: last_scraped, dtype: int64\n",
            "2016-12-03 2016-12-03    9063\n",
            "2016-12-04       3\n",
            "Name: last_scraped, dtype: int64\n",
            "2016-11-02 2016-11-02    8864\n",
            "Name: last_scraped, dtype: int64\n",
            "2016-10-01 2016-10-01    8759\n",
            "Name: last_scraped, dtype: int64\n",
            "2016-09-02 2016-09-02    8665\n",
            "Name: last_scraped, dtype: int64\n",
            "2016-08-02 2016-08-02    8501\n",
            "2016-08-03     109\n",
            "Name: last_scraped, dtype: int64\n",
            "2016-07-02 2016-07-02    8619\n",
            "Name: last_scraped, dtype: int64\n",
            "2016-06-02 2016-06-02    8440\n",
            "Name: last_scraped, dtype: int64\n",
            "2016-05-02 2016-05-02    8086\n",
            "Name: last_scraped, dtype: int64\n",
            "2016-04-03 2016-04-03    8012\n",
            "Name: last_scraped, dtype: int64\n",
            "2016-02-02 2016-02-02    8299\n",
            "Name: last_scraped, dtype: int64\n",
            "2015-12-02 2015-12-02    7165\n",
            "Name: last_scraped, dtype: int64\n",
            "2015-11-01 2015-11-02    6089\n",
            "2015-11-01     940\n",
            "Name: last_scraped, dtype: int64\n",
            "2015-09-02 2015-09-02    6361\n",
            "Name: last_scraped, dtype: int64\n",
            "2015-05-04 2015-05-04    3750\n",
            "2015-05-05    1675\n",
            "Name: last_scraped, dtype: int64\n"
          ],
          "name": "stdout"
        }
      ]
    },
    {
      "cell_type": "code",
      "metadata": {
        "id": "UWA3ar3Nto9Q",
        "colab_type": "code",
        "colab": {}
      },
      "source": [
        "# listings_t = listings.set_index(pd.DatetimeIndex(listings['file_scraped_dt']))\n",
        "# listings_t.head(3)"
      ],
      "execution_count": 0,
      "outputs": []
    },
    {
      "cell_type": "code",
      "metadata": {
        "id": "gi1BKSI2to9S",
        "colab_type": "code",
        "colab": {}
      },
      "source": [
        "# # listings['file_scraped_dt'].value_counts()\n",
        "\n",
        "# m_ls = listings.resample('D').size().reset_index(name='Counts') \n",
        "# m_ls = m_ls[m_ls['Counts']>0]\n",
        "# m_ls\n",
        "\n",
        "# It appears that the data was scraped twice in each month in Nov 2017, Dec 2017, Jan 2018 prior to the deadline of the new regulations."
      ],
      "execution_count": 0,
      "outputs": []
    },
    {
      "cell_type": "code",
      "metadata": {
        "id": "6VWFk_v7to9T",
        "colab_type": "code",
        "colab": {},
        "outputId": "e1e5ca0b-1210-4ab5-a26d-6039ff8ad4b8"
      },
      "source": [
        "ls_cols = listings.columns\n",
        "\n",
        "listings['is_duplicated'] = listings.duplicated(ls_cols)\n",
        "listings['is_duplicated'].sum()\n",
        "\n",
        "listings_u = listings[listings['is_duplicated'] == False].drop(['is_duplicated'],axis=1)\n",
        "listings_u.shape"
      ],
      "execution_count": 0,
      "outputs": [
        {
          "output_type": "execute_result",
          "data": {
            "text/plain": [
              "0"
            ]
          },
          "metadata": {
            "tags": []
          },
          "execution_count": 11
        },
        {
          "output_type": "execute_result",
          "data": {
            "text/plain": [
              "(334790, 107)"
            ]
          },
          "metadata": {
            "tags": []
          },
          "execution_count": 11
        }
      ]
    },
    {
      "cell_type": "code",
      "metadata": {
        "id": "XWXaAGcKto9W",
        "colab_type": "code",
        "colab": {}
      },
      "source": [
        "# listings_u = listings_u.set_index(pd.DatetimeIndex(listings_u['last_scraped']))\n",
        "\n",
        "# d_ls = listings_u.resample('D').size().reset_index(name='Counts') \n",
        "# d_ls[d_ls['Counts']>0]"
      ],
      "execution_count": 0,
      "outputs": []
    },
    {
      "cell_type": "code",
      "metadata": {
        "id": "5gNBoH17to9X",
        "colab_type": "code",
        "colab": {}
      },
      "source": [
        "pickle.dump(listings_u, open('all_SF_listings.p','wb'))"
      ],
      "execution_count": 0,
      "outputs": []
    },
    {
      "cell_type": "code",
      "metadata": {
        "id": "-xHxVtJsto9Z",
        "colab_type": "code",
        "colab": {},
        "outputId": "a011e17e-8877-4114-b236-2984485265ab"
      },
      "source": [
        "listings_u.shape"
      ],
      "execution_count": 0,
      "outputs": [
        {
          "output_type": "execute_result",
          "data": {
            "text/plain": [
              "(334790, 107)"
            ]
          },
          "metadata": {
            "tags": []
          },
          "execution_count": 14
        }
      ]
    },
    {
      "cell_type": "code",
      "metadata": {
        "id": "H6mFLlsYto9c",
        "colab_type": "code",
        "colab": {},
        "outputId": "884bf5e9-746a-43a4-e7b3-91da7fcc400c"
      },
      "source": [
        "links_sf_reviews = gather_links('san-francisco','reviews.csv.gz')\n",
        "links_sf_reviews['dt'] = [x.split('/')[6] for x in links_sf_reviews['link']]\n",
        "links_sf_reviews.head()\n",
        "\n",
        "idx = links_sf_reviews['dt'].unique()\n",
        "len(idx),idx"
      ],
      "execution_count": 0,
      "outputs": [
        {
          "output_type": "execute_result",
          "data": {
            "text/html": [
              "<div>\n",
              "<style scoped>\n",
              "    .dataframe tbody tr th:only-of-type {\n",
              "        vertical-align: middle;\n",
              "    }\n",
              "\n",
              "    .dataframe tbody tr th {\n",
              "        vertical-align: top;\n",
              "    }\n",
              "\n",
              "    .dataframe thead th {\n",
              "        text-align: right;\n",
              "    }\n",
              "</style>\n",
              "<table border=\"1\" class=\"dataframe\">\n",
              "  <thead>\n",
              "    <tr style=\"text-align: right;\">\n",
              "      <th></th>\n",
              "      <th>link</th>\n",
              "      <th>dt</th>\n",
              "    </tr>\n",
              "  </thead>\n",
              "  <tbody>\n",
              "    <tr>\n",
              "      <th>7531</th>\n",
              "      <td>http://data.insideairbnb.com/united-states/ca/...</td>\n",
              "      <td>2019-05-03</td>\n",
              "    </tr>\n",
              "    <tr>\n",
              "      <th>7538</th>\n",
              "      <td>http://data.insideairbnb.com/united-states/ca/...</td>\n",
              "      <td>2019-04-03</td>\n",
              "    </tr>\n",
              "    <tr>\n",
              "      <th>7545</th>\n",
              "      <td>http://data.insideairbnb.com/united-states/ca/...</td>\n",
              "      <td>2019-03-06</td>\n",
              "    </tr>\n",
              "    <tr>\n",
              "      <th>7552</th>\n",
              "      <td>http://data.insideairbnb.com/united-states/ca/...</td>\n",
              "      <td>2019-02-01</td>\n",
              "    </tr>\n",
              "    <tr>\n",
              "      <th>7559</th>\n",
              "      <td>http://data.insideairbnb.com/united-states/ca/...</td>\n",
              "      <td>2019-01-09</td>\n",
              "    </tr>\n",
              "  </tbody>\n",
              "</table>\n",
              "</div>"
            ],
            "text/plain": [
              "                                                   link          dt\n",
              "7531  http://data.insideairbnb.com/united-states/ca/...  2019-05-03\n",
              "7538  http://data.insideairbnb.com/united-states/ca/...  2019-04-03\n",
              "7545  http://data.insideairbnb.com/united-states/ca/...  2019-03-06\n",
              "7552  http://data.insideairbnb.com/united-states/ca/...  2019-02-01\n",
              "7559  http://data.insideairbnb.com/united-states/ca/...  2019-01-09"
            ]
          },
          "metadata": {
            "tags": []
          },
          "execution_count": 15
        },
        {
          "output_type": "execute_result",
          "data": {
            "text/plain": [
              "(45, array(['2019-05-03', '2019-04-03', '2019-03-06', '2019-02-01',\n",
              "        '2019-01-09', '2018-12-06', '2018-11-03', '2018-10-03',\n",
              "        '2018-09-08', '2018-08-06', '2018-07-05', '2018-05-09',\n",
              "        '2018-04-06', '2018-03-04', '2018-02-02', '2018-01-17',\n",
              "        '2018-01-10', '2017-12-07', '2017-12-02', '2017-11-08',\n",
              "        '2017-11-01', '2017-10-02', '2017-09-02', '2017-08-02',\n",
              "        '2017-07-02', '2017-06-02', '2017-05-02', '2017-04-02',\n",
              "        '2017-03-02', '2017-02-02', '2017-01-01', '2016-12-03',\n",
              "        '2016-11-02', '2016-10-01', '2016-09-02', '2016-08-02',\n",
              "        '2016-07-02', '2016-06-02', '2016-05-02', '2016-04-03',\n",
              "        '2016-02-02', '2015-12-02', '2015-11-01', '2015-09-02',\n",
              "        '2015-05-04'], dtype=object))"
            ]
          },
          "metadata": {
            "tags": []
          },
          "execution_count": 15
        }
      ]
    },
    {
      "cell_type": "code",
      "metadata": {
        "id": "K0i3uPY8to9g",
        "colab_type": "code",
        "colab": {},
        "outputId": "ec516c8b-c7ab-4669-f275-261e864264cd"
      },
      "source": [
        "reviews = readin_gz(idx[0],'reviews')       \n",
        "\n",
        "for i, dt in enumerate(idx[1:]):\n",
        "    df = readin_gz(idx[i+1],'reviews')\n",
        "    print(dt)\n",
        "    reviews = pd.concat([reviews, df], ignore_index = True,axis = 0,sort=False)\n",
        "        "
      ],
      "execution_count": 0,
      "outputs": [
        {
          "output_type": "stream",
          "text": [
            "2019-04-03\n",
            "2019-03-06\n",
            "2019-02-01\n",
            "2019-01-09\n",
            "2018-12-06\n",
            "2018-11-03\n",
            "2018-10-03\n",
            "2018-09-08\n",
            "2018-08-06\n",
            "2018-07-05\n",
            "2018-05-09\n",
            "2018-04-06\n",
            "2018-03-04\n",
            "2018-02-02\n",
            "2018-01-17\n",
            "2018-01-10\n",
            "2017-12-07\n",
            "2017-12-02\n",
            "2017-11-08\n",
            "2017-11-01\n",
            "2017-10-02\n",
            "2017-09-02\n",
            "2017-08-02\n",
            "2017-07-02\n",
            "2017-06-02\n",
            "2017-05-02\n",
            "2017-04-02\n",
            "2017-03-02\n",
            "2017-02-02\n",
            "2017-01-01\n",
            "2016-12-03\n",
            "2016-11-02\n",
            "2016-10-01\n",
            "2016-09-02\n",
            "2016-08-02\n",
            "2016-07-02\n",
            "2016-06-02\n",
            "2016-05-02\n",
            "2016-04-03\n",
            "2016-02-02\n",
            "2015-12-02\n",
            "2015-11-01\n",
            "2015-09-02\n",
            "2015-05-04\n"
          ],
          "name": "stdout"
        }
      ]
    },
    {
      "cell_type": "code",
      "metadata": {
        "id": "eYpNT62Ito9k",
        "colab_type": "code",
        "colab": {},
        "outputId": "a9d7cc70-ff2c-448a-f082-637aeb3d5c85"
      },
      "source": [
        "reviews.shape"
      ],
      "execution_count": 0,
      "outputs": [
        {
          "output_type": "execute_result",
          "data": {
            "text/plain": [
              "(10302048, 6)"
            ]
          },
          "metadata": {
            "tags": []
          },
          "execution_count": 17
        }
      ]
    },
    {
      "cell_type": "code",
      "metadata": {
        "id": "G2OUNV6fto9m",
        "colab_type": "code",
        "colab": {}
      },
      "source": [
        "rv_cols = reviews.columns"
      ],
      "execution_count": 0,
      "outputs": []
    },
    {
      "cell_type": "code",
      "metadata": {
        "id": "dnyzZxZ2to9p",
        "colab_type": "code",
        "colab": {},
        "outputId": "50c30411-702e-431e-f1de-2413cbc809a8"
      },
      "source": [
        "reviews['is_duplicated'] = reviews.duplicated(rv_cols)\n",
        "reviews['is_duplicated'].sum()\n",
        "\n",
        "reviews_u = reviews[reviews['is_duplicated'] == False].drop(['is_duplicated'],axis=1)\n",
        "reviews_u.shape"
      ],
      "execution_count": 0,
      "outputs": [
        {
          "output_type": "execute_result",
          "data": {
            "text/plain": [
              "9651267"
            ]
          },
          "metadata": {
            "tags": []
          },
          "execution_count": 19
        },
        {
          "output_type": "execute_result",
          "data": {
            "text/plain": [
              "(650781, 6)"
            ]
          },
          "metadata": {
            "tags": []
          },
          "execution_count": 19
        }
      ]
    },
    {
      "cell_type": "code",
      "metadata": {
        "id": "OJDx_nK4to9v",
        "colab_type": "code",
        "colab": {},
        "outputId": "f2e8846b-97b0-4606-8d9b-021a6685ec15"
      },
      "source": [
        "reviews_u.head()"
      ],
      "execution_count": 0,
      "outputs": [
        {
          "output_type": "execute_result",
          "data": {
            "text/html": [
              "<div>\n",
              "<style scoped>\n",
              "    .dataframe tbody tr th:only-of-type {\n",
              "        vertical-align: middle;\n",
              "    }\n",
              "\n",
              "    .dataframe tbody tr th {\n",
              "        vertical-align: top;\n",
              "    }\n",
              "\n",
              "    .dataframe thead th {\n",
              "        text-align: right;\n",
              "    }\n",
              "</style>\n",
              "<table border=\"1\" class=\"dataframe\">\n",
              "  <thead>\n",
              "    <tr style=\"text-align: right;\">\n",
              "      <th></th>\n",
              "      <th>listing_id</th>\n",
              "      <th>id</th>\n",
              "      <th>date</th>\n",
              "      <th>reviewer_id</th>\n",
              "      <th>reviewer_name</th>\n",
              "      <th>comments</th>\n",
              "    </tr>\n",
              "  </thead>\n",
              "  <tbody>\n",
              "    <tr>\n",
              "      <th>0</th>\n",
              "      <td>958</td>\n",
              "      <td>5977</td>\n",
              "      <td>2009-07-23</td>\n",
              "      <td>15695</td>\n",
              "      <td>Edmund C</td>\n",
              "      <td>Our experience was, without a doubt, a five st...</td>\n",
              "    </tr>\n",
              "    <tr>\n",
              "      <th>1</th>\n",
              "      <td>958</td>\n",
              "      <td>6660</td>\n",
              "      <td>2009-08-03</td>\n",
              "      <td>26145</td>\n",
              "      <td>Simon</td>\n",
              "      <td>Returning to San Francisco is a rejuvenating t...</td>\n",
              "    </tr>\n",
              "    <tr>\n",
              "      <th>2</th>\n",
              "      <td>958</td>\n",
              "      <td>11519</td>\n",
              "      <td>2009-09-27</td>\n",
              "      <td>25839</td>\n",
              "      <td>Denis</td>\n",
              "      <td>We were very pleased with the accommodations a...</td>\n",
              "    </tr>\n",
              "    <tr>\n",
              "      <th>3</th>\n",
              "      <td>958</td>\n",
              "      <td>16282</td>\n",
              "      <td>2009-11-05</td>\n",
              "      <td>33750</td>\n",
              "      <td>Anna</td>\n",
              "      <td>We highly recommend this accomodation and agre...</td>\n",
              "    </tr>\n",
              "    <tr>\n",
              "      <th>4</th>\n",
              "      <td>958</td>\n",
              "      <td>26008</td>\n",
              "      <td>2010-02-13</td>\n",
              "      <td>15416</td>\n",
              "      <td>Venetia</td>\n",
              "      <td>Holly's place was great. It was exactly what I...</td>\n",
              "    </tr>\n",
              "  </tbody>\n",
              "</table>\n",
              "</div>"
            ],
            "text/plain": [
              "   listing_id     id        date  reviewer_id reviewer_name  \\\n",
              "0         958   5977  2009-07-23        15695      Edmund C   \n",
              "1         958   6660  2009-08-03        26145         Simon   \n",
              "2         958  11519  2009-09-27        25839         Denis   \n",
              "3         958  16282  2009-11-05        33750          Anna   \n",
              "4         958  26008  2010-02-13        15416       Venetia   \n",
              "\n",
              "                                            comments  \n",
              "0  Our experience was, without a doubt, a five st...  \n",
              "1  Returning to San Francisco is a rejuvenating t...  \n",
              "2  We were very pleased with the accommodations a...  \n",
              "3  We highly recommend this accomodation and agre...  \n",
              "4  Holly's place was great. It was exactly what I...  "
            ]
          },
          "metadata": {
            "tags": []
          },
          "execution_count": 20
        }
      ]
    },
    {
      "cell_type": "code",
      "metadata": {
        "id": "FF4eLBjfto9y",
        "colab_type": "code",
        "colab": {}
      },
      "source": [
        "pickle.dump(reviews_u, open('all_SF_reviews.p','wb'))"
      ],
      "execution_count": 0,
      "outputs": []
    },
    {
      "cell_type": "code",
      "metadata": {
        "id": "SgyRksahto90",
        "colab_type": "code",
        "colab": {
          "base_uri": "https://localhost:8080/",
          "height": 809
        },
        "outputId": "a13186df-8b09-40a4-829d-85745d1a9c2e"
      },
      "source": [
        "links_sf_calendar = gather_links('san-francisco','calendar.csv.gz')\n",
        "links_sf_calendar['dt'] = [x.split('/')[6] for x in links_sf_calendar['link']]\n",
        "links_sf_calendar.head()\n",
        "\n",
        "idx = sorted(links_sf_calendar['dt'].unique())\n",
        "for k, dt in enumerate(idx):\n",
        "  print(k, dt)"
      ],
      "execution_count": 7,
      "outputs": [
        {
          "output_type": "stream",
          "text": [
            "0 2015-05-04\n",
            "1 2015-09-02\n",
            "2 2015-11-01\n",
            "3 2015-12-02\n",
            "4 2016-02-02\n",
            "5 2016-04-03\n",
            "6 2016-05-02\n",
            "7 2016-06-02\n",
            "8 2016-07-02\n",
            "9 2016-08-02\n",
            "10 2016-09-02\n",
            "11 2016-10-01\n",
            "12 2016-11-02\n",
            "13 2016-12-03\n",
            "14 2017-01-01\n",
            "15 2017-02-02\n",
            "16 2017-03-02\n",
            "17 2017-04-02\n",
            "18 2017-05-02\n",
            "19 2017-06-02\n",
            "20 2017-07-02\n",
            "21 2017-08-02\n",
            "22 2017-09-02\n",
            "23 2017-10-02\n",
            "24 2017-11-01\n",
            "25 2017-11-08\n",
            "26 2017-12-02\n",
            "27 2017-12-07\n",
            "28 2018-01-10\n",
            "29 2018-01-17\n",
            "30 2018-02-02\n",
            "31 2018-03-04\n",
            "32 2018-04-06\n",
            "33 2018-05-09\n",
            "34 2018-07-05\n",
            "35 2018-08-06\n",
            "36 2018-09-08\n",
            "37 2018-10-03\n",
            "38 2018-11-03\n",
            "39 2018-12-06\n",
            "40 2019-01-09\n",
            "41 2019-02-01\n",
            "42 2019-03-06\n",
            "43 2019-04-03\n",
            "44 2019-05-03\n"
          ],
          "name": "stdout"
        }
      ]
    },
    {
      "cell_type": "code",
      "metadata": {
        "id": "QwX1j1Vtto92",
        "colab_type": "code",
        "colab": {
          "base_uri": "https://localhost:8080/",
          "height": 631
        },
        "outputId": "a06a8864-fe40-4c50-e562-d40df9423e1c"
      },
      "source": [
        "calendar = readin_gz(idx[0],'calendar')     \n",
        "calendar['file_scraped_dt'] = idx[0]\n",
        "\n",
        "\n",
        "for i, dt in enumerate(idx[1:24]):\n",
        "    df = readin_gz(idx[i+1],'calendar')\n",
        "    df['file_scraped_dt'] = dt\n",
        "    print(dt, df['file_scraped_dt'].value_counts())\n",
        "    calendar = pd.concat([calendar, df], ignore_index = True,axis = 0,sort=False)\n",
        "    \n",
        "pre_Nov2017_cal = calendar.copy()\n",
        "pre_Nov2017_cal['file_scraped_dt'].value_counts()"
      ],
      "execution_count": 8,
      "outputs": [
        {
          "output_type": "stream",
          "text": [
            "2015-09-02 2015-09-02    2321765\n",
            "Name: file_scraped_dt, dtype: int64\n",
            "2015-11-01 2015-11-01    2565585\n",
            "Name: file_scraped_dt, dtype: int64\n",
            "2015-12-02 2015-12-02    2615225\n",
            "Name: file_scraped_dt, dtype: int64\n",
            "2016-02-02 2016-02-02    3029135\n",
            "Name: file_scraped_dt, dtype: int64\n",
            "2016-04-03 2016-04-03    2924380\n",
            "Name: file_scraped_dt, dtype: int64\n",
            "2016-05-02 2016-05-02    2951390\n",
            "Name: file_scraped_dt, dtype: int64\n",
            "2016-06-02 2016-06-02    3080600\n",
            "Name: file_scraped_dt, dtype: int64\n"
          ],
          "name": "stdout"
        },
        {
          "output_type": "error",
          "ename": "KeyboardInterrupt",
          "evalue": "ignored",
          "traceback": [
            "\u001b[0;31m---------------------------------------------------------------------------\u001b[0m",
            "\u001b[0;31mKeyboardInterrupt\u001b[0m                         Traceback (most recent call last)",
            "\u001b[0;32m<ipython-input-8-9bb8c5d6237c>\u001b[0m in \u001b[0;36m<module>\u001b[0;34m()\u001b[0m\n\u001b[1;32m      4\u001b[0m \u001b[0;34m\u001b[0m\u001b[0m\n\u001b[1;32m      5\u001b[0m \u001b[0;32mfor\u001b[0m \u001b[0mi\u001b[0m\u001b[0;34m,\u001b[0m \u001b[0mdt\u001b[0m \u001b[0;32min\u001b[0m \u001b[0menumerate\u001b[0m\u001b[0;34m(\u001b[0m\u001b[0midx\u001b[0m\u001b[0;34m[\u001b[0m\u001b[0;36m1\u001b[0m\u001b[0;34m:\u001b[0m\u001b[0;36m24\u001b[0m\u001b[0;34m]\u001b[0m\u001b[0;34m)\u001b[0m\u001b[0;34m:\u001b[0m\u001b[0;34m\u001b[0m\u001b[0;34m\u001b[0m\u001b[0m\n\u001b[0;32m----> 6\u001b[0;31m     \u001b[0mdf\u001b[0m \u001b[0;34m=\u001b[0m \u001b[0mreadin_gz\u001b[0m\u001b[0;34m(\u001b[0m\u001b[0midx\u001b[0m\u001b[0;34m[\u001b[0m\u001b[0mi\u001b[0m\u001b[0;34m+\u001b[0m\u001b[0;36m1\u001b[0m\u001b[0;34m]\u001b[0m\u001b[0;34m,\u001b[0m\u001b[0;34m'calendar'\u001b[0m\u001b[0;34m)\u001b[0m\u001b[0;34m\u001b[0m\u001b[0;34m\u001b[0m\u001b[0m\n\u001b[0m\u001b[1;32m      7\u001b[0m     \u001b[0mdf\u001b[0m\u001b[0;34m[\u001b[0m\u001b[0;34m'file_scraped_dt'\u001b[0m\u001b[0;34m]\u001b[0m \u001b[0;34m=\u001b[0m \u001b[0mdt\u001b[0m\u001b[0;34m\u001b[0m\u001b[0;34m\u001b[0m\u001b[0m\n\u001b[1;32m      8\u001b[0m     \u001b[0mprint\u001b[0m\u001b[0;34m(\u001b[0m\u001b[0mdt\u001b[0m\u001b[0;34m,\u001b[0m \u001b[0mdf\u001b[0m\u001b[0;34m[\u001b[0m\u001b[0;34m'file_scraped_dt'\u001b[0m\u001b[0;34m]\u001b[0m\u001b[0;34m.\u001b[0m\u001b[0mvalue_counts\u001b[0m\u001b[0;34m(\u001b[0m\u001b[0;34m)\u001b[0m\u001b[0;34m)\u001b[0m\u001b[0;34m\u001b[0m\u001b[0;34m\u001b[0m\u001b[0m\n",
            "\u001b[0;32m<ipython-input-5-0e2570cb4803>\u001b[0m in \u001b[0;36mreadin_gz\u001b[0;34m(dt, cat)\u001b[0m\n\u001b[1;32m      2\u001b[0m     \u001b[0murl\u001b[0m \u001b[0;34m=\u001b[0m \u001b[0;34m'http://data.insideairbnb.com/united-states/ca/san-francisco/{}/data/{}.csv.gz'\u001b[0m\u001b[0;34m.\u001b[0m\u001b[0mformat\u001b[0m\u001b[0;34m(\u001b[0m\u001b[0mstr\u001b[0m\u001b[0;34m(\u001b[0m\u001b[0mdt\u001b[0m\u001b[0;34m)\u001b[0m\u001b[0;34m,\u001b[0m\u001b[0mstr\u001b[0m\u001b[0;34m(\u001b[0m\u001b[0mcat\u001b[0m\u001b[0;34m)\u001b[0m\u001b[0;34m)\u001b[0m\u001b[0;34m\u001b[0m\u001b[0;34m\u001b[0m\u001b[0m\n\u001b[1;32m      3\u001b[0m \u001b[0;34m\u001b[0m\u001b[0m\n\u001b[0;32m----> 4\u001b[0;31m     \u001b[0mlistings\u001b[0m \u001b[0;34m=\u001b[0m \u001b[0mpd\u001b[0m\u001b[0;34m.\u001b[0m\u001b[0mread_csv\u001b[0m\u001b[0;34m(\u001b[0m\u001b[0murl\u001b[0m\u001b[0;34m,\u001b[0m\u001b[0mcompression\u001b[0m\u001b[0;34m=\u001b[0m\u001b[0;34m'gzip'\u001b[0m\u001b[0;34m,\u001b[0m\u001b[0mheader\u001b[0m\u001b[0;34m=\u001b[0m\u001b[0;36m0\u001b[0m\u001b[0;34m,\u001b[0m \u001b[0msep\u001b[0m\u001b[0;34m=\u001b[0m\u001b[0;34m','\u001b[0m\u001b[0;34m,\u001b[0m \u001b[0mquotechar\u001b[0m\u001b[0;34m=\u001b[0m\u001b[0;34m'\"'\u001b[0m\u001b[0;34m,\u001b[0m\u001b[0mdtype\u001b[0m\u001b[0;34m=\u001b[0m \u001b[0;34m{\u001b[0m\u001b[0;34m'zipcode'\u001b[0m\u001b[0;34m:\u001b[0m\u001b[0mobject\u001b[0m\u001b[0;34m}\u001b[0m\u001b[0;34m)\u001b[0m\u001b[0;34m\u001b[0m\u001b[0;34m\u001b[0m\u001b[0m\n\u001b[0m\u001b[1;32m      5\u001b[0m     \u001b[0;32mreturn\u001b[0m \u001b[0mlistings\u001b[0m\u001b[0;34m\u001b[0m\u001b[0;34m\u001b[0m\u001b[0m\n\u001b[1;32m      6\u001b[0m \u001b[0;34m\u001b[0m\u001b[0m\n",
            "\u001b[0;32m/usr/local/lib/python3.6/dist-packages/pandas/io/parsers.py\u001b[0m in \u001b[0;36mparser_f\u001b[0;34m(filepath_or_buffer, sep, delimiter, header, names, index_col, usecols, squeeze, prefix, mangle_dupe_cols, dtype, engine, converters, true_values, false_values, skipinitialspace, skiprows, skipfooter, nrows, na_values, keep_default_na, na_filter, verbose, skip_blank_lines, parse_dates, infer_datetime_format, keep_date_col, date_parser, dayfirst, iterator, chunksize, compression, thousands, decimal, lineterminator, quotechar, quoting, doublequote, escapechar, comment, encoding, dialect, tupleize_cols, error_bad_lines, warn_bad_lines, delim_whitespace, low_memory, memory_map, float_precision)\u001b[0m\n\u001b[1;32m    700\u001b[0m                     skip_blank_lines=skip_blank_lines)\n\u001b[1;32m    701\u001b[0m \u001b[0;34m\u001b[0m\u001b[0m\n\u001b[0;32m--> 702\u001b[0;31m         \u001b[0;32mreturn\u001b[0m \u001b[0m_read\u001b[0m\u001b[0;34m(\u001b[0m\u001b[0mfilepath_or_buffer\u001b[0m\u001b[0;34m,\u001b[0m \u001b[0mkwds\u001b[0m\u001b[0;34m)\u001b[0m\u001b[0;34m\u001b[0m\u001b[0;34m\u001b[0m\u001b[0m\n\u001b[0m\u001b[1;32m    703\u001b[0m \u001b[0;34m\u001b[0m\u001b[0m\n\u001b[1;32m    704\u001b[0m     \u001b[0mparser_f\u001b[0m\u001b[0;34m.\u001b[0m\u001b[0m__name__\u001b[0m \u001b[0;34m=\u001b[0m \u001b[0mname\u001b[0m\u001b[0;34m\u001b[0m\u001b[0;34m\u001b[0m\u001b[0m\n",
            "\u001b[0;32m/usr/local/lib/python3.6/dist-packages/pandas/io/parsers.py\u001b[0m in \u001b[0;36m_read\u001b[0;34m(filepath_or_buffer, kwds)\u001b[0m\n\u001b[1;32m    411\u001b[0m     \u001b[0mcompression\u001b[0m \u001b[0;34m=\u001b[0m \u001b[0m_infer_compression\u001b[0m\u001b[0;34m(\u001b[0m\u001b[0mfilepath_or_buffer\u001b[0m\u001b[0;34m,\u001b[0m \u001b[0mcompression\u001b[0m\u001b[0;34m)\u001b[0m\u001b[0;34m\u001b[0m\u001b[0;34m\u001b[0m\u001b[0m\n\u001b[1;32m    412\u001b[0m     filepath_or_buffer, _, compression, should_close = get_filepath_or_buffer(\n\u001b[0;32m--> 413\u001b[0;31m         filepath_or_buffer, encoding, compression)\n\u001b[0m\u001b[1;32m    414\u001b[0m     \u001b[0mkwds\u001b[0m\u001b[0;34m[\u001b[0m\u001b[0;34m'compression'\u001b[0m\u001b[0;34m]\u001b[0m \u001b[0;34m=\u001b[0m \u001b[0mcompression\u001b[0m\u001b[0;34m\u001b[0m\u001b[0;34m\u001b[0m\u001b[0m\n\u001b[1;32m    415\u001b[0m \u001b[0;34m\u001b[0m\u001b[0m\n",
            "\u001b[0;32m/usr/local/lib/python3.6/dist-packages/pandas/io/common.py\u001b[0m in \u001b[0;36mget_filepath_or_buffer\u001b[0;34m(filepath_or_buffer, encoding, compression, mode)\u001b[0m\n\u001b[1;32m    205\u001b[0m             \u001b[0;31m# Override compression based on Content-Encoding header\u001b[0m\u001b[0;34m\u001b[0m\u001b[0;34m\u001b[0m\u001b[0;34m\u001b[0m\u001b[0m\n\u001b[1;32m    206\u001b[0m             \u001b[0mcompression\u001b[0m \u001b[0;34m=\u001b[0m \u001b[0;34m'gzip'\u001b[0m\u001b[0;34m\u001b[0m\u001b[0;34m\u001b[0m\u001b[0m\n\u001b[0;32m--> 207\u001b[0;31m         \u001b[0mreader\u001b[0m \u001b[0;34m=\u001b[0m \u001b[0mBytesIO\u001b[0m\u001b[0;34m(\u001b[0m\u001b[0mreq\u001b[0m\u001b[0;34m.\u001b[0m\u001b[0mread\u001b[0m\u001b[0;34m(\u001b[0m\u001b[0;34m)\u001b[0m\u001b[0;34m)\u001b[0m\u001b[0;34m\u001b[0m\u001b[0;34m\u001b[0m\u001b[0m\n\u001b[0m\u001b[1;32m    208\u001b[0m         \u001b[0mreq\u001b[0m\u001b[0;34m.\u001b[0m\u001b[0mclose\u001b[0m\u001b[0;34m(\u001b[0m\u001b[0;34m)\u001b[0m\u001b[0;34m\u001b[0m\u001b[0;34m\u001b[0m\u001b[0m\n\u001b[1;32m    209\u001b[0m         \u001b[0;32mreturn\u001b[0m \u001b[0mreader\u001b[0m\u001b[0;34m,\u001b[0m \u001b[0mencoding\u001b[0m\u001b[0;34m,\u001b[0m \u001b[0mcompression\u001b[0m\u001b[0;34m,\u001b[0m \u001b[0;32mTrue\u001b[0m\u001b[0;34m\u001b[0m\u001b[0;34m\u001b[0m\u001b[0m\n",
            "\u001b[0;32m/usr/lib/python3.6/http/client.py\u001b[0m in \u001b[0;36mread\u001b[0;34m(self, amt)\u001b[0m\n\u001b[1;32m    460\u001b[0m             \u001b[0;32melse\u001b[0m\u001b[0;34m:\u001b[0m\u001b[0;34m\u001b[0m\u001b[0;34m\u001b[0m\u001b[0m\n\u001b[1;32m    461\u001b[0m                 \u001b[0;32mtry\u001b[0m\u001b[0;34m:\u001b[0m\u001b[0;34m\u001b[0m\u001b[0;34m\u001b[0m\u001b[0m\n\u001b[0;32m--> 462\u001b[0;31m                     \u001b[0ms\u001b[0m \u001b[0;34m=\u001b[0m \u001b[0mself\u001b[0m\u001b[0;34m.\u001b[0m\u001b[0m_safe_read\u001b[0m\u001b[0;34m(\u001b[0m\u001b[0mself\u001b[0m\u001b[0;34m.\u001b[0m\u001b[0mlength\u001b[0m\u001b[0;34m)\u001b[0m\u001b[0;34m\u001b[0m\u001b[0;34m\u001b[0m\u001b[0m\n\u001b[0m\u001b[1;32m    463\u001b[0m                 \u001b[0;32mexcept\u001b[0m \u001b[0mIncompleteRead\u001b[0m\u001b[0;34m:\u001b[0m\u001b[0;34m\u001b[0m\u001b[0;34m\u001b[0m\u001b[0m\n\u001b[1;32m    464\u001b[0m                     \u001b[0mself\u001b[0m\u001b[0;34m.\u001b[0m\u001b[0m_close_conn\u001b[0m\u001b[0;34m(\u001b[0m\u001b[0;34m)\u001b[0m\u001b[0;34m\u001b[0m\u001b[0;34m\u001b[0m\u001b[0m\n",
            "\u001b[0;32m/usr/lib/python3.6/http/client.py\u001b[0m in \u001b[0;36m_safe_read\u001b[0;34m(self, amt)\u001b[0m\n\u001b[1;32m    610\u001b[0m         \u001b[0ms\u001b[0m \u001b[0;34m=\u001b[0m \u001b[0;34m[\u001b[0m\u001b[0;34m]\u001b[0m\u001b[0;34m\u001b[0m\u001b[0;34m\u001b[0m\u001b[0m\n\u001b[1;32m    611\u001b[0m         \u001b[0;32mwhile\u001b[0m \u001b[0mamt\u001b[0m \u001b[0;34m>\u001b[0m \u001b[0;36m0\u001b[0m\u001b[0;34m:\u001b[0m\u001b[0;34m\u001b[0m\u001b[0;34m\u001b[0m\u001b[0m\n\u001b[0;32m--> 612\u001b[0;31m             \u001b[0mchunk\u001b[0m \u001b[0;34m=\u001b[0m \u001b[0mself\u001b[0m\u001b[0;34m.\u001b[0m\u001b[0mfp\u001b[0m\u001b[0;34m.\u001b[0m\u001b[0mread\u001b[0m\u001b[0;34m(\u001b[0m\u001b[0mmin\u001b[0m\u001b[0;34m(\u001b[0m\u001b[0mamt\u001b[0m\u001b[0;34m,\u001b[0m \u001b[0mMAXAMOUNT\u001b[0m\u001b[0;34m)\u001b[0m\u001b[0;34m)\u001b[0m\u001b[0;34m\u001b[0m\u001b[0;34m\u001b[0m\u001b[0m\n\u001b[0m\u001b[1;32m    613\u001b[0m             \u001b[0;32mif\u001b[0m \u001b[0;32mnot\u001b[0m \u001b[0mchunk\u001b[0m\u001b[0;34m:\u001b[0m\u001b[0;34m\u001b[0m\u001b[0;34m\u001b[0m\u001b[0m\n\u001b[1;32m    614\u001b[0m                 \u001b[0;32mraise\u001b[0m \u001b[0mIncompleteRead\u001b[0m\u001b[0;34m(\u001b[0m\u001b[0;34mb''\u001b[0m\u001b[0;34m.\u001b[0m\u001b[0mjoin\u001b[0m\u001b[0;34m(\u001b[0m\u001b[0ms\u001b[0m\u001b[0;34m)\u001b[0m\u001b[0;34m,\u001b[0m \u001b[0mamt\u001b[0m\u001b[0;34m)\u001b[0m\u001b[0;34m\u001b[0m\u001b[0;34m\u001b[0m\u001b[0m\n",
            "\u001b[0;32m/usr/lib/python3.6/socket.py\u001b[0m in \u001b[0;36mreadinto\u001b[0;34m(self, b)\u001b[0m\n\u001b[1;32m    584\u001b[0m         \u001b[0;32mwhile\u001b[0m \u001b[0;32mTrue\u001b[0m\u001b[0;34m:\u001b[0m\u001b[0;34m\u001b[0m\u001b[0;34m\u001b[0m\u001b[0m\n\u001b[1;32m    585\u001b[0m             \u001b[0;32mtry\u001b[0m\u001b[0;34m:\u001b[0m\u001b[0;34m\u001b[0m\u001b[0;34m\u001b[0m\u001b[0m\n\u001b[0;32m--> 586\u001b[0;31m                 \u001b[0;32mreturn\u001b[0m \u001b[0mself\u001b[0m\u001b[0;34m.\u001b[0m\u001b[0m_sock\u001b[0m\u001b[0;34m.\u001b[0m\u001b[0mrecv_into\u001b[0m\u001b[0;34m(\u001b[0m\u001b[0mb\u001b[0m\u001b[0;34m)\u001b[0m\u001b[0;34m\u001b[0m\u001b[0;34m\u001b[0m\u001b[0m\n\u001b[0m\u001b[1;32m    587\u001b[0m             \u001b[0;32mexcept\u001b[0m \u001b[0mtimeout\u001b[0m\u001b[0;34m:\u001b[0m\u001b[0;34m\u001b[0m\u001b[0;34m\u001b[0m\u001b[0m\n\u001b[1;32m    588\u001b[0m                 \u001b[0mself\u001b[0m\u001b[0;34m.\u001b[0m\u001b[0m_timeout_occurred\u001b[0m \u001b[0;34m=\u001b[0m \u001b[0;32mTrue\u001b[0m\u001b[0;34m\u001b[0m\u001b[0;34m\u001b[0m\u001b[0m\n",
            "\u001b[0;31mKeyboardInterrupt\u001b[0m: "
          ]
        }
      ]
    },
    {
      "cell_type": "code",
      "metadata": {
        "id": "ISkf5y21to94",
        "colab_type": "code",
        "colab": {},
        "outputId": "c004a0c2-119d-40c4-9953-3b36c92c3ae8"
      },
      "source": [
        "calendar.shape[0]/1000000 "
      ],
      "execution_count": 0,
      "outputs": [
        {
          "output_type": "execute_result",
          "data": {
            "text/plain": [
              "(122200175, 8)"
            ]
          },
          "metadata": {
            "tags": []
          },
          "execution_count": 30
        }
      ]
    },
    {
      "cell_type": "code",
      "metadata": {
        "id": "eLBN9_Rbto96",
        "colab_type": "code",
        "colab": {},
        "outputId": "b2ab458c-d446-4fe2-8a4d-c6c4ff9dae73"
      },
      "source": [
        "cal_cols = calendar.columns\n",
        "cal_cols"
      ],
      "execution_count": 0,
      "outputs": [
        {
          "output_type": "execute_result",
          "data": {
            "text/plain": [
              "Index(['listing_id', 'date', 'available', 'price', 'adjusted_price',\n",
              "       'minimum_nights', 'maximum_nights'],\n",
              "      dtype='object')"
            ]
          },
          "metadata": {
            "tags": []
          },
          "execution_count": 10
        }
      ]
    },
    {
      "cell_type": "code",
      "metadata": {
        "id": "bs6r3zrqto98",
        "colab_type": "code",
        "colab": {},
        "outputId": "26b13308-1318-460f-8d2d-002308adfa4d"
      },
      "source": [
        "calendar['is_duplicated'] = calendar.duplicated(cal_cols)\n",
        "calendar['is_duplicated'].sum()\n",
        "\n",
        "calendar_u = calendar[calendar['is_duplicated'] == False].drop(['is_duplicated'],axis=1)\n",
        "calendar_u.shape"
      ],
      "execution_count": 0,
      "outputs": [
        {
          "output_type": "execute_result",
          "data": {
            "text/plain": [
              "81501098"
            ]
          },
          "metadata": {
            "tags": []
          },
          "execution_count": 11
        },
        {
          "output_type": "execute_result",
          "data": {
            "text/plain": [
              "(40699077, 7)"
            ]
          },
          "metadata": {
            "tags": []
          },
          "execution_count": 11
        }
      ]
    },
    {
      "cell_type": "code",
      "metadata": {
        "id": "AB-SVaCTto-A",
        "colab_type": "code",
        "colab": {},
        "outputId": "b49e964a-0105-4854-a3ab-8f7bf684cb39"
      },
      "source": [
        "calendar_u.head()"
      ],
      "execution_count": 0,
      "outputs": [
        {
          "output_type": "execute_result",
          "data": {
            "text/html": [
              "<div>\n",
              "<style scoped>\n",
              "    .dataframe tbody tr th:only-of-type {\n",
              "        vertical-align: middle;\n",
              "    }\n",
              "\n",
              "    .dataframe tbody tr th {\n",
              "        vertical-align: top;\n",
              "    }\n",
              "\n",
              "    .dataframe thead th {\n",
              "        text-align: right;\n",
              "    }\n",
              "</style>\n",
              "<table border=\"1\" class=\"dataframe\">\n",
              "  <thead>\n",
              "    <tr style=\"text-align: right;\">\n",
              "      <th></th>\n",
              "      <th>listing_id</th>\n",
              "      <th>date</th>\n",
              "      <th>available</th>\n",
              "      <th>price</th>\n",
              "      <th>adjusted_price</th>\n",
              "      <th>minimum_nights</th>\n",
              "      <th>maximum_nights</th>\n",
              "    </tr>\n",
              "  </thead>\n",
              "  <tbody>\n",
              "    <tr>\n",
              "      <th>0</th>\n",
              "      <td>34158472</td>\n",
              "      <td>2019-05-03</td>\n",
              "      <td>f</td>\n",
              "      <td>$399.00</td>\n",
              "      <td>$399.00</td>\n",
              "      <td>2.0</td>\n",
              "      <td>1125.0</td>\n",
              "    </tr>\n",
              "    <tr>\n",
              "      <th>1</th>\n",
              "      <td>34158472</td>\n",
              "      <td>2019-05-04</td>\n",
              "      <td>f</td>\n",
              "      <td>$399.00</td>\n",
              "      <td>$399.00</td>\n",
              "      <td>2.0</td>\n",
              "      <td>1125.0</td>\n",
              "    </tr>\n",
              "    <tr>\n",
              "      <th>2</th>\n",
              "      <td>34158472</td>\n",
              "      <td>2019-05-05</td>\n",
              "      <td>t</td>\n",
              "      <td>$399.00</td>\n",
              "      <td>$399.00</td>\n",
              "      <td>2.0</td>\n",
              "      <td>1125.0</td>\n",
              "    </tr>\n",
              "    <tr>\n",
              "      <th>3</th>\n",
              "      <td>34158472</td>\n",
              "      <td>2019-05-06</td>\n",
              "      <td>t</td>\n",
              "      <td>$399.00</td>\n",
              "      <td>$399.00</td>\n",
              "      <td>2.0</td>\n",
              "      <td>1125.0</td>\n",
              "    </tr>\n",
              "    <tr>\n",
              "      <th>4</th>\n",
              "      <td>34158472</td>\n",
              "      <td>2019-05-07</td>\n",
              "      <td>t</td>\n",
              "      <td>$399.00</td>\n",
              "      <td>$399.00</td>\n",
              "      <td>2.0</td>\n",
              "      <td>1125.0</td>\n",
              "    </tr>\n",
              "  </tbody>\n",
              "</table>\n",
              "</div>"
            ],
            "text/plain": [
              "   listing_id        date available    price adjusted_price  minimum_nights  \\\n",
              "0    34158472  2019-05-03         f  $399.00        $399.00             2.0   \n",
              "1    34158472  2019-05-04         f  $399.00        $399.00             2.0   \n",
              "2    34158472  2019-05-05         t  $399.00        $399.00             2.0   \n",
              "3    34158472  2019-05-06         t  $399.00        $399.00             2.0   \n",
              "4    34158472  2019-05-07         t  $399.00        $399.00             2.0   \n",
              "\n",
              "   maximum_nights  \n",
              "0          1125.0  \n",
              "1          1125.0  \n",
              "2          1125.0  \n",
              "3          1125.0  \n",
              "4          1125.0  "
            ]
          },
          "metadata": {
            "tags": []
          },
          "execution_count": 12
        }
      ]
    },
    {
      "cell_type": "code",
      "metadata": {
        "id": "s7wuts8ito-D",
        "colab_type": "code",
        "colab": {}
      },
      "source": [
        "pickle.dump(calendar_u, open('all_SF_calendar.p','wb'))"
      ],
      "execution_count": 0,
      "outputs": []
    },
    {
      "cell_type": "code",
      "metadata": {
        "id": "p2fSIjj7to-G",
        "colab_type": "code",
        "colab": {}
      },
      "source": [
        "# listings['has_availability'].value_counts()"
      ],
      "execution_count": 0,
      "outputs": []
    },
    {
      "cell_type": "code",
      "metadata": {
        "id": "nt_toH3oto-I",
        "colab_type": "code",
        "colab": {}
      },
      "source": [
        "#  pd.crosstab(listings_u['property_type'].str.upper(), listings_u['room_type'].str.upper(), margins=True)"
      ],
      "execution_count": 0,
      "outputs": []
    },
    {
      "cell_type": "code",
      "metadata": {
        "id": "OUIzq72Pto-J",
        "colab_type": "code",
        "colab": {}
      },
      "source": [
        "# len(listings_u['host_id'].unique())"
      ],
      "execution_count": 0,
      "outputs": []
    },
    {
      "cell_type": "code",
      "metadata": {
        "id": "Awpleyl2to-K",
        "colab_type": "code",
        "colab": {}
      },
      "source": [
        "# len(listings_u['id'].unique())"
      ],
      "execution_count": 0,
      "outputs": []
    },
    {
      "cell_type": "code",
      "metadata": {
        "id": "RRmK52LAto-M",
        "colab_type": "code",
        "colab": {}
      },
      "source": [
        "# listings_u['neighbourhood'].str.upper().value_counts().reset_index()"
      ],
      "execution_count": 0,
      "outputs": []
    },
    {
      "cell_type": "code",
      "metadata": {
        "id": "UginmAKQto-R",
        "colab_type": "code",
        "colab": {}
      },
      "source": [
        "# listings_u['zipcode'] = listings_u['zipcode'].astype(str).str.zfill(5)[:-2]"
      ],
      "execution_count": 0,
      "outputs": []
    },
    {
      "cell_type": "code",
      "metadata": {
        "id": "FxuWB8Sdto-W",
        "colab_type": "code",
        "colab": {}
      },
      "source": [
        "# listings_u = listings_u.set_index(pd.DatetimeIndex(listings_u['last_scraped']))"
      ],
      "execution_count": 0,
      "outputs": []
    },
    {
      "cell_type": "code",
      "metadata": {
        "id": "qW_yxjrQto-Z",
        "colab_type": "code",
        "colab": {}
      },
      "source": [
        "# m_ls = listings_u.resample('M').size().reset_index(name='Counts') \n",
        "# m_ls = m_ls[m_ls['Counts']>0]\n",
        "# m_ls"
      ],
      "execution_count": 0,
      "outputs": []
    },
    {
      "cell_type": "code",
      "metadata": {
        "id": "lrySlXVMto-a",
        "colab_type": "code",
        "colab": {}
      },
      "source": [
        "# pd.crosstab(listings_u['last_scraped'], listings_u['has_availability'],margins=True)"
      ],
      "execution_count": 0,
      "outputs": []
    },
    {
      "cell_type": "code",
      "metadata": {
        "id": "Aonpmmf_to-b",
        "colab_type": "code",
        "colab": {}
      },
      "source": [
        ""
      ],
      "execution_count": 0,
      "outputs": []
    }
  ]
}