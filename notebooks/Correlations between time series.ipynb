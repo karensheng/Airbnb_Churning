{
 "cells": [
  {
   "cell_type": "code",
   "execution_count": 5,
   "metadata": {},
   "outputs": [
    {
     "name": "stdout",
     "output_type": "stream",
     "text": [
      "Collecting tslearn\n",
      "  Downloading https://files.pythonhosted.org/packages/af/f9/7225f4b1e7ba482b10b544cecf50a0a92bfbbde4ec30fdce824a867ad9ab/tslearn-0.1.29.tar.gz (587kB)\n",
      "Requirement already satisfied: numpy in c:\\users\\ksher\\appdata\\local\\continuum\\anaconda3\\lib\\site-packages (from tslearn) (1.15.4)\n",
      "Requirement already satisfied: scipy in c:\\users\\ksher\\appdata\\local\\continuum\\anaconda3\\lib\\site-packages (from tslearn) (1.1.0)\n",
      "Requirement already satisfied: scikit-learn in c:\\users\\ksher\\appdata\\local\\continuum\\anaconda3\\lib\\site-packages (from tslearn) (0.20.1)\n",
      "Requirement already satisfied: Cython in c:\\users\\ksher\\appdata\\local\\continuum\\anaconda3\\lib\\site-packages (from tslearn) (0.29.2)\n",
      "Building wheels for collected packages: tslearn\n",
      "  Running setup.py bdist_wheel for tslearn: started\n",
      "  Running setup.py bdist_wheel for tslearn: finished with status 'error'\n",
      "  Complete output from command C:\\Users\\ksher\\AppData\\Local\\Continuum\\anaconda3\\python.exe -u -c \"import setuptools, tokenize;__file__='C:\\\\Users\\\\ksher\\\\AppData\\\\Local\\\\Temp\\\\pip-install-1zjwf65t\\\\tslearn\\\\setup.py';f=getattr(tokenize, 'open', open)(__file__);code=f.read().replace('\\r\\n', '\\n');f.close();exec(compile(code, __file__, 'exec'))\" bdist_wheel -d C:\\Users\\ksher\\AppData\\Local\\Temp\\pip-wheel-lkta7a4j --python-tag cp37:\n",
      "  running bdist_wheel\n",
      "  running build\n",
      "  running build_py\n",
      "  creating build\n",
      "  creating build\\lib.win-amd64-3.7\n",
      "  creating build\\lib.win-amd64-3.7\\tslearn\n",
      "  copying tslearn\\barycenters.py -> build\\lib.win-amd64-3.7\\tslearn\n",
      "  copying tslearn\\clustering.py -> build\\lib.win-amd64-3.7\\tslearn\n",
      "  copying tslearn\\datasets.py -> build\\lib.win-amd64-3.7\\tslearn\n",
      "  copying tslearn\\generators.py -> build\\lib.win-amd64-3.7\\tslearn\n",
      "  copying tslearn\\metrics.py -> build\\lib.win-amd64-3.7\\tslearn\n",
      "  copying tslearn\\neighbors.py -> build\\lib.win-amd64-3.7\\tslearn\n",
      "  copying tslearn\\piecewise.py -> build\\lib.win-amd64-3.7\\tslearn\n",
      "  copying tslearn\\preprocessing.py -> build\\lib.win-amd64-3.7\\tslearn\n",
      "  copying tslearn\\shapelets.py -> build\\lib.win-amd64-3.7\\tslearn\n",
      "  copying tslearn\\svm.py -> build\\lib.win-amd64-3.7\\tslearn\n",
      "  copying tslearn\\utils.py -> build\\lib.win-amd64-3.7\\tslearn\n",
      "  copying tslearn\\__init__.py -> build\\lib.win-amd64-3.7\\tslearn\n",
      "  creating build\\lib.win-amd64-3.7\\tslearn\\.cached_datasets\n",
      "  copying tslearn\\.cached_datasets\\Trace.npz -> build\\lib.win-amd64-3.7\\tslearn\\.cached_datasets\n",
      "  running build_ext\n",
      "  skipping 'tslearn\\cydtw.c' Cython extension (up-to-date)\n",
      "  building 'tslearn.cydtw' extension\n",
      "  error: Microsoft Visual C++ 14.0 is required. Get it with \"Microsoft Visual C++ Build Tools\": https://visualstudio.microsoft.com/downloads/\n",
      "  \n",
      "  ----------------------------------------\n",
      "  Running setup.py clean for tslearn\n",
      "Failed to build tslearn\n",
      "Installing collected packages: tslearn\n",
      "  Running setup.py install for tslearn: started\n",
      "    Running setup.py install for tslearn: finished with status 'error'\n",
      "    Complete output from command C:\\Users\\ksher\\AppData\\Local\\Continuum\\anaconda3\\python.exe -u -c \"import setuptools, tokenize;__file__='C:\\\\Users\\\\ksher\\\\AppData\\\\Local\\\\Temp\\\\pip-install-1zjwf65t\\\\tslearn\\\\setup.py';f=getattr(tokenize, 'open', open)(__file__);code=f.read().replace('\\r\\n', '\\n');f.close();exec(compile(code, __file__, 'exec'))\" install --record C:\\Users\\ksher\\AppData\\Local\\Temp\\pip-record-nzzuzz05\\install-record.txt --single-version-externally-managed --compile:\n",
      "    running install\n",
      "    running build\n",
      "    running build_py\n",
      "    creating build\n",
      "    creating build\\lib.win-amd64-3.7\n",
      "    creating build\\lib.win-amd64-3.7\\tslearn\n",
      "    copying tslearn\\barycenters.py -> build\\lib.win-amd64-3.7\\tslearn\n",
      "    copying tslearn\\clustering.py -> build\\lib.win-amd64-3.7\\tslearn\n",
      "    copying tslearn\\datasets.py -> build\\lib.win-amd64-3.7\\tslearn\n",
      "    copying tslearn\\generators.py -> build\\lib.win-amd64-3.7\\tslearn\n",
      "    copying tslearn\\metrics.py -> build\\lib.win-amd64-3.7\\tslearn\n",
      "    copying tslearn\\neighbors.py -> build\\lib.win-amd64-3.7\\tslearn\n",
      "    copying tslearn\\piecewise.py -> build\\lib.win-amd64-3.7\\tslearn\n",
      "    copying tslearn\\preprocessing.py -> build\\lib.win-amd64-3.7\\tslearn\n",
      "    copying tslearn\\shapelets.py -> build\\lib.win-amd64-3.7\\tslearn\n",
      "    copying tslearn\\svm.py -> build\\lib.win-amd64-3.7\\tslearn\n",
      "    copying tslearn\\utils.py -> build\\lib.win-amd64-3.7\\tslearn\n",
      "    copying tslearn\\__init__.py -> build\\lib.win-amd64-3.7\\tslearn\n",
      "    creating build\\lib.win-amd64-3.7\\tslearn\\.cached_datasets\n",
      "    copying tslearn\\.cached_datasets\\Trace.npz -> build\\lib.win-amd64-3.7\\tslearn\\.cached_datasets\n",
      "    running build_ext\n",
      "    skipping 'tslearn\\cydtw.c' Cython extension (up-to-date)\n",
      "    building 'tslearn.cydtw' extension\n",
      "    error: Microsoft Visual C++ 14.0 is required. Get it with \"Microsoft Visual C++ Build Tools\": https://visualstudio.microsoft.com/downloads/\n",
      "    \n",
      "    ----------------------------------------\n"
     ]
    },
    {
     "name": "stderr",
     "output_type": "stream",
     "text": [
      "  Failed building wheel for tslearn\n",
      "Command \"C:\\Users\\ksher\\AppData\\Local\\Continuum\\anaconda3\\python.exe -u -c \"import setuptools, tokenize;__file__='C:\\\\Users\\\\ksher\\\\AppData\\\\Local\\\\Temp\\\\pip-install-1zjwf65t\\\\tslearn\\\\setup.py';f=getattr(tokenize, 'open', open)(__file__);code=f.read().replace('\\r\\n', '\\n');f.close();exec(compile(code, __file__, 'exec'))\" install --record C:\\Users\\ksher\\AppData\\Local\\Temp\\pip-record-nzzuzz05\\install-record.txt --single-version-externally-managed --compile\" failed with error code 1 in C:\\Users\\ksher\\AppData\\Local\\Temp\\pip-install-1zjwf65t\\tslearn\\\n"
     ]
    }
   ],
   "source": [
    "!pip install tslearn"
   ]
  },
  {
   "cell_type": "code",
   "execution_count": 1,
   "metadata": {},
   "outputs": [],
   "source": [
    "import pandas as pd\n",
    "import numpy as np\n",
    "%matplotlib inline\n",
    "import matplotlib.pyplot as plt\n",
    "import seaborn as sns\n",
    "import scipy.stats as stats"
   ]
  },
  {
   "cell_type": "code",
   "execution_count": null,
   "metadata": {},
   "outputs": [],
   "source": [
    "from dtaidistance import dtw\n",
    "from dtaidistance import dtw_visualisation as dtwvis"
   ]
  },
  {
   "cell_type": "markdown",
   "metadata": {},
   "source": [
    "#### Calucate correlations between the time series in the pre-period."
   ]
  },
  {
   "cell_type": "markdown",
   "metadata": {},
   "source": [
    "1. Pearson Correlation"
   ]
  },
  {
   "cell_type": "code",
   "execution_count": 32,
   "metadata": {},
   "outputs": [],
   "source": [
    "df = pd.read_csv('../data/comp_price.csv')\n",
    "df = df.drop('date.1', axis =1)\n",
    "df = df.drop('date', axis =1)\n",
    "\n",
    "# df.iloc[:131]"
   ]
  },
  {
   "cell_type": "code",
   "execution_count": 26,
   "metadata": {},
   "outputs": [
    {
     "data": {
      "text/plain": [
       "date                  2018-01-14\n",
       "Portland_avg_price       65.9312\n",
       "SF_avg_price             135.464\n",
       "Name: 141, dtype: object"
      ]
     },
     "execution_count": 26,
     "metadata": {},
     "output_type": "execute_result"
    }
   ],
   "source": [
    "# df.iloc[:141]"
   ]
  },
  {
   "cell_type": "code",
   "execution_count": 37,
   "metadata": {},
   "outputs": [],
   "source": [
    "def pearson_corr(idx,dt):\n",
    "\n",
    "    pre_df = df.iloc[:idx]\n",
    "    overall_pearson_r = pre_df.corr().iloc[0,1]\n",
    "    print(f\"Pandas computed Pearson r up to {dt}: {overall_pearson_r}\")\n",
    "\n",
    "\n",
    "    r, p = stats.pearsonr(pre_df.dropna()['Portland_avg_price'], pre_df.dropna()['SF_avg_price'])\n",
    "    print(f\"Scipy computed Pearson r: {r} and p-value: {p}\")\n",
    "\n",
    "\n",
    "    # Compute rolling window synchrony\n",
    "    f,ax=plt.subplots(figsize=(7,3))\n",
    "    df.rolling(window=30,center=True).median().plot(ax=ax)\n",
    "    ax.set(xlabel='Time',ylabel='Pearson r')\n",
    "    ax.set(title=f\"Overall Pearson Up to {dt} r = {np.round(overall_pearson_r,2)}\");"
   ]
  },
  {
   "cell_type": "code",
   "execution_count": 38,
   "metadata": {},
   "outputs": [
    {
     "name": "stdout",
     "output_type": "stream",
     "text": [
      "Pandas computed Pearson r up to 2017-10-29: 0.689303909073568\n",
      "Scipy computed Pearson r: 0.6893039090735681 and p-value: 4.517683536973997e-19\n"
     ]
    },
    {
     "data": {
      "image/png": "[encoded data removed]",
      "text/plain": [
       "<Figure size 504x216 with 1 Axes>"
      ]
     },
     "metadata": {
      "needs_background": "light"
     },
     "output_type": "display_data"
    }
   ],
   "source": [
    "pearson_corr(131,'2017-10-29')"
   ]
  },
  {
   "cell_type": "code",
   "execution_count": 40,
   "metadata": {},
   "outputs": [
    {
     "name": "stdout",
     "output_type": "stream",
     "text": [
      "Pandas computed Pearson r up to 2018-01-14: 0.6750300861223838\n",
      "Scipy computed Pearson r: 0.6750300861223839 and p-value: 2.030135441463852e-19\n"
     ]
    },
    {
     "data": {
      "image/png": "[encoded data removed]",
      "text/plain": [
       "<Figure size 504x216 with 1 Axes>"
      ]
     },
     "metadata": {
      "needs_background": "light"
     },
     "output_type": "display_data"
    }
   ],
   "source": [
    "pearson_corr(141,'2018-01-14')"
   ]
  },
  {
   "cell_type": "code",
   "execution_count": 81,
   "metadata": {},
   "outputs": [
    {
     "data": {
      "text/plain": [
       "<matplotlib.legend.Legend at 0x219b8b1b7f0>"
      ]
     },
     "execution_count": 81,
     "metadata": {},
     "output_type": "execute_result"
    },
    {
     "data": {
      "image/png": "[encoded data removed]",
      "text/plain": [
       "<Figure size 1008x216 with 1 Axes>"
      ]
     },
     "metadata": {
      "needs_background": "light"
     },
     "output_type": "display_data"
    }
   ],
   "source": [
    "def crosscorr(datax, datay, lag=0, wrap=False):\n",
    "    \"\"\" Lag-N cross correlation. \n",
    "    Shifted data filled with NaNs \n",
    "    \n",
    "    Parameters\n",
    "    ----------\n",
    "    lag : int, default 0\n",
    "    datax, datay : pandas.Series objects of equal length\n",
    "    Returns\n",
    "    ----------\n",
    "    crosscorr : float\n",
    "    \"\"\"\n",
    "    \n",
    "    \n",
    "    \n",
    "    if wrap:\n",
    "        shiftedy = datay.shift(lag)\n",
    "        shiftedy.iloc[:lag] = datay.iloc[-lag:].values\n",
    "        return datax.corr(shiftedy)\n",
    "    else: \n",
    "        return datax.corr(datay.shift(lag))\n",
    "\n",
    "pre_df = df[:131]\n",
    "d1 = pre_df['Portland_avg_price']\n",
    "d2 = pre_df['SF_avg_price']\n",
    "\n",
    "\n",
    "\n",
    "rs = [crosscorr(d1,d2, lag) for lag in range(52)]\n",
    "offset = np.ceil(len(rs)/2)-np.argmax(rs)\n",
    "f,ax=plt.subplots(figsize=(14,3))\n",
    "ax.plot(rs)\n",
    "ax.axvline(np.ceil(len(rs)/2),color='k',linestyle='--',label='Center')\n",
    "ax.axvline(np.argmax(rs),color='r',linestyle='--',label='Peak synchrony')\n",
    "ax.set(title=f'Offset = {offset} weeks\\n Portland leads <> SF leads',ylim=[-.1,1],xlim=[-200,500], xlabel='Offset',ylabel='Pearson r')\n",
    "ax.set_xticklabels([int(item-150) for item in ax.get_xticks()])\n",
    "plt.legend()"
   ]
  },
  {
   "cell_type": "code",
   "execution_count": 96,
   "metadata": {},
   "outputs": [
    {
     "ename": "ModuleNotFoundError",
     "evalue": "No module named 'dtaidistance'",
     "output_type": "error",
     "traceback": [
      "\u001b[1;31m---------------------------------------------------------------------------\u001b[0m",
      "\u001b[1;31mModuleNotFoundError\u001b[0m                       Traceback (most recent call last)",
      "\u001b[1;32m<ipython-input-96-39ce7e4df5b4>\u001b[0m in \u001b[0;36m<module>\u001b[1;34m\u001b[0m\n\u001b[1;32m----> 1\u001b[1;33m \u001b[1;32mfrom\u001b[0m \u001b[0mdtaidistance\u001b[0m \u001b[1;32mimport\u001b[0m \u001b[0mdtw\u001b[0m\u001b[1;33m\u001b[0m\u001b[1;33m\u001b[0m\u001b[0m\n\u001b[0m\u001b[0;32m      2\u001b[0m \u001b[1;32mimport\u001b[0m \u001b[0mnumpy\u001b[0m \u001b[1;32mas\u001b[0m \u001b[0mnp\u001b[0m\u001b[1;33m\u001b[0m\u001b[1;33m\u001b[0m\u001b[0m\n\u001b[0;32m      3\u001b[0m \u001b[1;33m\u001b[0m\u001b[0m\n\u001b[0;32m      4\u001b[0m \u001b[0ms1\u001b[0m \u001b[1;33m=\u001b[0m \u001b[0mnp\u001b[0m\u001b[1;33m.\u001b[0m\u001b[0masarray\u001b[0m\u001b[1;33m(\u001b[0m\u001b[0mpre_df\u001b[0m\u001b[1;33m[\u001b[0m\u001b[1;34m'SF_avg_price'\u001b[0m\u001b[1;33m]\u001b[0m\u001b[1;33m)\u001b[0m\u001b[1;33m\u001b[0m\u001b[1;33m\u001b[0m\u001b[0m\n\u001b[0;32m      5\u001b[0m \u001b[1;33m\u001b[0m\u001b[0m\n",
      "\u001b[1;31mModuleNotFoundError\u001b[0m: No module named 'dtaidistance'"
     ]
    }
   ],
   "source": [
    "# https://dtaidistance.readthedocs.io/en/latest/usage/dtw.html\n",
    "\n",
    "s1 = np.asarray(pre_df['SF_avg_price'])\n",
    "\n",
    "s2 = np.asarray(pre_df['Portland_avg_price'])\n",
    "\n",
    "d = dtw.distance_fast(s1, s2)"
   ]
  },
  {
   "cell_type": "code",
   "execution_count": null,
   "metadata": {},
   "outputs": [],
   "source": []
  }
 ],
 "metadata": {
  "kernelspec": {
   "display_name": "Python 3",
   "language": "python",
   "name": "python3"
  },
  "language_info": {
   "codemirror_mode": {
    "name": "ipython",
    "version": 3
   },
   "file_extension": ".py",
   "mimetype": "text/x-python",
   "name": "python",
   "nbconvert_exporter": "python",
   "pygments_lexer": "ipython3",
   "version": "3.7.1"
  }
 },
 "nbformat": 4,
 "nbformat_minor": 2
}
